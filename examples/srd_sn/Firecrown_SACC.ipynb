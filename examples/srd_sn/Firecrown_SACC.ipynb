{
 "cells": [
  {
   "cell_type": "markdown",
   "id": "d9b3f5c0-98b6-4884-82fc-fd8963b4580b",
   "metadata": {},
   "source": [
    "### SUPERNOVA\n",
    "### Firecrown-SACC Demo Notebook\n",
    "#### Ayan Mitra\n",
    "##### Aug, 2022"
   ]
  },
  {
   "cell_type": "markdown",
   "id": "3394a15d-ca56-41b3-a76a-b542427c54e7",
   "metadata": {},
   "source": [
    "#### In this notebook we demonstrate how any given SN input Hubble Diagram and an associated covariance matrix can be converted into a `SACC` summary statistics file."
   ]
  },
  {
   "cell_type": "code",
   "execution_count": 2,
   "id": "31c39035-9c5f-43e6-8d33-7b25f15dccdc",
   "metadata": {},
   "outputs": [
    {
     "name": "stdout",
     "output_type": "stream",
     "text": [
      "/global/u1/a/ayanmitr/soft/firecrown/examples/srd_sn\n"
     ]
    }
   ],
   "source": [
    "!pwd"
   ]
  },
  {
   "cell_type": "code",
   "execution_count": 1,
   "id": "912dc575-8912-4123-b160-20a1b87c113a",
   "metadata": {},
   "outputs": [],
   "source": [
    "#from cosmosis.postprocessing import plots\n",
    "#from cosmosis.postprocessing import lazy_pylab as pylab\n",
    "import pandas as pd\n",
    "import numpy as np\n",
    "import matplotlib.pyplot as plt\n",
    "import getdist\n",
    "from matplotlib.colors import LogNorm,Normalize\n",
    "from matplotlib.ticker import (MultipleLocator, FormatStrFormatter,AutoMinorLocator)\n",
    "import sacc\n",
    "from sacc import Sacc, standard_types\n",
    "import os\n",
    "import glob\n",
    "import tarfile\n",
    "import urllib.request\n",
    "import datetime\n",
    "import warnings\n",
    "warnings.filterwarnings('ignore')"
   ]
  },
  {
   "cell_type": "code",
   "execution_count": 3,
   "id": "8d1f1ac1-3399-4c46-b159-52f8b957aca9",
   "metadata": {},
   "outputs": [],
   "source": [
    "#import matplotlib.pyplot as plt\n",
    "#plt.plot();"
   ]
  },
  {
   "cell_type": "markdown",
   "id": "aacfb2a0-f062-465b-ad69-959dab500119",
   "metadata": {},
   "source": [
    "# Code to generate the SACC file for a given SN data"
   ]
  },
  {
   "cell_type": "code",
   "execution_count": 4,
   "id": "959dab95-e82a-473d-ac26-8f3ebb4b421a",
   "metadata": {},
   "outputs": [
    {
     "name": "stdout",
     "output_type": "stream",
     "text": [
      "type_details.sources, type_details.properties, type_details.statistic, type_details.subtype\n",
      "['supernova'] ['distance'] mu None\n"
     ]
    }
   ],
   "source": [
    "sources = ['supernova']\n",
    "properties = ['distance']\n",
    "\n",
    "# The statistc                                                                                                                               \n",
    "statistic = 'mu'\n",
    "\n",
    "# There is no futher specified needed here - everything is scalar.                                                                           \n",
    "subtype = None\n",
    "sndata_type = sacc.build_data_type_name(sources, properties, statistic, subtype)\n",
    "\n",
    "type_details = sacc.parse_data_type_name(sndata_type)\n",
    "print('type_details.sources, type_details.properties, type_details.statistic, type_details.subtype')\n",
    "print(type_details.sources, type_details.properties, type_details.statistic, type_details.subtype)"
   ]
  },
  {
   "cell_type": "markdown",
   "id": "b2e793ad-07e9-4f64-8443-177150d3bf16",
   "metadata": {},
   "source": [
    "#### Below we will convert SN data produced from\n",
    "##### SNANA simulations, using PLAsTiCC input"
   ]
  },
  {
   "cell_type": "code",
   "execution_count": 5,
   "id": "ce425cb5-68c7-414f-8e9c-e3cac0deb3ee",
   "metadata": {},
   "outputs": [],
   "source": [
    "S = Sacc()\n",
    "y1dat=np.loadtxt('sndata/data.txt', unpack=True)    # Hubble Diagram Input\n",
    "y1cov = np.loadtxt('sndata/sys_0.txt', unpack=True) # Covariance Matrix Input. SNANA, UNBINNED, SPECZ, FOLDER 0\n",
    "zhel = y1dat[2] # redshift                                                                                                                   \n",
    "zcmb = y1dat[1] # redshift                                                                                                                   \n",
    "mb = y1dat[4]\n",
    "dmb = y1dat[5]\n",
    "zmu = np.vstack((zcmb,mb))\n",
    "size=int(y1cov[0]) # reading the size of the matrix from the first entry                                                                     \n",
    "cov = np.zeros((size,size))\n",
    "count=1 # since the cov mat starts with the number of lines"
   ]
  },
  {
   "cell_type": "code",
   "execution_count": 6,
   "id": "9225cb05-d9a3-427a-8338-239d52debf10",
   "metadata": {},
   "outputs": [],
   "source": [
    "S.add_tracer('misc', 'sn_ddf_sample')"
   ]
  },
  {
   "cell_type": "code",
   "execution_count": 7,
   "id": "7355a962-23af-4dff-9284-64c69203d4e0",
   "metadata": {},
   "outputs": [
    {
     "data": {
      "text/plain": [
       "<matplotlib.legend.Legend at 0x1555501fbf70>"
      ]
     },
     "execution_count": 7,
     "metadata": {},
     "output_type": "execute_result"
    },
    {
     "data": {
      "image/png": "[encoded data removed]",
      "text/plain": [
       "<Figure size 432x288 with 1 Axes>"
      ]
     },
     "metadata": {
      "needs_background": "light"
     },
     "output_type": "display_data"
    }
   ],
   "source": [
    "# Plotting the data to check consistency\n",
    "plt.plot(zhel,mb,'o',c='r',label='SNANA Data')\n",
    "plt.xlabel('z',fontsize=20)\n",
    "plt.ylabel('$m_b$',fontsize=20)\n",
    "plt.legend()"
   ]
  },
  {
   "cell_type": "code",
   "execution_count": 8,
   "id": "023c3c19-f9f8-4ae3-8f8d-b67613315eb6",
   "metadata": {},
   "outputs": [],
   "source": [
    "for i in range(size):\n",
    "    # Add the appropriate tracer                                                                                                             \n",
    "    S.add_data_point(sndata_type, ('sn_ddf_sample',),  mb[i], z=zcmb[i]) # can add absmag=-19.9 or other tags                                \n",
    "    for j in range(size):\n",
    "        cov[i,j]=y1cov[count]\n",
    "        count+=1\n",
    "    for i in range(size):\n",
    "        cov[i,i]+=(dmb[i])**2"
   ]
  },
  {
   "cell_type": "code",
   "execution_count": 9,
   "id": "a6727f80-eca2-47c1-b370-3eeca265133d",
   "metadata": {},
   "outputs": [],
   "source": [
    "S.add_covariance(cov)\n",
    "S.metadata['nbin_distmod'] = size\n",
    "S.metadata['simulation'] = 'SNANA'\n",
    "S.metadata['covmat']  = 'sys_SNANA'\n",
    "S.metadata['creation'] = datetime.datetime.now().isoformat()\n",
    "S.metadata['info'] = 'SN SNANA data sets-UNBINNED, SPECZ, FOLDER 0'"
   ]
  },
  {
   "cell_type": "code",
   "execution_count": 10,
   "id": "b9e6526b-e9db-4124-a17b-bfcc06f2462b",
   "metadata": {},
   "outputs": [],
   "source": [
    "S.save_fits('sndata/SNANA-srd-y1-converted.sacc', overwrite=True)"
   ]
  },
  {
   "cell_type": "markdown",
   "id": "e75a6db6-7632-4cfe-88e8-48c068484ceb",
   "metadata": {},
   "source": [
    "#### -------\n",
    "#### Sacc Generation : Complete\n",
    "##### To run the sampling, we need to add the correct path for the likelihood generation. This is done in the program 'sn_srd.py' where we specify the path to the Sacc data file. Then compile 'python setup.py install' from the root directory. Then run 'cosmosis sn_srd.ini' or we can submit it as a job (see the submit_job.sh example file). The output is analysed below using getDist."
   ]
  }
 ],
 "metadata": {
  "kernelspec": {
   "display_name": "FirecrownSN",
   "language": "python",
   "name": "firecrownsn"
  },
  "language_info": {
   "codemirror_mode": {
    "name": "ipython",
    "version": 3
   },
   "file_extension": ".py",
   "mimetype": "text/x-python",
   "name": "python",
   "nbconvert_exporter": "python",
   "pygments_lexer": "ipython3",
   "version": "3.9.10"
  }
 },
 "nbformat": 4,
 "nbformat_minor": 5
}
