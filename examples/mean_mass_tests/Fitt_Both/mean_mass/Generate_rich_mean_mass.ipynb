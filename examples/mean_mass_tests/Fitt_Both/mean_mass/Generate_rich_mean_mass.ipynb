{
 "cells": [
  {
   "cell_type": "markdown",
   "metadata": {},
   "source": [
    "# Cluster count-only SACC file creation\n",
    "\n",
    "This notebook examplifies the creation of a SACC file for cluster count, using pre-extracted halo catalog from the SkySim dataset. It\n",
    "- shows how to load the data\n",
    "- counts halos in the richness and redshift plane\n",
    "- computes the covariance using jackknife resampling (to be eventually done by TJPCov)\n",
    "- **save the count and covariance in the SACC format**"
   ]
  },
  {
   "cell_type": "code",
   "execution_count": 1,
   "metadata": {},
   "outputs": [],
   "source": [
    "%load_ext autoreload\n",
    "%autoreload 2\n",
    "#!/usr/bin/env python\n",
    "\n",
    "try:\n",
    "    import gi\n",
    "\n",
    "    gi.require_version(\"NumCosmo\", \"1.0\")\n",
    "    gi.require_version(\"NumCosmoMath\", \"1.0\")\n",
    "except:\n",
    "    pass\n",
    "\n",
    "import math\n",
    "from gi.repository import GObject\n",
    "from gi.repository import NumCosmo as Nc\n",
    "from gi.repository import NumCosmoMath as Ncm\n",
    "import sys\n",
    "\n",
    "sys.path.insert(0, \"../../scripts\")\n",
    "import os\n",
    "import numpy as np\n",
    "from astropy.table import Table\n",
    "from numpy import random\n",
    "import scipy\n",
    "import matplotlib.pyplot as plt\n",
    "import clmm\n",
    "from clmm import GalaxyCluster, ClusterEnsemble, GCData\n",
    "from clmm import Cosmology\n",
    "from clmm.support import mock_data as mock\n",
    "import pandas as pd\n",
    "import numpy as np\n",
    "import pyccl as ccl\n",
    "import sacc\n",
    "\n",
    "clmm.__version__\n",
    "import pandas as pd\n",
    "from astropy.io import fits\n",
    "from astropy.table import Table\n",
    "import scipy.integrate\n",
    "import astropy.units as u\n",
    "\n",
    "\n",
    "Ncm.cfg_init()\n",
    "Ncm.cfg_set_log_handler(lambda msg: sys.stdout.write(msg) and sys.stdout.flush())\n",
    "\n",
    "%matplotlib inline\n",
    "catalog = \"skysim5000_v1.1.1\"\n",
    "sys.path.insert(0, \"/pbs/home/e/ebarroso/gcr-catalogs\")\n",
    "import GCRCatalogs\n",
    "\n",
    "GCRCatalogs.set_root_dir_by_site(\"in2p3\")\n",
    "skysim_cat = GCRCatalogs.load_catalog(catalog)\n",
    "cosmo_ss = skysim_cat.cosmology"
   ]
  },
  {
   "cell_type": "code",
   "execution_count": 2,
   "metadata": {},
   "outputs": [
    {
     "data": {
      "text/plain": [
       "'0.6'"
      ]
     },
     "execution_count": 2,
     "metadata": {},
     "output_type": "execute_result"
    }
   ],
   "source": [
    "sacc.__version__"
   ]
  },
  {
   "cell_type": "code",
   "execution_count": 3,
   "metadata": {},
   "outputs": [
    {
     "name": "stdout",
     "output_type": "stream",
     "text": [
      "0.8 0.8490796381176396 0.0\n",
      "0.8 0.7999999999999999\n",
      "71.0 0.0448 0.21999999999999997 <bound method FLRW.Ode of FlatLambdaCDM(H0=71.0 km / (Mpc s), Om0=0.2648, Tcmb0=0.0 K, Neff=3.04, m_nu=None, Ob0=0.0448)> 0.963 3.04\n"
     ]
    }
   ],
   "source": [
    "cosmo = Nc.HICosmoDEXcdm()\n",
    "reion = Nc.HIReionCamb.new()\n",
    "prim = Nc.HIPrimPowerLaw.new()\n",
    "\n",
    "cosmo.add_submodel(reion)\n",
    "cosmo.add_submodel(prim)\n",
    "\n",
    "dist = Nc.Distance.new(2.0)\n",
    "\n",
    "tf = Nc.TransferFunc.new_from_name(\"NcTransferFuncEH\")\n",
    "\n",
    "psml = Nc.PowspecMLTransfer.new(tf)\n",
    "\n",
    "# psml = Nc.PowspecMLCBE.new ()\n",
    "psml.require_kmin(1.0e-6)\n",
    "psml.require_kmax(1.0e3)\n",
    "\n",
    "psf = Ncm.PowspecFilter.new(psml, Ncm.PowspecFilterType.TOPHAT)\n",
    "psf.set_best_lnr0()\n",
    "\n",
    "\n",
    "cosmo.props.H0 = cosmo_ss.H0.value\n",
    "cosmo.props.Omegab = cosmo_ss.Ob0\n",
    "cosmo.props.Omegac = cosmo_ss.Odm0\n",
    "cosmo.props.Omegax = cosmo_ss.Ode0\n",
    "\n",
    "cosmo.omega_x2omega_k()\n",
    "cosmo.param_set_by_name(\"Omegak\", 0.0)\n",
    "\n",
    "prim.props.n_SA = cosmo_ss.n_s\n",
    "print(cosmo_ss.sigma8, cosmo.sigma8(psf), cosmo.Omega_k0())\n",
    "\n",
    "old_amplitude = math.exp(prim.props.ln10e10ASA)\n",
    "prim.props.ln10e10ASA = math.log(\n",
    "    (cosmo_ss.sigma8 / cosmo.sigma8(psf)) ** 2 * old_amplitude\n",
    ")\n",
    "print(cosmo_ss.sigma8, cosmo.sigma8(psf))\n",
    "print(\n",
    "    cosmo_ss.H0.value,\n",
    "    cosmo_ss.Ob0,\n",
    "    cosmo_ss.Odm0,\n",
    "    cosmo_ss.Ode,\n",
    "    cosmo_ss.n_s,\n",
    "    cosmo_ss.Neff,\n",
    ")"
   ]
  },
  {
   "cell_type": "code",
   "execution_count": 4,
   "metadata": {},
   "outputs": [],
   "source": [
    "# CosmoSim_proxy model\n",
    "# M_0, z_0\n",
    "theta_pivot = [3e14 / 0.71, 0.6]\n",
    "\n",
    "\n",
    "area = 439.78986\n",
    "lnRl = 0.0\n",
    "lnRu = 5.0\n",
    "zl = 0.2\n",
    "zu = 0.65\n",
    "\n",
    "# Numcosmo_proxy model based on arxiv 1904.07524v2\n",
    "cluster_z = Nc.ClusterRedshift.new_from_name(\n",
    "    \"NcClusterRedshiftNodist{'z-min': <%20.15e>, 'z-max':<%20.15e>}\" % (zl, zu)\n",
    ")\n",
    "\n",
    "cluster_m = Nc.ClusterMass.new_from_name(\n",
    "    \"NcClusterMassAscaso{'M0':<%20.15e>,'z0':<%20.15e>,'lnRichness-min':<%20.15e>, 'lnRichness-max':<%20.15e>}\"\n",
    "    % (3e14 / (0.71), 0.6, lnRl, lnRu)\n",
    ")\n",
    "cluster_m.param_set_by_name(\"mup0\", 3.19)\n",
    "cluster_m.param_set_by_name(\"mup1\", 2 / np.log(10))\n",
    "cluster_m.param_set_by_name(\"mup2\", -0.7 / np.log(10))\n",
    "cluster_m.param_set_by_name(\"sigmap0\", 0.33)\n",
    "cluster_m.param_set_by_name(\"sigmap1\", -0.08 / np.log(10))\n",
    "cluster_m.param_set_by_name(\"sigmap2\", 0 / np.log(10))"
   ]
  },
  {
   "cell_type": "code",
   "execution_count": 5,
   "metadata": {},
   "outputs": [],
   "source": [
    "# Numcosmo Mass Function\n",
    "\n",
    "# First we need to define the multiplicity function here we will use the tinker\n",
    "mulf = Nc.MultiplicityFuncTinker.new()\n",
    "mulf.set_linear_interp(True)\n",
    "mulf.set_mdef(Nc.MultiplicityFuncMassDef.MEAN)\n",
    "mulf.set_Delta(200)\n",
    "# Second we need to construct a filtered power spectrum\n",
    "\n",
    "hmf = Nc.HaloMassFunction.new(dist, psf, mulf)\n",
    "hmf.set_area_sd(area)\n",
    "\n",
    "# Cluster Abundance Obj\n",
    "ca = Nc.ClusterAbundance.new(hmf, None)"
   ]
  },
  {
   "cell_type": "code",
   "execution_count": 6,
   "metadata": {},
   "outputs": [],
   "source": [
    "# Number Counts object\n",
    "ncount = Nc.DataClusterNCount.new(ca, \"NcClusterRedshiftNodist\", \"NcClusterMassAscaso\")\n",
    "ca.prepare(cosmo, cluster_z, cluster_m)\n",
    "mset = Ncm.MSet.new_array([cosmo, cluster_z, cluster_m])\n",
    "\n",
    "rng = Ncm.RNG.seeded_new(None, 42)\n",
    "\n",
    "#ncount.init_from_sampling(mset, area * ((np.pi / 180) ** 2), rng)\n",
    "#print(ncount.desc)"
   ]
  },
  {
   "cell_type": "code",
   "execution_count": 7,
   "metadata": {},
   "outputs": [
    {
     "data": {
      "text/html": [
       "<div><i>Table length=72156</i>\n",
       "<table id=\"table140333542814224\" class=\"table-striped table-bordered table-condensed\">\n",
       "<thead><tr><th>Z_OBS</th><th>LNM_OBS</th><th>Z_TRUE</th><th>LNM_TRUE</th></tr></thead>\n",
       "<thead><tr><th>float64</th><th>float64</th><th>float64</th><th>float64</th></tr></thead>\n",
       "<tr><td>0.4285610549833374</td><td>0.5957536546898285</td><td>0.4285610549833374</td><td>30.2555078520757</td></tr>\n",
       "<tr><td>0.46818292662884137</td><td>1.9609581533708877</td><td>0.46818292662884137</td><td>31.393096588512037</td></tr>\n",
       "<tr><td>0.5604603014832846</td><td>0.45802389064568433</td><td>0.5604603014832846</td><td>31.049929670576994</td></tr>\n",
       "<tr><td>0.5803645711453446</td><td>2.6992573377148728</td><td>0.5803645711453446</td><td>33.169450212989204</td></tr>\n",
       "<tr><td>0.29041200512733045</td><td>2.2674881094190025</td><td>0.29041200512733045</td><td>32.585655923608414</td></tr>\n",
       "<tr><td>0.47562160407454523</td><td>0.4508157180975424</td><td>0.47562160407454523</td><td>30.3289848721656</td></tr>\n",
       "<tr><td>0.5622845981630332</td><td>0.26606575908401875</td><td>0.5622845981630332</td><td>30.04128067052109</td></tr>\n",
       "<tr><td>0.33913435874627446</td><td>0.14554227067695083</td><td>0.33913435874627446</td><td>30.15837397197179</td></tr>\n",
       "<tr><td>0.2504733976167686</td><td>1.140613719054631</td><td>0.2504733976167686</td><td>30.910784343381827</td></tr>\n",
       "<tr><td>0.5510608345721403</td><td>0.5571461823196855</td><td>0.5510608345721403</td><td>30.29562481079833</td></tr>\n",
       "<tr><td>...</td><td>...</td><td>...</td><td>...</td></tr>\n",
       "<tr><td>0.5895612350914143</td><td>0.23307576428024207</td><td>0.5895612350914143</td><td>30.54608919120278</td></tr>\n",
       "<tr><td>0.5587979727987263</td><td>0.26148590680548506</td><td>0.5587979727987263</td><td>30.258133524658817</td></tr>\n",
       "<tr><td>0.28781156524160834</td><td>1.6320793767256312</td><td>0.28781156524160834</td><td>31.834794157408176</td></tr>\n",
       "<tr><td>0.5714016710450042</td><td>0.7445556624074415</td><td>0.5714016710450042</td><td>30.271506353158035</td></tr>\n",
       "<tr><td>0.3919523422434796</td><td>0.23296203424708295</td><td>0.3919523422434796</td><td>31.002387928700784</td></tr>\n",
       "<tr><td>0.32137710588438045</td><td>0.5609477844504357</td><td>0.32137710588438045</td><td>29.974840986809372</td></tr>\n",
       "<tr><td>0.33330422492357803</td><td>0.05367161346109073</td><td>0.33330422492357803</td><td>30.367780782174478</td></tr>\n",
       "<tr><td>0.5979545921125697</td><td>0.8904537363858387</td><td>0.5979545921125697</td><td>30.85723231652709</td></tr>\n",
       "<tr><td>0.2967392709228552</td><td>0.7600891340240767</td><td>0.2967392709228552</td><td>30.951605243939543</td></tr>\n",
       "<tr><td>0.3647187104450091</td><td>0.37602118628773995</td><td>0.3647187104450091</td><td>30.60301939233626</td></tr>\n",
       "</table></div>"
      ],
      "text/plain": [
       "<Table length=72156>\n",
       "       Z_OBS              LNM_OBS              Z_TRUE            LNM_TRUE     \n",
       "      float64             float64             float64            float64      \n",
       "------------------- ------------------- ------------------- ------------------\n",
       " 0.4285610549833374  0.5957536546898285  0.4285610549833374   30.2555078520757\n",
       "0.46818292662884137  1.9609581533708877 0.46818292662884137 31.393096588512037\n",
       " 0.5604603014832846 0.45802389064568433  0.5604603014832846 31.049929670576994\n",
       " 0.5803645711453446  2.6992573377148728  0.5803645711453446 33.169450212989204\n",
       "0.29041200512733045  2.2674881094190025 0.29041200512733045 32.585655923608414\n",
       "0.47562160407454523  0.4508157180975424 0.47562160407454523   30.3289848721656\n",
       " 0.5622845981630332 0.26606575908401875  0.5622845981630332  30.04128067052109\n",
       "0.33913435874627446 0.14554227067695083 0.33913435874627446  30.15837397197179\n",
       " 0.2504733976167686   1.140613719054631  0.2504733976167686 30.910784343381827\n",
       " 0.5510608345721403  0.5571461823196855  0.5510608345721403  30.29562481079833\n",
       "                ...                 ...                 ...                ...\n",
       " 0.5895612350914143 0.23307576428024207  0.5895612350914143  30.54608919120278\n",
       " 0.5587979727987263 0.26148590680548506  0.5587979727987263 30.258133524658817\n",
       "0.28781156524160834  1.6320793767256312 0.28781156524160834 31.834794157408176\n",
       " 0.5714016710450042  0.7445556624074415  0.5714016710450042 30.271506353158035\n",
       " 0.3919523422434796 0.23296203424708295  0.3919523422434796 31.002387928700784\n",
       "0.32137710588438045  0.5609477844504357 0.32137710588438045 29.974840986809372\n",
       "0.33330422492357803 0.05367161346109073 0.33330422492357803 30.367780782174478\n",
       " 0.5979545921125697  0.8904537363858387  0.5979545921125697  30.85723231652709\n",
       " 0.2967392709228552  0.7600891340240767  0.2967392709228552 30.951605243939543\n",
       " 0.3647187104450091 0.37602118628773995  0.3647187104450091  30.60301939233626"
      ]
     },
     "metadata": {},
     "output_type": "display_data"
    }
   ],
   "source": [
    "# ncount.catalog_save (\"ncount_rich.fits\", True)\n",
    "ncount.catalog_load(\"/pbs/home/e/ebarroso/firecrown/examples/mean_mass_tests/NumCosmo_data/ncount_rich_32.fits\")\n",
    "\n",
    "ncdata_fits = fits.open(\"/pbs/home/e/ebarroso/firecrown/examples/mean_mass_tests/NumCosmo_data/ncount_rich_32.fits\")\n",
    "# ncdata_fits.info()\n",
    "\n",
    "ncdata_data = ncdata_fits[1].data\n",
    "\n",
    "ncdata_Table = Table(ncdata_data)\n",
    "ncdata_Table.columns\n",
    "# ncdata_Table.sort('LNM_TRUE')\n",
    "\n",
    "display(ncdata_Table)"
   ]
  },
  {
   "cell_type": "markdown",
   "metadata": {},
   "source": [
    "## Plot of Cluster Mass versus Richness"
   ]
  },
  {
   "cell_type": "code",
   "execution_count": 8,
   "metadata": {},
   "outputs": [
    {
     "data": {
      "image/png": "[encoded data removed]",
      "text/plain": [
       "<Figure size 640x480 with 1 Axes>"
      ]
     },
     "metadata": {},
     "output_type": "display_data"
    }
   ],
   "source": [
    "plt.scatter((ncdata_Table[\"LNM_TRUE\"][ncdata_Table[\"LNM_OBS\"] > 2]), (ncdata_Table[\"LNM_OBS\"][ncdata_Table[\"LNM_OBS\"] > 2]), color=\"purple\")\n",
    "plt.xlabel(\"$\\ln(M_{true})$\")\n",
    "plt.ylabel(\"$\\ln(\\lambda)$\")\n",
    "plt.savefig(\"richscatter\", bbox_inches=\"tight\")"
   ]
  },
  {
   "cell_type": "markdown",
   "metadata": {},
   "source": [
    "## Saving in SACC format"
   ]
  },
  {
   "cell_type": "code",
   "execution_count": 9,
   "metadata": {},
   "outputs": [],
   "source": [
    "data_table = ncdata_Table[ncdata_Table[\"LNM_OBS\"] > 2]\n",
    "cluster_z = data_table[\"Z_OBS\"]\n",
    "cluster_lnm = data_table[\"LNM_OBS\"]\n",
    "cluster_z = np.array(cluster_z)\n",
    "cluster_richness = np.log10(np.exp(np.array(cluster_lnm)))"
   ]
  },
  {
   "cell_type": "markdown",
   "metadata": {},
   "source": [
    "## Count halos in the $N_{\\rm richness} \\times N_z$ richness-redshift plane"
   ]
  },
  {
   "cell_type": "code",
   "execution_count": 10,
   "metadata": {},
   "outputs": [
    {
     "name": "stdout",
     "output_type": "stream",
     "text": [
      "[0.86860026 1.06961066 1.27062106 1.47163146 1.67264186 1.87365226]\n",
      "1883657153163898.8\n",
      "[[389. 183.  78.  26.   4.]\n",
      " [591. 259. 101.  25.   4.]\n",
      " [795. 309.  96.  36.   7.]\n",
      " [856. 304. 102.  27.   5.]]\n"
     ]
    },
    {
     "data": {
      "image/png": "[encoded data removed]",
      "text/plain": [
       "<Figure size 640x480 with 2 Axes>"
      ]
     },
     "metadata": {},
     "output_type": "display_data"
    }
   ],
   "source": [
    "N_richness = 5  # number of richness bins\n",
    "N_z = 4  # number of redshift bins\n",
    "\n",
    "data_lz, z_edges, richness_edges, im = plt.hist2d(\n",
    "    cluster_z, (cluster_richness), bins=[N_z, N_richness]\n",
    ")\n",
    "print(richness_edges)\n",
    "print(1883657153163898.8)\n",
    "fig = plt.colorbar()\n",
    "plt.savefig(\"bins\")\n",
    "np.log(10)\n",
    "print(data_lz)"
   ]
  },
  {
   "cell_type": "markdown",
   "metadata": {},
   "source": [
    "## Mean Mass inside bins"
   ]
  },
  {
   "cell_type": "code",
   "execution_count": 11,
   "metadata": {},
   "outputs": [
    {
     "name": "stdout",
     "output_type": "stream",
     "text": [
      "[1.02546128e-04 2.43138645e-04 3.02888296e-04 2.03679160e-03\n",
      " 3.54681788e-03 7.63788572e-05 1.75081796e-04 3.98935350e-04\n",
      " 1.23638618e-03 1.96293710e-03 5.56209264e-05 1.31863461e-04\n",
      " 2.78668225e-04 1.13046096e-03 2.48832075e-03 4.89794717e-05\n",
      " 1.26824541e-04 2.44937155e-04 1.05896466e-03 1.98667048e-03]\n"
     ]
    }
   ],
   "source": [
    "ncdata_fits = fits.open(\"/pbs/home/e/ebarroso/firecrown/examples/mean_mass_tests/NumCosmo_data/ncount_rich_32.fits\")\n",
    "# ncdata_fits.info()\n",
    "mean_mass = []\n",
    "ncdata_data = ncdata_fits[1].data\n",
    "\n",
    "ncdata_Table = Table(ncdata_data)\n",
    "cov_data = []\n",
    "for i in range(0, len(z_edges)-1):\n",
    "    for j in range(0, len(richness_edges)-1):\n",
    "        z_bin = [z_edges[i], z_edges[i+1]]\n",
    "        r_bin = [richness_edges[j], richness_edges[j+1]]\n",
    "        redshift_cut = ncdata_Table[ncdata_Table[\"Z_OBS\"] > z_bin[0]]\n",
    "        redshift_cut = redshift_cut[redshift_cut[\"Z_OBS\"] < z_bin[1]]\n",
    "        rich_cut = redshift_cut[np.log10(np.exp(redshift_cut[\"LNM_OBS\"])) > r_bin[0]]\n",
    "        final_cut = rich_cut[np.log10(np.exp(rich_cut[\"LNM_OBS\"])) < r_bin[1]]\n",
    "        mean_mass.append(np.mean(np.log10(np.exp(final_cut[\"LNM_TRUE\"]))))\n",
    "        cov_data.append(np.var(np.log10(np.exp(final_cut[\"LNM_TRUE\"]))))\n",
    "cov_data = cov_data / data_lz.flatten()\n",
    "print(cov_data)"
   ]
  },
  {
   "cell_type": "markdown",
   "metadata": {},
   "source": [
    "## Covariance\n"
   ]
  },
  {
   "cell_type": "code",
   "execution_count": 12,
   "metadata": {},
   "outputs": [
    {
     "name": "stdout",
     "output_type": "stream",
     "text": [
      "[13.9762805836693, 14.180122821373832, 14.434494332493264, 14.591319243539187, 14.77056672637548, 13.95215398359329, 14.199676296351242, 14.401159673316974, 14.674268226046253, 14.848236706795934, 13.975742932428782, 14.200635914109064, 14.40551857613074, 14.640961339619038, 14.751735978700866, 13.978486066386527, 14.181663431450351, 14.413574534067807, 14.609635387388316, 14.763651339948634]\n",
      "[1.02546128e-04 2.43138645e-04 3.02888296e-04 2.03679160e-03\n",
      " 3.54681788e-03 7.63788572e-05 1.75081796e-04 3.98935350e-04\n",
      " 1.23638618e-03 1.96293710e-03 5.56209264e-05 1.31863461e-04\n",
      " 2.78668225e-04 1.13046096e-03 2.48832075e-03 4.89794717e-05\n",
      " 1.26824541e-04 2.44937155e-04 1.05896466e-03 1.98667048e-03]\n"
     ]
    },
    {
     "data": {
      "text/plain": [
       "<matplotlib.image.AxesImage at 0x7fa1f06c7190>"
      ]
     },
     "execution_count": 12,
     "metadata": {},
     "output_type": "execute_result"
    },
    {
     "data": {
      "image/png": "[encoded data removed]",
      "text/plain": [
       "<Figure size 640x480 with 1 Axes>"
      ]
     },
     "metadata": {},
     "output_type": "display_data"
    }
   ],
   "source": [
    "data = np.array(mean_mass)\n",
    "print(mean_mass)\n",
    "print(cov_data)\n",
    "covariance = np.zeros((N_richness * N_z, N_richness * N_z))\n",
    "np.fill_diagonal(covariance, cov_data)\n",
    "plt.imshow((covariance))"
   ]
  },
  {
   "cell_type": "markdown",
   "metadata": {},
   "source": [
    "**Correlation matrix - the \"large blocks\" correspond to the $N_z$ redshift bins. In each redshift bin are the $N_{\\rm richness}$ richness bins.**"
   ]
  },
  {
   "cell_type": "code",
   "execution_count": 13,
   "metadata": {},
   "outputs": [
    {
     "data": {
      "text/plain": [
       "<matplotlib.image.AxesImage at 0x7fa1f09bbc50>"
      ]
     },
     "execution_count": 13,
     "metadata": {},
     "output_type": "execute_result"
    },
    {
     "data": {
      "image/png": "[encoded data removed]",
      "text/plain": [
       "<Figure size 640x480 with 1 Axes>"
      ]
     },
     "metadata": {},
     "output_type": "display_data"
    }
   ],
   "source": [
    "plt.imshow(np.corrcoef(covariance))\n",
    "# plt.imshow((covariance))"
   ]
  },
  {
   "cell_type": "markdown",
   "metadata": {},
   "source": [
    "## Store everything in a SACC file"
   ]
  },
  {
   "cell_type": "code",
   "execution_count": 14,
   "metadata": {},
   "outputs": [],
   "source": [
    "s_count = sacc.Sacc()"
   ]
  },
  {
   "cell_type": "code",
   "execution_count": 15,
   "metadata": {},
   "outputs": [],
   "source": [
    "# First we build the cluster count tracer\n",
    "# Here we will store the richness and redshift bin information in metadata,\n",
    "name = f\"cluster_counts_richness_meanonly_proxy\"\n",
    "metadata = {\n",
    "    \"Mproxy_type\": \"richness_proxy\",\n",
    "    \"Mproxy_edges\": richness_edges,\n",
    "    \"z_type\": \"true_redshift\",\n",
    "    \"z_edges\": z_edges,\n",
    "    \"sky_area\": area,\n",
    "}\n",
    "s_count.add_tracer(\"misc\", name, metadata=metadata)"
   ]
  },
  {
   "cell_type": "markdown",
   "metadata": {},
   "source": [
    "### First the count values"
   ]
  },
  {
   "cell_type": "code",
   "execution_count": 16,
   "metadata": {},
   "outputs": [],
   "source": [
    "# One of our identifiers is a standard type name that is predefined\n",
    "cluster_count = sacc.standard_types.cluster_mass_count_wl\n",
    "\n",
    "for value in data:\n",
    "        tracer = name\n",
    "        s_count.add_data_point(cluster_count, (tracer,), (value), err=1.0)"
   ]
  },
  {
   "cell_type": "code",
   "execution_count": 17,
   "metadata": {},
   "outputs": [
    {
     "name": "stdout",
     "output_type": "stream",
     "text": [
      "DataPoint(data_type='cluster_mass_count_wl', tracers=('cluster_counts_richness_meanonly_proxy',), value=13.9762805836693, err=1.0)\n",
      "DataPoint(data_type='cluster_mass_count_wl', tracers=('cluster_counts_richness_meanonly_proxy',), value=14.180122821373832, err=1.0)\n",
      "DataPoint(data_type='cluster_mass_count_wl', tracers=('cluster_counts_richness_meanonly_proxy',), value=14.434494332493264, err=1.0)\n",
      "DataPoint(data_type='cluster_mass_count_wl', tracers=('cluster_counts_richness_meanonly_proxy',), value=14.591319243539187, err=1.0)\n",
      "DataPoint(data_type='cluster_mass_count_wl', tracers=('cluster_counts_richness_meanonly_proxy',), value=14.77056672637548, err=1.0)\n",
      "DataPoint(data_type='cluster_mass_count_wl', tracers=('cluster_counts_richness_meanonly_proxy',), value=13.95215398359329, err=1.0)\n",
      "DataPoint(data_type='cluster_mass_count_wl', tracers=('cluster_counts_richness_meanonly_proxy',), value=14.199676296351242, err=1.0)\n",
      "DataPoint(data_type='cluster_mass_count_wl', tracers=('cluster_counts_richness_meanonly_proxy',), value=14.401159673316974, err=1.0)\n",
      "DataPoint(data_type='cluster_mass_count_wl', tracers=('cluster_counts_richness_meanonly_proxy',), value=14.674268226046253, err=1.0)\n",
      "DataPoint(data_type='cluster_mass_count_wl', tracers=('cluster_counts_richness_meanonly_proxy',), value=14.848236706795934, err=1.0)\n",
      "DataPoint(data_type='cluster_mass_count_wl', tracers=('cluster_counts_richness_meanonly_proxy',), value=13.975742932428782, err=1.0)\n",
      "DataPoint(data_type='cluster_mass_count_wl', tracers=('cluster_counts_richness_meanonly_proxy',), value=14.200635914109064, err=1.0)\n",
      "DataPoint(data_type='cluster_mass_count_wl', tracers=('cluster_counts_richness_meanonly_proxy',), value=14.40551857613074, err=1.0)\n",
      "DataPoint(data_type='cluster_mass_count_wl', tracers=('cluster_counts_richness_meanonly_proxy',), value=14.640961339619038, err=1.0)\n",
      "DataPoint(data_type='cluster_mass_count_wl', tracers=('cluster_counts_richness_meanonly_proxy',), value=14.751735978700866, err=1.0)\n",
      "DataPoint(data_type='cluster_mass_count_wl', tracers=('cluster_counts_richness_meanonly_proxy',), value=13.978486066386527, err=1.0)\n",
      "DataPoint(data_type='cluster_mass_count_wl', tracers=('cluster_counts_richness_meanonly_proxy',), value=14.181663431450351, err=1.0)\n",
      "DataPoint(data_type='cluster_mass_count_wl', tracers=('cluster_counts_richness_meanonly_proxy',), value=14.413574534067807, err=1.0)\n",
      "DataPoint(data_type='cluster_mass_count_wl', tracers=('cluster_counts_richness_meanonly_proxy',), value=14.609635387388316, err=1.0)\n",
      "DataPoint(data_type='cluster_mass_count_wl', tracers=('cluster_counts_richness_meanonly_proxy',), value=14.763651339948634, err=1.0)\n"
     ]
    }
   ],
   "source": [
    "for d in s_count.data:\n",
    "    print(d)"
   ]
  },
  {
   "cell_type": "code",
   "execution_count": 18,
   "metadata": {},
   "outputs": [
    {
     "name": "stdout",
     "output_type": "stream",
     "text": [
      "{'Mproxy_type': 'richness_proxy', 'Mproxy_edges': array([0.86860026, 1.06961066, 1.27062106, 1.47163146, 1.67264186,\n",
      "       1.87365226]), 'z_type': 'true_redshift', 'z_edges': array([0.20009201, 0.31252844, 0.42496488, 0.53740131, 0.64983774]), 'sky_area': 439.78986}\n"
     ]
    }
   ],
   "source": [
    "print(s_count.tracers[name].metadata)"
   ]
  },
  {
   "cell_type": "markdown",
   "metadata": {},
   "source": [
    "### Then the add the covariance and save the file"
   ]
  },
  {
   "cell_type": "code",
   "execution_count": 19,
   "metadata": {},
   "outputs": [],
   "source": [
    "s_count.add_covariance(covariance)"
   ]
  },
  {
   "cell_type": "code",
   "execution_count": 20,
   "metadata": {},
   "outputs": [],
   "source": [
    "s_count.to_canonical_order()\n",
    "s_count.save_fits(\"clusters_numcosmo_richness_meanonly_data.sacc\", overwrite=True)"
   ]
  },
  {
   "cell_type": "markdown",
   "metadata": {},
   "source": [
    "## Read in the SACC file and check content"
   ]
  },
  {
   "cell_type": "code",
   "execution_count": 21,
   "metadata": {},
   "outputs": [],
   "source": [
    "s2 = sacc.Sacc.load_fits(\"./clusters_numcosmo_richness_meanonly_data.sacc\")"
   ]
  },
  {
   "cell_type": "code",
   "execution_count": 22,
   "metadata": {},
   "outputs": [
    {
     "ename": "KeyError",
     "evalue": "'cluster_counts_richness_proxy'",
     "output_type": "error",
     "traceback": [
      "\u001b[0;31m---------------------------------------------------------------------------\u001b[0m",
      "\u001b[0;31mKeyError\u001b[0m                                  Traceback (most recent call last)",
      "Cell \u001b[0;32mIn[22], line 1\u001b[0m\n\u001b[0;32m----> 1\u001b[0m tracer \u001b[38;5;241m=\u001b[39m \u001b[43ms2\u001b[49m\u001b[38;5;241;43m.\u001b[39;49m\u001b[43mget_tracer\u001b[49m\u001b[43m(\u001b[49m\u001b[38;5;124;43m\"\u001b[39;49m\u001b[38;5;124;43mcluster_counts_richness_proxy\u001b[39;49m\u001b[38;5;124;43m\"\u001b[39;49m\u001b[43m)\u001b[49m\n\u001b[1;32m      2\u001b[0m \u001b[38;5;28mprint\u001b[39m(tracer)\n\u001b[1;32m      3\u001b[0m tp \u001b[38;5;241m=\u001b[39m (\u001b[38;5;124m\"\u001b[39m\u001b[38;5;124mcluster_mass_count_wl\u001b[39m\u001b[38;5;124m\"\u001b[39m,)\n",
      "File \u001b[0;32m~/mambaforge-pypy3/envs/firecrown/lib/python3.11/site-packages/sacc/sacc.py:640\u001b[0m, in \u001b[0;36mSacc.get_tracer\u001b[0;34m(self, name)\u001b[0m\n\u001b[1;32m    626\u001b[0m \u001b[38;5;28;01mdef\u001b[39;00m \u001b[38;5;21mget_tracer\u001b[39m(\u001b[38;5;28mself\u001b[39m, name):\n\u001b[1;32m    627\u001b[0m \u001b[38;5;250m    \u001b[39m\u001b[38;5;124;03m\"\"\"\u001b[39;00m\n\u001b[1;32m    628\u001b[0m \u001b[38;5;124;03m    Get the tracer object with the given name\u001b[39;00m\n\u001b[1;32m    629\u001b[0m \n\u001b[0;32m   (...)\u001b[0m\n\u001b[1;32m    638\u001b[0m \u001b[38;5;124;03m        The object corresponding to the name.\u001b[39;00m\n\u001b[1;32m    639\u001b[0m \u001b[38;5;124;03m    \"\"\"\u001b[39;00m\n\u001b[0;32m--> 640\u001b[0m     \u001b[38;5;28;01mreturn\u001b[39;00m \u001b[38;5;28;43mself\u001b[39;49m\u001b[38;5;241;43m.\u001b[39;49m\u001b[43mtracers\u001b[49m\u001b[43m[\u001b[49m\u001b[43mname\u001b[49m\u001b[43m]\u001b[49m\n",
      "\u001b[0;31mKeyError\u001b[0m: 'cluster_counts_richness_proxy'"
     ]
    }
   ],
   "source": [
    "tracer = s2.get_tracer(\"cluster_counts_richness_proxy\")\n",
    "print(tracer)\n",
    "tp = (\"cluster_mass_count_wl\",)\n",
    "cluster_count = sacc.standard_types.cluster_mass_count_wl\n",
    "print(cluster_count)\n",
    "test = s2.get_data_points(\n",
    "    data_type=cluster_count, tracers=(\"cluster_counts_richness_proxy\",)\n",
    ")\n",
    "dts = s2.get_data_types()\n",
    "tracer_sets = s2.get_tracer_combinations(dts[0])\n",
    "nz = s2.get_mean(\n",
    "    data_type=\"cluster_mass_count_wl\", tracers=(\"cluster_counts_richness_proxy\",)\n",
    ")\n",
    "s2.indices(\n",
    "    data_type=\"cluster_mass_count_wl\", tracers=(\"cluster_counts_richness_proxy\",)\n",
    ")\n",
    "print(nz)"
   ]
  },
  {
   "cell_type": "code",
   "execution_count": null,
   "metadata": {},
   "outputs": [],
   "source": []
  }
 ],
 "metadata": {
  "kernelspec": {
   "display_name": "Python (firecrown2.0)",
   "language": "python",
   "name": "firecrown"
  },
  "language_info": {
   "codemirror_mode": {
    "name": "ipython",
    "version": 3
   },
   "file_extension": ".py",
   "mimetype": "text/x-python",
   "name": "python",
   "nbconvert_exporter": "python",
   "pygments_lexer": "ipython3",
   "version": "3.11.0"
  }
 },
 "nbformat": 4,
 "nbformat_minor": 4
}
