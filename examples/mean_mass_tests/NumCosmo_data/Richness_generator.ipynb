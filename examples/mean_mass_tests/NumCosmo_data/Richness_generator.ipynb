{
 "cells": [
  {
   "cell_type": "code",
   "execution_count": 156,
   "id": "a3f0fd56-f465-4944-9d3c-61841fa61eb7",
   "metadata": {},
   "outputs": [
    {
     "name": "stdout",
     "output_type": "stream",
     "text": [
      "The autoreload extension is already loaded. To reload it, use:\n",
      "  %reload_ext autoreload\n"
     ]
    },
    {
     "data": {
      "text/html": [
       "<div><i>Table length=89401</i>\n",
       "<table id=\"table140595260523344\" class=\"table-striped table-bordered table-condensed\">\n",
       "<thead><tr><th>Z_OBS</th><th>LNM_OBS</th><th>Z_TRUE</th><th>LNM_TRUE</th></tr></thead>\n",
       "<thead><tr><th>float64</th><th>float64</th><th>float64</th><th>float64</th></tr></thead>\n",
       "<tr><td>0.4285610549833374</td><td>30.255507852075702</td><td>0.4285610549833374</td><td>30.255507852075702</td></tr>\n",
       "<tr><td>0.547082547647362</td><td>31.555589810758786</td><td>0.547082547647362</td><td>31.555589810758786</td></tr>\n",
       "<tr><td>0.46818292662884137</td><td>31.393096588512037</td><td>0.46818292662884137</td><td>31.393096588512037</td></tr>\n",
       "<tr><td>0.5089924211346762</td><td>30.9163464148807</td><td>0.5089924211346762</td><td>30.9163464148807</td></tr>\n",
       "<tr><td>0.5604603014832846</td><td>31.049929670576997</td><td>0.5604603014832846</td><td>31.049929670576997</td></tr>\n",
       "<tr><td>0.5222896848618753</td><td>30.066226408672655</td><td>0.5222896848618753</td><td>30.066226408672655</td></tr>\n",
       "<tr><td>0.25500137707675935</td><td>30.585015664118146</td><td>0.25500137707675935</td><td>30.585015664118146</td></tr>\n",
       "<tr><td>0.5126420412266512</td><td>30.310959393533135</td><td>0.5126420412266512</td><td>30.310959393533135</td></tr>\n",
       "<tr><td>0.5803645711453446</td><td>33.169450212989204</td><td>0.5803645711453446</td><td>33.169450212989204</td></tr>\n",
       "<tr><td>0.6241760831685378</td><td>30.373887197509013</td><td>0.6241760831685378</td><td>30.373887197509013</td></tr>\n",
       "<tr><td>...</td><td>...</td><td>...</td><td>...</td></tr>\n",
       "<tr><td>0.3971568259760993</td><td>30.97383860068617</td><td>0.3971568259760993</td><td>30.97383860068617</td></tr>\n",
       "<tr><td>0.5053083385739535</td><td>30.16792772556468</td><td>0.5053083385739535</td><td>30.16792772556468</td></tr>\n",
       "<tr><td>0.5510444882299028</td><td>30.096940934330707</td><td>0.5510444882299028</td><td>30.096940934330707</td></tr>\n",
       "<tr><td>0.5554690090544432</td><td>30.34608437671325</td><td>0.5554690090544432</td><td>30.34608437671325</td></tr>\n",
       "<tr><td>0.3879946964243873</td><td>30.360375998627763</td><td>0.3879946964243873</td><td>30.360375998627763</td></tr>\n",
       "<tr><td>0.2941974890800748</td><td>31.2470971066087</td><td>0.2941974890800748</td><td>31.2470971066087</td></tr>\n",
       "<tr><td>0.46968570769896395</td><td>31.852316872628126</td><td>0.46968570769896395</td><td>31.852316872628126</td></tr>\n",
       "<tr><td>0.32304984201982156</td><td>30.117429929221714</td><td>0.32304984201982156</td><td>30.117429929221714</td></tr>\n",
       "<tr><td>0.559764886443189</td><td>30.454805365087296</td><td>0.559764886443189</td><td>30.454805365087296</td></tr>\n",
       "<tr><td>0.43975281054632454</td><td>30.974281727572922</td><td>0.43975281054632454</td><td>30.974281727572922</td></tr>\n",
       "</table></div>"
      ],
      "text/plain": [
       "<Table length=89401>\n",
       "       Z_OBS             LNM_OBS              Z_TRUE            LNM_TRUE     \n",
       "      float64            float64             float64            float64      \n",
       "------------------- ------------------ ------------------- ------------------\n",
       " 0.4285610549833374 30.255507852075702  0.4285610549833374 30.255507852075702\n",
       "  0.547082547647362 31.555589810758786   0.547082547647362 31.555589810758786\n",
       "0.46818292662884137 31.393096588512037 0.46818292662884137 31.393096588512037\n",
       " 0.5089924211346762   30.9163464148807  0.5089924211346762   30.9163464148807\n",
       " 0.5604603014832846 31.049929670576997  0.5604603014832846 31.049929670576997\n",
       " 0.5222896848618753 30.066226408672655  0.5222896848618753 30.066226408672655\n",
       "0.25500137707675935 30.585015664118146 0.25500137707675935 30.585015664118146\n",
       " 0.5126420412266512 30.310959393533135  0.5126420412266512 30.310959393533135\n",
       " 0.5803645711453446 33.169450212989204  0.5803645711453446 33.169450212989204\n",
       " 0.6241760831685378 30.373887197509013  0.6241760831685378 30.373887197509013\n",
       "                ...                ...                 ...                ...\n",
       " 0.3971568259760993  30.97383860068617  0.3971568259760993  30.97383860068617\n",
       " 0.5053083385739535  30.16792772556468  0.5053083385739535  30.16792772556468\n",
       " 0.5510444882299028 30.096940934330707  0.5510444882299028 30.096940934330707\n",
       " 0.5554690090544432  30.34608437671325  0.5554690090544432  30.34608437671325\n",
       " 0.3879946964243873 30.360375998627763  0.3879946964243873 30.360375998627763\n",
       " 0.2941974890800748   31.2470971066087  0.2941974890800748   31.2470971066087\n",
       "0.46968570769896395 31.852316872628126 0.46968570769896395 31.852316872628126\n",
       "0.32304984201982156 30.117429929221714 0.32304984201982156 30.117429929221714\n",
       "  0.559764886443189 30.454805365087296   0.559764886443189 30.454805365087296\n",
       "0.43975281054632454 30.974281727572922 0.43975281054632454 30.974281727572922"
      ]
     },
     "execution_count": 156,
     "metadata": {},
     "output_type": "execute_result"
    }
   ],
   "source": [
    "%load_ext autoreload\n",
    "%autoreload 2\n",
    "#!/usr/bin/env python\n",
    "import interpolation\n",
    "import scipy as sc\n",
    "import scipy.stats\n",
    "from scipy.special import erf\n",
    "import random as rd\n",
    "\n",
    "\n",
    "try:\n",
    "    import gi\n",
    "\n",
    "    gi.require_version(\"NumCosmo\", \"1.0\")\n",
    "    gi.require_version(\"NumCosmoMath\", \"1.0\")\n",
    "except:\n",
    "    pass\n",
    "\n",
    "import math\n",
    "from gi.repository import GObject\n",
    "from gi.repository import NumCosmo as Nc\n",
    "from gi.repository import NumCosmoMath as Ncm\n",
    "import sys\n",
    "\n",
    "sys.path.insert(0, \"../../scripts\")\n",
    "import os\n",
    "import numpy as np\n",
    "from astropy.table import Table\n",
    "from numpy import random\n",
    "import scipy\n",
    "import matplotlib.pyplot as plt\n",
    "import clmm\n",
    "from clmm import GalaxyCluster, ClusterEnsemble, GCData\n",
    "from clmm import Cosmology\n",
    "from clmm.support import mock_data as mock\n",
    "import pandas as pd\n",
    "import numpy as np\n",
    "import pyccl as ccl\n",
    "import sacc\n",
    "\n",
    "clmm.__version__\n",
    "import pandas as pd\n",
    "from astropy.io import fits\n",
    "from astropy.table import Table\n",
    "import scipy.integrate\n",
    "import astropy.units as u\n",
    "import firecrown\n",
    "from firecrown.models import richness_proxy\n",
    "from scipy.interpolate import interp1d\n",
    "\n",
    "ncdata_fits = fits.open(\n",
    "    \"/pbs/home/e/ebarroso/firecrown/examples/number_counts/Generate and Analyze data/ncount_nodist_32.fits\"\n",
    ")\n",
    "ncdata_data = ncdata_fits[1].data\n",
    "\n",
    "ncdata_Table = Table(ncdata_data)\n",
    "ncdata_Table"
   ]
  },
  {
   "cell_type": "code",
   "execution_count": 157,
   "id": "6df3b714-ff19-4747-a369-b670f26b11d6",
   "metadata": {},
   "outputs": [
    {
     "name": "stdout",
     "output_type": "stream",
     "text": [
      "89401\n",
      "[0.42856105 0.54708255 0.46818293 ... 0.32304984 0.55976489 0.43975281]\n"
     ]
    }
   ],
   "source": [
    "lnM = np.array(ncdata_Table[\"LNM_TRUE\"])\n",
    "z = np.array(ncdata_Table[\"Z_TRUE\"])\n",
    "print(len(lnM))\n",
    "print(lnz)\n",
    "lnN = np.linspace(0, 6, 500)"
   ]
  },
  {
   "cell_type": "code",
   "execution_count": 162,
   "id": "a9f4a83b-8049-4f3e-871c-6b285180de7e",
   "metadata": {},
   "outputs": [],
   "source": [
    "proxy = richness_proxy.RMProxy()\n",
    "proxy.likelihood_parameters = [\n",
    "    3.19,\n",
    "    0.8685889638,\n",
    "    -0.30400613733,\n",
    "    0.33,\n",
    "    -0.03474355855,\n",
    "    0.0,\n",
    "]\n",
    "rich = []\n",
    "mass = []\n",
    "z_list = []\n",
    "lnN = np.array(lnN)\n",
    "lnNi = 0.0\n",
    "for a in range(0, len(z)):\n",
    "    p_gauss = []\n",
    "    lnMi = lnM[a]\n",
    "    zi = z[a]\n",
    "    generator = None\n",
    "    proxy.likelihood_parameters = [\n",
    "        3.19,\n",
    "        0.8685889638,\n",
    "        -0.30400613733,\n",
    "        0.33,\n",
    "        -0.03474355855,\n",
    "        0.0,\n",
    "    ]\n",
    "    x, sigma = proxy.compute_theory_vector(\n",
    "        np.log10(np.exp(lnNi)),  # pylint: disable=invalid-name\n",
    "        np.log10(np.exp(lnMi)),\n",
    "        zi,\n",
    "    )  # pylint: disable=invalid-name\n",
    "    mean = lnNi - x\n",
    "    lnN_new = random.normal(mean, sigma)\n",
    "    if lnN_new < 0:\n",
    "        lnN_new = 0\n",
    "    rich.append(lnN_new)\n",
    "#    z_list.append(np.exp(lnzi))\n",
    "#    mass.append(np.exp(lnMi))"
   ]
  },
  {
   "cell_type": "code",
   "execution_count": 163,
   "id": "d9f3bc61-6dbc-41a5-a776-9d0a8b12603d",
   "metadata": {},
   "outputs": [
    {
     "name": "stdout",
     "output_type": "stream",
     "text": [
      "89401\n"
     ]
    },
    {
     "data": {
      "image/png": "[encoded data removed]",
      "text/plain": [
       "<Figure size 640x480 with 1 Axes>"
      ]
     },
     "metadata": {},
     "output_type": "display_data"
    }
   ],
   "source": [
    "plt.scatter(lnM, rich)\n",
    "print(len(rich))"
   ]
  },
  {
   "cell_type": "code",
   "execution_count": 164,
   "id": "f8c52215-70cb-4430-b28f-cb46606b1933",
   "metadata": {},
   "outputs": [],
   "source": [
    "file = open(\"richness.txt\", \"w\")\n",
    "for item in rich:\n",
    "    file.write(f\"{item}\\n\")\n",
    "file.close()\n",
    "# file = open('mass.txt','w')\n",
    "# for item in mass:\n",
    "#     file.write(f\"{item}\\n\")\n",
    "# file.close()\n",
    "# file = open('redshift.txt','w')\n",
    "# for item in z_list:\n",
    "#     file.write(f\"{item}\\n\")\n",
    "# file.close()"
   ]
  },
  {
   "cell_type": "code",
   "execution_count": null,
   "id": "e1c4a2b4-958c-4a49-9652-808785640fcc",
   "metadata": {},
   "outputs": [],
   "source": []
  }
 ],
 "metadata": {
  "kernelspec": {
   "display_name": "Python (firecrown2.0)",
   "language": "python",
   "name": "firecrown"
  },
  "language_info": {
   "codemirror_mode": {
    "name": "ipython",
    "version": 3
   },
   "file_extension": ".py",
   "mimetype": "text/x-python",
   "name": "python",
   "nbconvert_exporter": "python",
   "pygments_lexer": "ipython3",
   "version": "3.11.0"
  }
 },
 "nbformat": 4,
 "nbformat_minor": 5
}
