{
 "cells": [
  {
   "cell_type": "markdown",
   "id": "f789df23",
   "metadata": {},
   "source": [
    "# Notebook example on how to generate a SACC cluster number counts file\n",
    "\n",
    "In this notebook, we generate random data of clusters inside a redshift and mass intervals, which will be stored in a SACC file. This notebook exemplifies the default way to provide a number counts SACC file to firecrown."
   ]
  },
  {
   "cell_type": "code",
   "execution_count": 45,
   "id": "61322cd3",
   "metadata": {},
   "outputs": [
    {
     "name": "stdout",
     "output_type": "stream",
     "text": [
      "The autoreload extension is already loaded. To reload it, use:\n",
      "  %reload_ext autoreload\n"
     ]
    }
   ],
   "source": [
    "%load_ext autoreload\n",
    "%autoreload 2\n",
    "#!/usr/bin/env python\n",
    "\n",
    "try:\n",
    "    import gi\n",
    "\n",
    "    gi.require_version(\"NumCosmo\", \"1.0\")\n",
    "    gi.require_version(\"NumCosmoMath\", \"1.0\")\n",
    "except:\n",
    "    pass\n",
    "\n",
    "import math\n",
    "from gi.repository import GObject\n",
    "from gi.repository import NumCosmo as Nc\n",
    "from gi.repository import NumCosmoMath as Ncm\n",
    "import sys\n",
    "\n",
    "sys.path.insert(0, \"../../scripts\")\n",
    "import os\n",
    "import numpy as np\n",
    "from astropy.table import Table\n",
    "from numpy import random\n",
    "import scipy\n",
    "import matplotlib.pyplot as plt\n",
    "import clmm\n",
    "from clmm import GalaxyCluster, ClusterEnsemble, GCData\n",
    "from clmm import Cosmology\n",
    "from clmm.support import mock_data as mock\n",
    "import pandas as pd\n",
    "import numpy as np\n",
    "import pyccl as ccl\n",
    "import sacc\n",
    "\n",
    "clmm.__version__\n",
    "import pandas as pd\n",
    "from astropy.io import fits\n",
    "from astropy.table import Table\n",
    "import scipy.integrate\n",
    "import astropy.units as u\n",
    "\n",
    "\n",
    "Ncm.cfg_init()\n",
    "Ncm.cfg_set_log_handler(lambda msg: sys.stdout.write(msg) and sys.stdout.flush())\n",
    "\n",
    "%matplotlib inline\n",
    "catalog = \"skysim5000_v1.1.1\"\n",
    "sys.path.insert(0, \"/pbs/home/e/ebarroso/gcr-catalogs\")\n",
    "import GCRCatalogs\n",
    "\n",
    "GCRCatalogs.set_root_dir_by_site(\"in2p3\")\n",
    "skysim_cat = GCRCatalogs.load_catalog(catalog)\n",
    "cosmo_ss = skysim_cat.cosmology"
   ]
  },
  {
   "cell_type": "markdown",
   "id": "aafc1cf4-c186-4ad8-8aa7-6679b23d123b",
   "metadata": {},
   "source": [
    "# Generating data with NumCosmo"
   ]
  },
  {
   "cell_type": "markdown",
   "id": "c5cc635a-6b92-4a9b-a58f-5c945e9606eb",
   "metadata": {},
   "source": [
    "## Creating NumCosmo Mass function and Number Counts Object"
   ]
  },
  {
   "cell_type": "code",
   "execution_count": 46,
   "id": "869ec7bd-f052-4ec9-a90d-27e439af5b5f",
   "metadata": {},
   "outputs": [
    {
     "name": "stdout",
     "output_type": "stream",
     "text": [
      "71.0 km / (Mpc s) 0.2648\n"
     ]
    }
   ],
   "source": [
    "print(cosmo_ss.H0, cosmo_ss.Om0)"
   ]
  },
  {
   "cell_type": "code",
   "execution_count": 47,
   "id": "da4c5cfa-f9fa-47bf-939e-e039355f1988",
   "metadata": {},
   "outputs": [
    {
     "name": "stdout",
     "output_type": "stream",
     "text": [
      "0.8 0.8490796381176396 0.0\n",
      "0.8 0.7999999999999999\n",
      "71.0 0.0448 0.21999999999999997 <bound method FLRW.Ode of FlatLambdaCDM(H0=71.0 km / (Mpc s), Om0=0.2648, Tcmb0=0.0 K, Neff=3.04, m_nu=None, Ob0=0.0448)> 0.963 3.04\n",
      "['H0', 'Omegac', 'Omegak', 'Tgamma0', 'Yp', 'ENnu', 'Omegab', 'w']\n",
      "0.0\n",
      "\n"
     ]
    }
   ],
   "source": [
    "cosmo = Nc.HICosmoDEXcdm()\n",
    "reion = Nc.HIReionCamb.new()\n",
    "prim = Nc.HIPrimPowerLaw.new()\n",
    "\n",
    "cosmo.add_submodel(reion)\n",
    "cosmo.add_submodel(prim)\n",
    "\n",
    "dist = Nc.Distance.new(2.0)\n",
    "\n",
    "tf = Nc.TransferFunc.new_from_name(\"NcTransferFuncEH\")\n",
    "\n",
    "psml = Nc.PowspecMLTransfer.new(tf)\n",
    "\n",
    "# psml = Nc.PowspecMLCBE.new ()\n",
    "psml.require_kmin(1.0e-6)\n",
    "psml.require_kmax(1.0e3)\n",
    "\n",
    "psf = Ncm.PowspecFilter.new(psml, Ncm.PowspecFilterType.TOPHAT)\n",
    "psf.set_best_lnr0()\n",
    "\n",
    "\n",
    "cosmo.props.H0 = cosmo_ss.H0.value\n",
    "cosmo.props.Omegab = cosmo_ss.Ob0\n",
    "cosmo.props.Omegac = cosmo_ss.Odm0\n",
    "cosmo.props.Omegax = cosmo_ss.Ode0\n",
    "\n",
    "cosmo.omega_x2omega_k()\n",
    "cosmo.param_set_by_name(\"Omegak\", 0.0)\n",
    "\n",
    "prim.props.n_SA = cosmo_ss.n_s\n",
    "print(cosmo_ss.sigma8, cosmo.sigma8(psf), cosmo.Omega_k0())\n",
    "\n",
    "old_amplitude = math.exp(prim.props.ln10e10ASA)\n",
    "prim.props.ln10e10ASA = math.log(\n",
    "    (cosmo_ss.sigma8 / cosmo.sigma8(psf)) ** 2 * old_amplitude\n",
    ")\n",
    "print(cosmo_ss.sigma8, cosmo.sigma8(psf))\n",
    "print(\n",
    "    cosmo_ss.H0.value,\n",
    "    cosmo_ss.Ob0,\n",
    "    cosmo_ss.Odm0,\n",
    "    cosmo_ss.Ode,\n",
    "    cosmo_ss.n_s,\n",
    "    cosmo_ss.Neff,\n",
    ")\n",
    "print(cosmo.param_names())\n",
    "print(cosmo.Omega_mnu0())\n",
    "print()"
   ]
  },
  {
   "cell_type": "code",
   "execution_count": 48,
   "id": "f7b0ce50-87e9-46e7-828a-063b712bc867",
   "metadata": {},
   "outputs": [],
   "source": [
    "# Init and final redshift. Sky area\n",
    "zl = 0.2\n",
    "zu = 0.65\n",
    "area = 439.78986\n",
    "# Numcosmo Cluster Abundance\n",
    "\n",
    "# First we need to define the multiplicity function here we will use the tinker\n",
    "mulf = Nc.MultiplicityFuncTinker.new()\n",
    "mulf.set_linear_interp(True)\n",
    "mulf.set_mdef(Nc.MultiplicityFuncMassDef.MEAN)\n",
    "mulf.set_Delta(200)\n",
    "\n",
    "\n",
    "# Mass fuction definition\n",
    "hmf = Nc.HaloMassFunction.new(dist, psf, mulf)\n",
    "hmf.set_area_sd(area)\n",
    "\n",
    "# Cluster abundance obj, mass obj, redshift obj\n",
    "ca = Nc.ClusterAbundance.new(hmf, None)\n",
    "cluster_m = Nc.ClusterMass.new_from_name(\n",
    "    \"NcClusterMassNodist{'lnM-min':<%20.15e>, 'lnM-max':<%20.15e>}\"\n",
    "    % (math.log(10) * np.log10(1e13), math.log(10) * np.log10(1e15))\n",
    ")\n",
    "cluster_z = Nc.ClusterRedshift.new_from_name(\n",
    "    \"NcClusterRedshiftNodist{'z-min': <%20.15e>, 'z-max':<%20.15e>}\" % (zl, zu)\n",
    ")\n",
    "\n",
    "ncount_nodist = Nc.DataClusterNCount.new(\n",
    "    ca, \"NcClusterRedshiftNodist\", \"NcClusterMassNodist\"\n",
    ")\n",
    "ca.prepare(cosmo, cluster_z, cluster_m)\n",
    "mset = Ncm.MSet.new_array([cosmo, cluster_z, cluster_m])"
   ]
  },
  {
   "cell_type": "markdown",
   "id": "28633e1f-3ef9-4a91-9432-663a867d746f",
   "metadata": {},
   "source": [
    "## Generating Clusters "
   ]
  },
  {
   "cell_type": "code",
   "execution_count": 49,
   "id": "8c61b7a7-fc7d-47aa-9df7-491cf9db5024",
   "metadata": {},
   "outputs": [
    {
     "name": "stdout",
     "output_type": "stream",
     "text": [
      "Cluster NCount resample unbinned. Generated 88706 from mean      89161 (full). Mass proxy type `NcClusterMassNodist', redshift proxy type `NcClusterRedshiftNodist'. Resampled in range [  0.2000,   0.6500] [1.00000000e+13, 1.00000000e+15] and area 439.7899 degrees square.\n"
     ]
    }
   ],
   "source": [
    "rng = Ncm.RNG.seeded_new(None, 3)\n",
    "ncount_nodist.init_from_sampling(mset, area * ((np.pi / 180) ** 2), rng)\n",
    "print(ncount_nodist.desc)"
   ]
  },
  {
   "cell_type": "code",
   "execution_count": 59,
   "id": "ab7dfe6a-29ed-45a3-a072-28113bd2b036",
   "metadata": {},
   "outputs": [
    {
     "data": {
      "text/html": [
       "<div><i>Table length=89401</i>\n",
       "<table id=\"table139667509657232\" class=\"table-striped table-bordered table-condensed\">\n",
       "<thead><tr><th>Z_OBS</th><th>LNM_OBS</th><th>Z_TRUE</th><th>LNM_TRUE</th></tr></thead>\n",
       "<thead><tr><th>float64</th><th>float64</th><th>float64</th><th>float64</th></tr></thead>\n",
       "<tr><td>0.4285610549833374</td><td>30.255507852075702</td><td>0.4285610549833374</td><td>30.255507852075702</td></tr>\n",
       "<tr><td>0.547082547647362</td><td>31.555589810758786</td><td>0.547082547647362</td><td>31.555589810758786</td></tr>\n",
       "<tr><td>0.46818292662884137</td><td>31.393096588512037</td><td>0.46818292662884137</td><td>31.393096588512037</td></tr>\n",
       "<tr><td>0.5089924211346762</td><td>30.9163464148807</td><td>0.5089924211346762</td><td>30.9163464148807</td></tr>\n",
       "<tr><td>0.5604603014832846</td><td>31.049929670576997</td><td>0.5604603014832846</td><td>31.049929670576997</td></tr>\n",
       "<tr><td>0.5222896848618753</td><td>30.066226408672655</td><td>0.5222896848618753</td><td>30.066226408672655</td></tr>\n",
       "<tr><td>0.25500137707675935</td><td>30.585015664118146</td><td>0.25500137707675935</td><td>30.585015664118146</td></tr>\n",
       "<tr><td>0.5126420412266512</td><td>30.310959393533135</td><td>0.5126420412266512</td><td>30.310959393533135</td></tr>\n",
       "<tr><td>0.5803645711453446</td><td>33.169450212989204</td><td>0.5803645711453446</td><td>33.169450212989204</td></tr>\n",
       "<tr><td>0.6241760831685378</td><td>30.373887197509013</td><td>0.6241760831685378</td><td>30.373887197509013</td></tr>\n",
       "<tr><td>...</td><td>...</td><td>...</td><td>...</td></tr>\n",
       "<tr><td>0.3971568259760993</td><td>30.97383860068617</td><td>0.3971568259760993</td><td>30.97383860068617</td></tr>\n",
       "<tr><td>0.5053083385739535</td><td>30.16792772556468</td><td>0.5053083385739535</td><td>30.16792772556468</td></tr>\n",
       "<tr><td>0.5510444882299028</td><td>30.096940934330707</td><td>0.5510444882299028</td><td>30.096940934330707</td></tr>\n",
       "<tr><td>0.5554690090544432</td><td>30.34608437671325</td><td>0.5554690090544432</td><td>30.34608437671325</td></tr>\n",
       "<tr><td>0.3879946964243873</td><td>30.360375998627763</td><td>0.3879946964243873</td><td>30.360375998627763</td></tr>\n",
       "<tr><td>0.2941974890800748</td><td>31.2470971066087</td><td>0.2941974890800748</td><td>31.2470971066087</td></tr>\n",
       "<tr><td>0.46968570769896395</td><td>31.852316872628126</td><td>0.46968570769896395</td><td>31.852316872628126</td></tr>\n",
       "<tr><td>0.32304984201982156</td><td>30.117429929221714</td><td>0.32304984201982156</td><td>30.117429929221714</td></tr>\n",
       "<tr><td>0.559764886443189</td><td>30.454805365087296</td><td>0.559764886443189</td><td>30.454805365087296</td></tr>\n",
       "<tr><td>0.43975281054632454</td><td>30.974281727572922</td><td>0.43975281054632454</td><td>30.974281727572922</td></tr>\n",
       "</table></div>"
      ],
      "text/plain": [
       "<Table length=89401>\n",
       "       Z_OBS             LNM_OBS              Z_TRUE            LNM_TRUE     \n",
       "      float64            float64             float64            float64      \n",
       "------------------- ------------------ ------------------- ------------------\n",
       " 0.4285610549833374 30.255507852075702  0.4285610549833374 30.255507852075702\n",
       "  0.547082547647362 31.555589810758786   0.547082547647362 31.555589810758786\n",
       "0.46818292662884137 31.393096588512037 0.46818292662884137 31.393096588512037\n",
       " 0.5089924211346762   30.9163464148807  0.5089924211346762   30.9163464148807\n",
       " 0.5604603014832846 31.049929670576997  0.5604603014832846 31.049929670576997\n",
       " 0.5222896848618753 30.066226408672655  0.5222896848618753 30.066226408672655\n",
       "0.25500137707675935 30.585015664118146 0.25500137707675935 30.585015664118146\n",
       " 0.5126420412266512 30.310959393533135  0.5126420412266512 30.310959393533135\n",
       " 0.5803645711453446 33.169450212989204  0.5803645711453446 33.169450212989204\n",
       " 0.6241760831685378 30.373887197509013  0.6241760831685378 30.373887197509013\n",
       "                ...                ...                 ...                ...\n",
       " 0.3971568259760993  30.97383860068617  0.3971568259760993  30.97383860068617\n",
       " 0.5053083385739535  30.16792772556468  0.5053083385739535  30.16792772556468\n",
       " 0.5510444882299028 30.096940934330707  0.5510444882299028 30.096940934330707\n",
       " 0.5554690090544432  30.34608437671325  0.5554690090544432  30.34608437671325\n",
       " 0.3879946964243873 30.360375998627763  0.3879946964243873 30.360375998627763\n",
       " 0.2941974890800748   31.2470971066087  0.2941974890800748   31.2470971066087\n",
       "0.46968570769896395 31.852316872628126 0.46968570769896395 31.852316872628126\n",
       "0.32304984201982156 30.117429929221714 0.32304984201982156 30.117429929221714\n",
       "  0.559764886443189 30.454805365087296   0.559764886443189 30.454805365087296\n",
       "0.43975281054632454 30.974281727572922 0.43975281054632454 30.974281727572922"
      ]
     },
     "metadata": {},
     "output_type": "display_data"
    }
   ],
   "source": [
    "# ncount_nodist.catalog_save (\"ncount_nodist.fits\", True)\n",
    "ncount_nodist.catalog_load(\n",
    "    \"/pbs/home/e/ebarroso/firecrown/examples/number_counts/Generate and Analyze data/ncount_nodist_32.fits\"\n",
    ")\n",
    "\n",
    "ncdata_fits = fits.open(\n",
    "    \"/pbs/home/e/ebarroso/firecrown/examples/number_counts/Generate and Analyze data/ncount_nodist_32.fits\"\n",
    ")\n",
    "# ncdata_fits.info()\n",
    "\n",
    "ncdata_data = ncdata_fits[1].data\n",
    "\n",
    "ncdata_Table = Table(ncdata_data)\n",
    "ncdata_Table.columns\n",
    "# ncdata_Table.sort('LNM_TRUE')\n",
    "\n",
    "display(ncdata_Table)"
   ]
  },
  {
   "cell_type": "markdown",
   "id": "41b724e6-bc26-49c6-9834-58dfc8c707e8",
   "metadata": {},
   "source": [
    "## Plot of Cluster Masses versus Redshift"
   ]
  },
  {
   "cell_type": "markdown",
   "id": "46dba928-e1c0-4b8d-9b40-30ce890c9fdb",
   "metadata": {},
   "source": [
    "# Saving In SACC Format"
   ]
  },
  {
   "cell_type": "code",
   "execution_count": 60,
   "id": "a4d57ec4-0c5b-4ee4-9a4b-f35aa25eccd4",
   "metadata": {},
   "outputs": [],
   "source": [
    "rich_data = []\n",
    "with open(\n",
    "    \"/pbs/home/e/ebarroso/firecrown/examples/number_counts/NumCosmo/Rich_generation/richness.txt\",\n",
    "    \"r\",\n",
    ") as file:\n",
    "    for line in file:\n",
    "        rich_data.append(float(line))"
   ]
  },
  {
   "cell_type": "code",
   "execution_count": 61,
   "id": "51b56782",
   "metadata": {
    "tags": []
   },
   "outputs": [
    {
     "name": "stdout",
     "output_type": "stream",
     "text": [
      "[0.2229257  0.37410848 0.60479585 ... 0.         0.15154147 0.20847265]\n"
     ]
    }
   ],
   "source": [
    "data_table = ncdata_Table\n",
    "cluster_z = data_table[\"Z_OBS\"]\n",
    "cluster_lnm = rich_data\n",
    "\n",
    "cluster_z = np.array(cluster_z)\n",
    "cluster_m = np.log10(np.exp(np.array(np.array(cluster_lnm))))\n",
    "print(cluster_m)"
   ]
  },
  {
   "cell_type": "code",
   "execution_count": 72,
   "id": "9a76cfbd",
   "metadata": {},
   "outputs": [
    {
     "name": "stdout",
     "output_type": "stream",
     "text": [
      "[0.2000146  0.31251036 0.42500611 0.53750187 0.64999763] [0.1        0.45805137 0.81610273 1.1741541  1.53220547 1.89025684]\n",
      "61350.0\n"
     ]
    },
    {
     "data": {
      "text/plain": [
       "<matplotlib.colorbar.Colorbar at 0x7f06e444cf50>"
      ]
     },
     "execution_count": 72,
     "metadata": {},
     "output_type": "execute_result"
    },
    {
     "data": {
      "image/png": "[encoded data removed]",
      "text/plain": [
       "<Figure size 640x480 with 2 Axes>"
      ]
     },
     "metadata": {},
     "output_type": "display_data"
    }
   ],
   "source": [
    "N_m = 5  # number of mass bins\n",
    "N_z = 4  # number of redshift bins\n",
    "\n",
    "data_lz, z_edges, m_edges, im = plt.hist2d(\n",
    "    cluster_z,\n",
    "    (cluster_m),\n",
    "    bins=[N_z, N_m],\n",
    "    range=[[cluster_z.min(), cluster_z.max()], [0.1, cluster_m.max()]],\n",
    ")\n",
    "\n",
    "\n",
    "print(z_edges, m_edges)\n",
    "print(np.sum(data_lz))\n",
    "plt.colorbar()"
   ]
  },
  {
   "cell_type": "markdown",
   "id": "75e56361",
   "metadata": {},
   "source": [
    "Next, we create a covariance for the data, which should be a `numpy.ndarray`. We are using only Shot Noise."
   ]
  },
  {
   "cell_type": "code",
   "execution_count": 73,
   "id": "9c1738c4",
   "metadata": {
    "scrolled": true
   },
   "outputs": [
    {
     "name": "stdout",
     "output_type": "stream",
     "text": [
      "[[ 4799.     0.     0.     0.     0.     0.     0.     0.     0.     0.\n",
      "      0.     0.     0.     0.     0.     0.     0.     0.     0.     0.]\n",
      " [    0.  2365.     0.     0.     0.     0.     0.     0.     0.     0.\n",
      "      0.     0.     0.     0.     0.     0.     0.     0.     0.     0.]\n",
      " [    0.     0.   716.     0.     0.     0.     0.     0.     0.     0.\n",
      "      0.     0.     0.     0.     0.     0.     0.     0.     0.     0.]\n",
      " [    0.     0.     0.   158.     0.     0.     0.     0.     0.     0.\n",
      "      0.     0.     0.     0.     0.     0.     0.     0.     0.     0.]\n",
      " [    0.     0.     0.     0.    23.     0.     0.     0.     0.     0.\n",
      "      0.     0.     0.     0.     0.     0.     0.     0.     0.     0.]\n",
      " [    0.     0.     0.     0.     0.  8302.     0.     0.     0.     0.\n",
      "      0.     0.     0.     0.     0.     0.     0.     0.     0.     0.]\n",
      " [    0.     0.     0.     0.     0.     0.  3830.     0.     0.     0.\n",
      "      0.     0.     0.     0.     0.     0.     0.     0.     0.     0.]\n",
      " [    0.     0.     0.     0.     0.     0.     0.  1018.     0.     0.\n",
      "      0.     0.     0.     0.     0.     0.     0.     0.     0.     0.]\n",
      " [    0.     0.     0.     0.     0.     0.     0.     0.   213.     0.\n",
      "      0.     0.     0.     0.     0.     0.     0.     0.     0.     0.]\n",
      " [    0.     0.     0.     0.     0.     0.     0.     0.     0.    27.\n",
      "      0.     0.     0.     0.     0.     0.     0.     0.     0.     0.]\n",
      " [    0.     0.     0.     0.     0.     0.     0.     0.     0.     0.\n",
      "  11622.     0.     0.     0.     0.     0.     0.     0.     0.     0.]\n",
      " [    0.     0.     0.     0.     0.     0.     0.     0.     0.     0.\n",
      "      0.  4971.     0.     0.     0.     0.     0.     0.     0.     0.]\n",
      " [    0.     0.     0.     0.     0.     0.     0.     0.     0.     0.\n",
      "      0.     0.  1330.     0.     0.     0.     0.     0.     0.     0.]\n",
      " [    0.     0.     0.     0.     0.     0.     0.     0.     0.     0.\n",
      "      0.     0.     0.   250.     0.     0.     0.     0.     0.     0.]\n",
      " [    0.     0.     0.     0.     0.     0.     0.     0.     0.     0.\n",
      "      0.     0.     0.     0.    23.     0.     0.     0.     0.     0.]\n",
      " [    0.     0.     0.     0.     0.     0.     0.     0.     0.     0.\n",
      "      0.     0.     0.     0.     0. 14192.     0.     0.     0.     0.]\n",
      " [    0.     0.     0.     0.     0.     0.     0.     0.     0.     0.\n",
      "      0.     0.     0.     0.     0.     0.  5831.     0.     0.     0.]\n",
      " [    0.     0.     0.     0.     0.     0.     0.     0.     0.     0.\n",
      "      0.     0.     0.     0.     0.     0.     0.  1423.     0.     0.]\n",
      " [    0.     0.     0.     0.     0.     0.     0.     0.     0.     0.\n",
      "      0.     0.     0.     0.     0.     0.     0.     0.   234.     0.]\n",
      " [    0.     0.     0.     0.     0.     0.     0.     0.     0.     0.\n",
      "      0.     0.     0.     0.     0.     0.     0.     0.     0.    23.]]\n"
     ]
    },
    {
     "data": {
      "image/png": "[encoded data removed]",
      "text/plain": [
       "<Figure size 640x480 with 1 Axes>"
      ]
     },
     "metadata": {},
     "output_type": "display_data"
    }
   ],
   "source": [
    "covariance = np.zeros((N_m * N_z, N_m * N_z))\n",
    "np.fill_diagonal(covariance, (data_lz.flatten()))\n",
    "\n",
    "\n",
    "plt.imshow((covariance))\n",
    "print(covariance)"
   ]
  },
  {
   "cell_type": "markdown",
   "id": "ea824996",
   "metadata": {},
   "source": [
    "## Storing In Sacc\n",
    "We first initialize the SACC object and name as `s_count`. The file must have at least one tracer from the supported types, which shall be called `cluster_counts_true_mass`. So far, firecrown only has the implementation for real mass and real redshift. More options will be provided in the future. The tracer must be added as being the type `misc` and should be created with a directory to be added under `metadata`.\n",
    "\n",
    "The metadata dictionary must be created with:\n",
    " * `Mproxy_type: 'true_mass'`. A `str` that represents the type of proxy. So far there is only the `true_mass` option.\n",
    " * `Mproxy_edges : m_edges`. A `numpy.array` of `floats` with the proxy bins.\n",
    " * `z_type : 'true_redshift'`. A string that represents the type of redshift. So far there is only the `true_redshift` option.\n",
    " * `z_edges : z_edges`. A `numpy.array` of `floats` with the redshift bins.\n",
    " * `sky_area: 439.78986`. A `float` with the sky area.  \n",
    "\n",
    "With the metadata, the `add_tracer` function must be called"
   ]
  },
  {
   "cell_type": "code",
   "execution_count": 74,
   "id": "208bd1bf",
   "metadata": {},
   "outputs": [],
   "source": [
    "s_count = sacc.Sacc()"
   ]
  },
  {
   "cell_type": "code",
   "execution_count": 75,
   "id": "b21937d1",
   "metadata": {},
   "outputs": [
    {
     "name": "stdout",
     "output_type": "stream",
     "text": [
      "\n"
     ]
    }
   ],
   "source": [
    "name = f\"cluster_counts_richness_proxy\"\n",
    "metadata = {\n",
    "    \"Mproxy_type\": \"richness_proxy\",\n",
    "    \"Mproxy_edges\": np.array(m_edges),\n",
    "    \"z_type\": \"true_redshift\",\n",
    "    \"z_edges\": np.array(z_edges),\n",
    "    \"sky_area\": area,\n",
    "}\n",
    "s_count.add_tracer(\"misc\", name, metadata=metadata)\n",
    "print()"
   ]
  },
  {
   "cell_type": "markdown",
   "id": "ee76015c",
   "metadata": {},
   "source": [
    "Having the tracer, the user must call the `add_data` function for all the data points using the same tracer. The data should be the number of clusters in each bin of redsfhit and proxy. The order of the data is really important: the user must add the data  for each redshift bin iterating then over the proxy bins, that is, filling a row-major (z, proxy) matrix. "
   ]
  },
  {
   "cell_type": "code",
   "execution_count": 76,
   "id": "a48c73b6",
   "metadata": {},
   "outputs": [],
   "source": [
    "# One of our identifiers is a standard type name that is predefined\n",
    "cluster_count = sacc.standard_types.cluster_mass_count_wl\n",
    "for i in range(N_z):\n",
    "    for j in range(N_m):\n",
    "        # Cluster number counts data\n",
    "        tracer = name\n",
    "        value = data_lz[i][j]\n",
    "        s_count.add_data_point(cluster_count, (tracer,), value, err=1.0)"
   ]
  },
  {
   "cell_type": "markdown",
   "id": "41dddbb3",
   "metadata": {},
   "source": [
    "Lastly, the user must add the covariance and call the necessary functions to save the SACC file."
   ]
  },
  {
   "cell_type": "code",
   "execution_count": 77,
   "id": "342458fa",
   "metadata": {},
   "outputs": [],
   "source": [
    "s_count.add_covariance(covariance)\n",
    "s_count.to_canonical_order()\n",
    "s_count.save_fits(\"clusters_numcosmo_rich_same_data32.sacc\", overwrite=True)"
   ]
  },
  {
   "cell_type": "markdown",
   "id": "af8f4e81",
   "metadata": {},
   "source": [
    "## Loading the file"
   ]
  },
  {
   "cell_type": "code",
   "execution_count": 19,
   "id": "d4888b64",
   "metadata": {},
   "outputs": [
    {
     "name": "stdout",
     "output_type": "stream",
     "text": [
      "{'data_type': 'cluster_mass_count_wl', 'tracers': ('cluster_counts_true_mass',), 'value': 7188.0, 'tags': {'err': 1.0}}\n",
      "7188.0\n",
      "{'z_edges': array([0.20001715, 0.31251242, 0.42500769, 0.53750296, 0.64999823]), 'z_type': 'true_redshift', 'Mproxy_type': 'true_mass', 'sky_area': 439.78986, 'Mproxy_edges': array([13.0000054 , 13.39974362, 13.79948184, 14.19922006, 14.59895828,\n",
      "       14.99869651])}\n"
     ]
    }
   ],
   "source": [
    "sacc_data = sacc.Sacc.load_fits(\"./clusters_numcosmo_seed3.sacc\")\n",
    "tracer = sacc_data.get_tracer(name)\n",
    "\n",
    "print(sacc_data.data[0].__dict__)\n",
    "print(sacc_data.data[0].value)\n",
    "print(tracer.metadata)"
   ]
  },
  {
   "cell_type": "markdown",
   "id": "04ac263d-6b23-41e5-b3ba-59b19a70abf7",
   "metadata": {},
   "source": [
    "## Test to compare the Data Vector and the Theory Vector computed by firecrown using the true cosmology"
   ]
  },
  {
   "cell_type": "code",
   "execution_count": 20,
   "id": "e3fb8cee-ac6e-4b9f-ac91-26c6fda65142",
   "metadata": {},
   "outputs": [],
   "source": [
    "cosmo_ccl = ccl.Cosmology(\n",
    "    Omega_c=0.22, Omega_b=0.0448, h=0.71, sigma8=0.8, n_s=0.963, Neff=3.04\n",
    ")\n",
    "\n",
    "DeltaOmega = area * np.pi**2 / 180**2"
   ]
  },
  {
   "cell_type": "code",
   "execution_count": 21,
   "id": "54bb5de1-a9ca-45d4-83d3-a008858558d1",
   "metadata": {},
   "outputs": [
    {
     "name": "stdout",
     "output_type": "stream",
     "text": [
      "[13.0000054  13.39974362 13.79948184 14.19922006 14.59895828 14.99869651]\n",
      "The model preddicted by firecrown :\n",
      "[7293.733565226287, 2727.0208397327588, 881.304505103005, 220.3998868095275, 35.157454549326495, 12753.297740497605, 4603.922079348301, 1408.905273503503, 323.41258936586075, 45.03320741574133, 18169.63712610238, 6306.81799477811, 1816.3797852152254, 379.19473904387445, 45.44915906259544, 22874.410140380107, 7603.725893805649, 2048.837418976284, 385.6101977237592, 39.26382466250712] \n",
      "The data generated by NumCosmo:\n",
      " [[ 7188.  2706.   883.   235.    33.]\n",
      " [12405.  4562.  1365.   297.    44.]\n",
      " [17979.  6197.  1873.   374.    57.]\n",
      " [22511.  7514.  2050.   395.    38.]]\n"
     ]
    }
   ],
   "source": [
    "def integrand(logm, z):\n",
    "    fire_t8 = CCLDensity(\"mean\", \"Tinker08\")\n",
    "    # pylint: disable-next=invalid-name\n",
    "    nm = fire_t8.compute_number_density(cosmo_ccl, logm, z)\n",
    "    # pylint: disable-next=invalid-name\n",
    "    dv = fire_t8.compute_differential_comoving_volume(cosmo_ccl, z)\n",
    "    return nm * dv\n",
    "\n",
    "\n",
    "theory_vector = []\n",
    "print(m_edges)\n",
    "for i in range(len(z_edges) - 1):\n",
    "    for j in range(len(m_edges) - 1):\n",
    "        bin_count = scipy.integrate.dblquad(\n",
    "            integrand,\n",
    "            z_edges[i],\n",
    "            z_edges[i + 1],\n",
    "            # pylint: disable-next=cell-var-from-loop\n",
    "            lambda x: m_edges[j],\n",
    "            # pylint: disable-next=cell-var-from-loop\n",
    "            lambda x: m_edges[j + 1],\n",
    "            epsabs=1.0e-4,\n",
    "            epsrel=1.0e-4,\n",
    "        )[0]\n",
    "        theory_vector.append(bin_count * DeltaOmega)\n",
    "print(f\"The model preddicted by firecrown :\\n{theory_vector} \")\n",
    "print(f\"The data generated by NumCosmo:\\n {data_lz}\")"
   ]
  },
  {
   "cell_type": "code",
   "execution_count": 22,
   "id": "ac556a8f-d774-438c-baea-7cf1f3a01d84",
   "metadata": {},
   "outputs": [
    {
     "name": "stdout",
     "output_type": "stream",
     "text": [
      "The relative diference between the theory and the prediction is :[ 0.01470973  0.00776823 -0.00192015 -0.06212814  0.06537741  0.02807721\n",
      "  0.00918941  0.03216504  0.08893128  0.02348199  0.01060332  0.01772115\n",
      " -0.03022969  0.01388968 -0.20264633  0.01614367  0.01194116 -0.00056711\n",
      " -0.02377165  0.03325854]\n"
     ]
    }
   ],
   "source": [
    "print(\n",
    "    f\"The relative diference between the theory and the prediction is :{theory_vector / data_lz.flatten() -1}\"\n",
    ")"
   ]
  },
  {
   "cell_type": "code",
   "execution_count": null,
   "id": "79846e2f-f30a-4e3c-a8ca-e4d4820e9141",
   "metadata": {},
   "outputs": [],
   "source": [
    "print(cosmo.)"
   ]
  }
 ],
 "metadata": {
  "kernelspec": {
   "display_name": "Python (firecrown2.0)",
   "language": "python",
   "name": "firecrown"
  },
  "language_info": {
   "codemirror_mode": {
    "name": "ipython",
    "version": 3
   },
   "file_extension": ".py",
   "mimetype": "text/x-python",
   "name": "python",
   "nbconvert_exporter": "python",
   "pygments_lexer": "ipython3",
   "version": "3.11.0"
  }
 },
 "nbformat": 4,
 "nbformat_minor": 5
}
