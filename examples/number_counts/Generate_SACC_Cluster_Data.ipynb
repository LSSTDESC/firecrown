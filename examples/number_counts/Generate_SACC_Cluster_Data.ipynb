{
 "cells": [
  {
   "cell_type": "markdown",
   "id": "f789df23",
   "metadata": {},
   "source": [
    "# Notebook example on how to generate a SACC cluster number counts file\n",
    "\n",
    "In this notebook, we generate random data of clusters inside a redshift and mass intervals, which will be stored in a SACC file. This notebook exemplifies the default way to provide a number counts SACC file to firecrown."
   ]
  },
  {
   "cell_type": "code",
   "execution_count": 1,
   "id": "61322cd3",
   "metadata": {},
   "outputs": [
    {
     "data": {
      "text/plain": [
       "'1.4.0'"
      ]
     },
     "execution_count": 1,
     "metadata": {},
     "output_type": "execute_result"
    }
   ],
   "source": [
    "%load_ext autoreload\n",
    "%autoreload 2\n",
    "\n",
    "import sys\n",
    "import os\n",
    "import numpy as np\n",
    "from astropy.table import Table\n",
    "from numpy import random\n",
    "import scipy\n",
    "import matplotlib.pyplot as plt\n",
    "import clmm\n",
    "from clmm import GalaxyCluster, ClusterEnsemble, GCData\n",
    "from clmm import Cosmology\n",
    "from clmm.support import mock_data as mock\n",
    "import pandas as pd\n",
    "import numpy as np\n",
    "import pyccl as ccl\n",
    "import sacc\n",
    "clmm.__version__"
   ]
  },
  {
   "cell_type": "markdown",
   "id": "c2427304",
   "metadata": {},
   "source": [
    "## Generating Random Custers\n",
    "\n",
    "We first generate a random number of clusters for each interval of redshift and proxy bins, which in this case is the real mass."
   ]
  },
  {
   "cell_type": "code",
   "execution_count": 2,
   "id": "51b56782",
   "metadata": {},
   "outputs": [],
   "source": [
    "# redshift and mass range of the galaxy clusters\n",
    "z_bin = [0.1,0.6]\n",
    "logm_bin = np.array([13, 15.1]) #Solar Mass\n",
    "\n",
    "# number of clusters in the ensemble\n",
    "n_clusters = 3000\n",
    "\n",
    "# random draw in the mass and redshift range (for simplicity, uniform instead of following an actual mass function)\n",
    "cluster_m = 10 **((logm_bin[1] - logm_bin[0])*np.random.random(n_clusters) + logm_bin[0]) #in M_sun\n",
    "cluster_z =  (z_bin[1] - z_bin[0])*np.random.random(n_clusters) + z_bin[0] \n",
    "\n",
    "# random normal draw of cluster concentration, around c_mean\n",
    "c_mean = 4.\n",
    "lnc = abs(np.log(c_mean) + 0.01*np.random.randn(n_clusters))\n",
    "concentration = np.exp(lnc)\n",
    "\n",
    "# randomly draw cluster positions on the sky\n",
    "ra = np.random.random(n_clusters) * 360 #from 0 to 360 deg\n",
    "sindec = np.random.random(n_clusters) * 2 - 1\n",
    "dec = np.arcsin(sindec) * 180 / np.pi #from -90 to 90 deg\n",
    "catalog = {\n",
    "    \"proxy_colname\":cluster_m,\n",
    "    \"redshift_colname\":cluster_z,\n",
    "    \"ra_colname\": ra,\n",
    "    \"dec_colname\":dec\n",
    "}"
   ]
  },
  {
   "cell_type": "code",
   "execution_count": 3,
   "id": "9a76cfbd",
   "metadata": {
    "scrolled": false
   },
   "outputs": [
    {
     "name": "stdout",
     "output_type": "stream",
     "text": [
      "[[480.  94.  58.  41.  31.]\n",
      " [505.  98.  76.  36.  26.]\n",
      " [529. 118.  76.  46.  38.]\n",
      " [492. 104.  79.  37.  36.]] [0.10005619 0.2249608  0.3498654  0.47477    0.5996746 ]\n"
     ]
    },
    {
     "data": {
      "text/plain": [
       "<matplotlib.colorbar.Colorbar at 0x7f3e55878790>"
      ]
     },
     "execution_count": 3,
     "metadata": {},
     "output_type": "execute_result"
    },
    {
     "data": {
      "image/png": "[encoded data removed]",
      "text/plain": [
       "<Figure size 640x480 with 2 Axes>"
      ]
     },
     "metadata": {},
     "output_type": "display_data"
    }
   ],
   "source": [
    "\n",
    "N_m = 5 # number of mass bins\n",
    "N_z = 4 # number of redshift bins\n",
    "\n",
    "data_lz, z_edges, m_edges, im  = plt.hist2d(cluster_z, cluster_m,\n",
    "                                       bins=[N_z, N_m]);\n",
    "\n",
    "print(data_lz, z_edges)\n",
    "plt.colorbar()"
   ]
  },
  {
   "cell_type": "markdown",
   "id": "75e56361",
   "metadata": {},
   "source": [
    "Next, we create a covariance for the data, which should be a `numpy.ndarray`."
   ]
  },
  {
   "cell_type": "code",
   "execution_count": 4,
   "id": "9c1738c4",
   "metadata": {
    "scrolled": true
   },
   "outputs": [],
   "source": [
    "covariance =np.zeros((20,20))\n",
    "np.fill_diagonal(covariance, np.sqrt(data_lz.flatten()))\n"
   ]
  },
  {
   "cell_type": "markdown",
   "id": "ea824996",
   "metadata": {},
   "source": [
    "## Storing In Sacc\n",
    "We first initialize the SACC object and name as `s_count`. The file must have only one tracer, which shall be called `cluster_counts_true_mass`. So far, firecrown only has the implementation for real mass and real redshift. More options will be provided in the future. The tracer must be added as being the type `misc` and should be created with a directory to be added under `metadata`.\n",
    "\n",
    "The metadata dictionary must be created with:\n",
    " * `Mproxy_type: 'true_mass'`. A `str` that represents the type of proxy. So far there is only the `true_mass` option.\n",
    " * `Mproxy_edges : m_edges`. A `list` of `floats` with the proxy bins.\n",
    " * `z_type : 'true_redshift'`. A string that represents the type of redshift. So far there is only the `true_redshift` option.\n",
    " * `z_edges : z_edges`. A `list` of `floats` with the redshift bins.\n",
    " * `sky_area: 439.78986`. A `float` with the sky area.  \n",
    "\n",
    "With the metadata, the `add_tracer` function must be called"
   ]
  },
  {
   "cell_type": "code",
   "execution_count": 5,
   "id": "208bd1bf",
   "metadata": {},
   "outputs": [],
   "source": [
    "s_count = sacc.Sacc()"
   ]
  },
  {
   "cell_type": "code",
   "execution_count": 6,
   "id": "b21937d1",
   "metadata": {},
   "outputs": [],
   "source": [
    "name = f'cluster_counts_true_mass'\n",
    "metadata = {'Mproxy_type': 'true_mass',\n",
    "            'Mproxy_edges' : m_edges,\n",
    "            'z_type' : 'true_redshift', \n",
    "            'z_edges' : z_edges,\n",
    "            'sky_area': 439.78986          \n",
    "        }\n",
    "s_count.add_tracer('misc', name, metadata=metadata)"
   ]
  },
  {
   "cell_type": "markdown",
   "id": "ee76015c",
   "metadata": {},
   "source": [
    "Having the tracer, the user must call the `add_data` function for all the data points using the same tracer. The data should be the number of clusters in each bin of redsfhit and proxy. The order of the data is really important: the user must add the data for each redshift bin and then for the proxy bins. Example, for 3 bins of mass: data1 = (z_bin=0, proxy_bin = 0), data2 = (z_bin=0, proxy_bin = 1), data3 =(z_bin=0, proxy_bin = 2), data4 = (z_bin=1, proxy_bin = 0), etc.\n",
    "The function to call the data"
   ]
  },
  {
   "cell_type": "code",
   "execution_count": 7,
   "id": "a48c73b6",
   "metadata": {},
   "outputs": [],
   "source": [
    "# One of our identifiers is a standard type name that is predefined\n",
    "cluster_count = sacc.standard_types.cluster_mass_count_wl\n",
    "for i in range(N_z): \n",
    "    for j in range(N_m):\n",
    "        # Cluster number counts data\n",
    "        tracer = name\n",
    "        value = data_lz[i][j]\n",
    "        s_count.add_data_point(cluster_count, (tracer,), value, err=1.)"
   ]
  },
  {
   "cell_type": "markdown",
   "id": "41dddbb3",
   "metadata": {},
   "source": [
    "Lastly, the user must add the covariance and call the necessary functions to save the SACC file."
   ]
  },
  {
   "cell_type": "code",
   "execution_count": 8,
   "id": "342458fa",
   "metadata": {},
   "outputs": [],
   "source": [
    "s_count.add_covariance(covariance)\n",
    "s_count.to_canonical_order()\n",
    "s_count.save_fits(\"clusters.sacc\", overwrite=True)"
   ]
  },
  {
   "cell_type": "markdown",
   "id": "af8f4e81",
   "metadata": {},
   "source": [
    "## Loading the file"
   ]
  },
  {
   "cell_type": "code",
   "execution_count": 9,
   "id": "d4888b64",
   "metadata": {},
   "outputs": [
    {
     "name": "stdout",
     "output_type": "stream",
     "text": [
      "{'data_type': 'cluster_mass_count_wl', 'tracers': ('cluster_counts_true_mass',), 'value': 480.0, 'tags': {'err': 1.0}}\n",
      "480.0\n",
      "{'z_type': 'true_redshift', 'Mproxy_edges': array([1.00004477e+13, 2.59429970e+14, 5.08859493e+14, 7.58289016e+14,\n",
      "       1.00771854e+15, 1.25714806e+15]), 'z_edges': array([0.10005619, 0.2249608 , 0.3498654 , 0.47477   , 0.5996746 ]), 'Mproxy_type': 'true_mass', 'sky_area': 439.78986}\n"
     ]
    }
   ],
   "source": [
    "sacc_data = sacc.Sacc.load_fits(\"./clusters.sacc\")\n",
    "tracer = sacc_data.get_tracer(name)\n",
    "\n",
    "print(sacc_data.data[0].__dict__)\n",
    "print(sacc_data.data[0].value)\n",
    "print(tracer.metadata)"
   ]
  },
  {
   "cell_type": "code",
   "execution_count": 26,
   "id": "da7fbf77",
   "metadata": {},
   "outputs": [
    {
     "name": "stdout",
     "output_type": "stream",
     "text": [
      "<sacc.tracers.MiscTracer object at 0x7f3e557249a0>\n",
      "[ 0  1  2  3  4  5  6  7  8  9 10 11 12 13 14 15 16 17 18 19]\n"
     ]
    }
   ],
   "source": [
    "print(tracer)\n",
    "traceraa = (name,)\n",
    "a = sacc_data.indices(cluster_count, traceraa)\n",
    "print(a)"
   ]
  },
  {
   "cell_type": "code",
   "execution_count": null,
   "id": "7c43c166",
   "metadata": {},
   "outputs": [],
   "source": []
  }
 ],
 "metadata": {
  "kernelspec": {
   "display_name": "Python 3 (ipykernel)",
   "language": "python",
   "name": "python3"
  },
  "language_info": {
   "codemirror_mode": {
    "name": "ipython",
    "version": 3
   },
   "file_extension": ".py",
   "mimetype": "text/x-python",
   "name": "python",
   "nbconvert_exporter": "python",
   "pygments_lexer": "ipython3",
   "version": "3.8.10"
  }
 },
 "nbformat": 4,
 "nbformat_minor": 5
}
