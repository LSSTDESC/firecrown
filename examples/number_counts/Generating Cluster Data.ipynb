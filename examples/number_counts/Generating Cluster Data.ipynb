{
 "cells": [
  {
   "cell_type": "code",
   "execution_count": 1,
   "id": "61322cd3",
   "metadata": {},
   "outputs": [
    {
     "data": {
      "text/plain": [
       "'1.4.0'"
      ]
     },
     "execution_count": 1,
     "metadata": {},
     "output_type": "execute_result"
    }
   ],
   "source": [
    "%load_ext autoreload\n",
    "%autoreload 2\n",
    "\n",
    "import sys\n",
    "import os\n",
    "import numpy as np\n",
    "from astropy.table import Table\n",
    "from numpy import random\n",
    "import scipy\n",
    "import matplotlib.pyplot as plt\n",
    "import clmm\n",
    "from clmm import GalaxyCluster, ClusterEnsemble, GCData\n",
    "from clmm import Cosmology\n",
    "from clmm.support import mock_data as mock\n",
    "import pandas as pd\n",
    "import numpy as np\n",
    "import pyccl as ccl\n",
    "import sacc\n",
    "clmm.__version__"
   ]
  },
  {
   "cell_type": "markdown",
   "id": "c2427304",
   "metadata": {},
   "source": [
    "Generating Random Custers"
   ]
  },
  {
   "cell_type": "code",
   "execution_count": 2,
   "id": "0f935958",
   "metadata": {},
   "outputs": [],
   "source": [
    "np.random.seed(11)"
   ]
  },
  {
   "cell_type": "code",
   "execution_count": 3,
   "id": "ae7ec3bd",
   "metadata": {},
   "outputs": [],
   "source": [
    "cosmo = Cosmology(H0 = 71.0, Omega_dm0 = 0.265 - 0.0448, Omega_b0 = 0.0448, Omega_k0 = 0.0)"
   ]
  },
  {
   "cell_type": "code",
   "execution_count": 4,
   "id": "51b56782",
   "metadata": {},
   "outputs": [],
   "source": [
    "# redshift and mass range of the galaxy clusters\n",
    "z_bin = [0.1,0.6]\n",
    "logm_bin = np.array([13, 15.1]) #Solar Mass\n",
    "\n",
    "# number of clusters in the ensemble\n",
    "n_clusters = 30\n",
    "\n",
    "# random draw in the mass and redshift range (for simplicity, uniform instead of following an actual mass function)\n",
    "cluster_m = 10 **((logm_bin[1] - logm_bin[0])*np.random.random(n_clusters) + logm_bin[0]) #in M_sun\n",
    "cluster_z =  (z_bin[1] - z_bin[0])*np.random.random(n_clusters) + z_bin[0] \n",
    "\n",
    "# random normal draw of cluster concentration, around c_mean\n",
    "c_mean = 4.\n",
    "lnc = abs(np.log(c_mean) + 0.01*np.random.randn(n_clusters))\n",
    "concentration = np.exp(lnc)\n",
    "\n",
    "# randomly draw cluster positions on the sky\n",
    "ra = np.random.random(n_clusters) * 360 #from 0 to 360 deg\n",
    "sindec = np.random.random(n_clusters) * 2 - 1\n",
    "dec = np.arcsin(sindec) * 180 / np.pi #from -90 to 90 deg\n",
    "catalog = {\n",
    "    \"proxy_colname\":cluster_m,\n",
    "    \"redshift_colname\":cluster_z,\n",
    "    \"ra_colname\": ra,\n",
    "    \"dec_colname\":dec\n",
    "}"
   ]
  },
  {
   "cell_type": "code",
   "execution_count": 5,
   "id": "9a76cfbd",
   "metadata": {
    "scrolled": true
   },
   "outputs": [
    {
     "data": {
      "text/plain": [
       "<matplotlib.colorbar.Colorbar at 0x7f3c8d5d5bb0>"
      ]
     },
     "execution_count": 5,
     "metadata": {},
     "output_type": "execute_result"
    },
    {
     "data": {
      "image/png": "[encoded data removed]",
      "text/plain": [
       "<Figure size 640x480 with 2 Axes>"
      ]
     },
     "metadata": {},
     "output_type": "display_data"
    }
   ],
   "source": [
    "\n",
    "N_m = 5 # number of mass bins\n",
    "N_z = 4 # number of redshift bins\n",
    "\n",
    "data_lz, z_edges, richness_edges, im  = plt.hist2d(cluster_m, cluster_z,\n",
    "                                       bins=[N_z, N_m]);\n",
    "\n",
    "plt.colorbar()"
   ]
  },
  {
   "cell_type": "code",
   "execution_count": 6,
   "id": "36300a40",
   "metadata": {},
   "outputs": [],
   "source": [
    "# Adapted from Constantin Payerne's code in the CLCOSMO_sim repo\n",
    "\n",
    "import healpy\n",
    "from itertools import combinations\n",
    "def compute_jackknife_covariance(catalog = None, \n",
    "                                proxy_colname = 'richness', redshift_colname = 'redshift',\n",
    "                                ra_colname = 'ra', dec_colname = 'dec',\n",
    "                                proxy_edges = richness_edges, z_edges = z_edges,        \n",
    "                                hp_power = 7, N_delete = 1):\n",
    "        r\"\"\"\n",
    "        Attributes:\n",
    "        -----------\n",
    "        proxy_colname: str\n",
    "            name of the proxy column\n",
    "        redshift_colname: str\n",
    "            name of the redshift column\n",
    "        ra_colname: str\n",
    "            name of the ra column\n",
    "        dec_colname: str\n",
    "            name of the dec column\n",
    "        proxy_edges: array\n",
    "            edges of the mass proxy bins\n",
    "        z_edges: array\n",
    "            edges of the redshift bins\n",
    "        hp_power: int\n",
    "            defines the number of healpix pixels. Healpix Nside = 2**hp_power\n",
    "        N_delete: int\n",
    "            number of jackknife region to delete each repetition\n",
    "        Returns:\n",
    "        --------\n",
    "        cov_N: array\n",
    "            Jackknife covariance matrix\n",
    "        \"\"\"\n",
    "        proxy, redshift = np.array(catalog[\"proxy_colname\"]), np.array(catalog[\"redshift_colname\"])\n",
    "        ra, dec =  np.array(catalog[\"ra_colname\"]), np.array(catalog[\"dec_colname\"])\n",
    "\n",
    "        index = np.arange(len(proxy))\n",
    "        healpix = healpy.ang2pix(2**hp_power, ra, dec, nest=True, lonlat=True)\n",
    "        healpix_list_unique = np.unique(healpix)\n",
    "        print(f'Number of JK regions: {len(healpix_list_unique)}')\n",
    "        healpix_combination_delete = list(combinations(healpix_list_unique, N_delete))\n",
    "        data_jack = []\n",
    "        \n",
    "        for i, hp_list_delete in enumerate(healpix_combination_delete):\n",
    "            if (i/2000.).is_integer():\n",
    "                print(i) # to track progress\n",
    "            mask_in_area = np.isin(healpix, hp_list_delete)\n",
    "            mask_out_area = np.invert(mask_in_area)\n",
    "            data,_,_ = np.histogram2d(redshift[mask_out_area],proxy[mask_out_area],\n",
    "                                            bins=[z_edges, proxy_edges])\n",
    "            data_jack.append(data.flatten())\n",
    "        \n",
    "        data_jack = np.array(data_jack)\n",
    "        N = np.stack((data_jack.astype(float)), axis = 1)\n",
    "        n_jack = len(healpix_combination_delete)\n",
    "        cov_N = (n_jack - 1) * np.cov(N, bias = False,ddof=0)\n",
    "        coeff = (n_jack - N_delete) / (N_delete * n_jack)\n",
    "        \n",
    "        return cov_N * coeff"
   ]
  },
  {
   "cell_type": "code",
   "execution_count": 47,
   "id": "9c1738c4",
   "metadata": {},
   "outputs": [
    {
     "name": "stdout",
     "output_type": "stream",
     "text": [
      "[[ 86.89     9.23    -9.385    5.62   -14.84     1.835   14.33    15.2\n",
      "  -10.585  -15.61   -22.895  -15.68     9.26    33.525    4.69    15.86\n",
      "   -9.29    -2.72    14.75   -12.69  ]\n",
      " [  9.23    64.06     1.53   -19.56    -9.73   -32.73   -10.39     3.35\n",
      "   -3.02    16.63    26.91    16.74    13.57     4.     -19.07    19.52\n",
      "  -23.83    14.06    38.3      6.82  ]\n",
      " [ -9.385    1.53    32.9275   1.32     3.485   -5.5525  -9.345    9.7\n",
      "  -14.2225  10.89    -3.5575   9.37    13.61   -13.9375  -2.66     2.71\n",
      "   20.735   12.255  -11.225    3.985 ]\n",
      " [  5.62   -19.56     1.32    75.76     9.78    11.63     4.79     0.95\n",
      "   -0.63    11.27   -13.51   -27.14    10.43   -21.75    15.12   -17.62\n",
      "   25.63    -7.51    -4.1    -19.52  ]\n",
      " [-14.84    -9.73     3.485    9.78    85.99    -7.185  -14.18     5.\n",
      "   21.885    6.61     5.345    7.03    15.44   -12.125   10.41   -28.01\n",
      "   -2.96   -18.28   -27.3     -4.81  ]\n",
      " [  1.835  -32.73    -5.5525  11.63    -7.185   86.9275   5.995    3.05\n",
      "  -12.8525 -27.44   -33.0175 -11.62   -33.96    19.7625 -35.39    -5.26\n",
      "   -2.635  -19.255   -1.375   22.565 ]\n",
      " [ 14.33   -10.39    -9.345    4.79   -14.18     5.995   59.21   -13.85\n",
      "   -9.745   -2.07   -14.265  -16.36   -13.03     7.175    4.63    -4.43\n",
      "  -11.03     0.61   -10.9     -5.93  ]\n",
      " [ 15.2      3.35     9.7      0.95     5.       3.05   -13.85    57.1\n",
      "   -0.7     -8.55    -6.4    -12.95     4.25    12.9      1.5     11.95\n",
      "   16.3      1.25    23.45   -23.9   ]\n",
      " [-10.585   -3.02   -14.2225  -0.63    21.885  -12.8525  -9.745   -0.7\n",
      "   59.6275  -6.01    23.4925  -7.43     2.41   -19.2375   1.44    -5.54\n",
      "   -8.415  -20.045   -2.025  -16.965 ]\n",
      " [-15.61    16.63    10.89    11.27     6.61   -27.44    -2.07    -8.55\n",
      "   -6.01    82.84     8.83   -10.73    23.06   -22.45     3.29   -24.54\n",
      "    8.51     0.43   -15.9      3.41  ]\n",
      " [-22.895   26.91    -3.5575 -13.51     5.345  -33.0175 -14.265   -6.4\n",
      "   23.4925   8.83    66.4475  15.99    13.17    -0.8125   5.53    23.82\n",
      "  -29.305   -0.815   -8.275   10.145 ]\n",
      " [-15.68    16.74     9.37   -27.14     7.03   -11.62   -16.36   -12.95\n",
      "   -7.43   -10.73    15.99    60.46     6.13   -11.5     15.02    -3.47\n",
      "    3.28    17.39   -10.2     18.98  ]\n",
      " [  9.26    13.57    13.61    10.43    15.44   -33.96   -13.03     4.25\n",
      "    2.41    23.06    13.17     6.13    48.44   -26.3     11.41    -6.36\n",
      "    5.44    -0.48    -7.6    -21.91  ]\n",
      " [ 33.525    4.     -13.9375 -21.75   -12.125   19.7625   7.175   12.9\n",
      "  -19.2375 -22.45    -0.8125 -11.5    -26.3     66.1875 -13.3     27.85\n",
      "  -29.225    8.325   12.675   15.325 ]\n",
      " [  4.69   -19.07    -2.66    15.12    10.41   -35.39     4.63     1.5\n",
      "    1.44     3.29     5.53    15.02    11.41   -13.3     81.14     1.66\n",
      "   14.46    24.13   -40.2     -3.69  ]\n",
      " [ 15.86    19.52     2.71   -17.62   -28.01    -5.26    -4.43    11.95\n",
      "   -5.54   -24.54    23.82    -3.47    -6.36    27.85     1.66    67.24\n",
      "  -25.81    19.07     8.85    18.64  ]\n",
      " [ -9.29   -23.83    20.735   25.63    -2.96    -2.635  -11.03    16.3\n",
      "   -8.415    8.51   -29.305    3.28     5.44   -29.225   14.46   -25.81\n",
      "   86.09    14.92    15.1    -34.91  ]\n",
      " [ -2.72    14.06    12.255   -7.51   -18.28   -19.255    0.61     1.25\n",
      "  -20.045    0.43    -0.815   17.39    -0.48     8.325   24.13    19.07\n",
      "   14.92    61.21     4.15     8.52  ]\n",
      " [ 14.75    38.3    -11.225   -4.1    -27.3     -1.375  -10.9     23.45\n",
      "   -2.025  -15.9     -8.275  -10.2     -7.6     12.675  -40.2      8.85\n",
      "   15.1      4.15    98.45   -29.25  ]\n",
      " [-12.69     6.82     3.985  -19.52    -4.81    22.565   -5.93   -23.9\n",
      "  -16.965    3.41    10.145   18.98   -21.91    15.325   -3.69    18.64\n",
      "  -34.91     8.52   -29.25    65.09  ]]\n"
     ]
    }
   ],
   "source": [
    "covariance = []\n",
    "for i in range(0,20):\n",
    "    cov_i = []\n",
    "    for j in range (0,20):\n",
    "        cov_i.append(random.randint(0,30)) \n",
    "    covariance.append(cov_i)\n",
    "\n",
    "covariance =np.cov(covariance, bias = False,ddof=0)\n",
    "print(covariance)\n"
   ]
  },
  {
   "cell_type": "markdown",
   "id": "ea824996",
   "metadata": {},
   "source": [
    "Storing In Sacc"
   ]
  },
  {
   "cell_type": "code",
   "execution_count": 48,
   "id": "208bd1bf",
   "metadata": {},
   "outputs": [],
   "source": [
    "s_count = sacc.Sacc()"
   ]
  },
  {
   "cell_type": "code",
   "execution_count": 49,
   "id": "b21937d1",
   "metadata": {},
   "outputs": [],
   "source": [
    "# First we build the cluster count tracer\n",
    "# Here we will store the richness and redshift bin information in metadata,\n",
    "\n",
    "for i in np.arange(N_z):\n",
    "    for j in np.arange(N_m):\n",
    "        name = f'clusters_{i}_{j}'\n",
    "        metadata = {'Mproxy_name': 'mass',\n",
    "                    'Mproxy_min': richness_edges[j], 'Mproxy_max': richness_edges[j+1],\n",
    "                    'z_name': 'redshift',\n",
    "                    'z_min': z_edges[i], 'z_max': z_edges[i+1],\n",
    "                    'sky_area': 439.78986\n",
    "                    \n",
    "        }\n",
    "        s_count.add_tracer('misc', name, metadata=metadata)\n",
    "        "
   ]
  },
  {
   "cell_type": "code",
   "execution_count": 50,
   "id": "a48c73b6",
   "metadata": {},
   "outputs": [],
   "source": [
    "# One of our identifiers is a standard type name that is predefined\n",
    "cluster_count = sacc.standard_types.cluster_mass_count_wl\n",
    "\n",
    "for i in range(N_z): \n",
    "    for j in range(N_m): \n",
    "        # Cluster number counts data\n",
    "        tracer = f'clusters_{i}_{j}'\n",
    "        value = data_lz[i][j]\n",
    "        s_count.add_data_point(cluster_count, (tracer,), int(value), err=1.)"
   ]
  },
  {
   "cell_type": "code",
   "execution_count": 51,
   "id": "342458fa",
   "metadata": {},
   "outputs": [],
   "source": [
    "\n",
    "s_count.add_covariance(covariance)\n",
    "s_count.to_canonical_order()\n",
    "s_count.save_fits(\"clusters.sacc\", overwrite=True)"
   ]
  },
  {
   "cell_type": "code",
   "execution_count": 52,
   "id": "d4888b64",
   "metadata": {},
   "outputs": [
    {
     "name": "stdout",
     "output_type": "stream",
     "text": [
      "{'data_type': 'cluster_mass_count_wl', 'tracers': ('clusters_0_0',), 'value': 3, 'tags': {'err': 1.0}}\n",
      "3\n"
     ]
    }
   ],
   "source": [
    "sacc_data = sacc.Sacc.load_fits(\"./clusters.sacc\")\n",
    "print(sacc_data.data[0].__dict__)\n",
    "print(sacc_data.data[0].value)"
   ]
  },
  {
   "cell_type": "code",
   "execution_count": 53,
   "id": "94a659bd",
   "metadata": {},
   "outputs": [
    {
     "name": "stdout",
     "output_type": "stream",
     "text": [
      "clusters_0_0\n",
      "clusters_0_1\n",
      "clusters_0_2\n",
      "clusters_0_3\n",
      "clusters_0_4\n",
      "clusters_1_0\n",
      "clusters_1_1\n",
      "clusters_1_2\n",
      "clusters_1_3\n",
      "clusters_1_4\n",
      "clusters_2_0\n",
      "clusters_2_1\n",
      "clusters_2_2\n",
      "clusters_2_3\n",
      "clusters_2_4\n",
      "clusters_3_0\n",
      "clusters_3_1\n",
      "clusters_3_2\n",
      "clusters_3_3\n",
      "clusters_3_4\n"
     ]
    }
   ],
   "source": [
    "tracer = []\n",
    "z_min = []\n",
    "z_max = []\n",
    "nz = []\n",
    "metadata = []\n",
    "for i in range (0, len(sacc_data.data)):\n",
    "    tracer.append(sacc_data.data[i].tracers[0])\n",
    "    print(tracer[i])\n",
    "    metadata.append(sacc_data.tracers[tracer[i]].metadata)\n",
    "    z_min.append(metadata[i][\"z_min\"])\n",
    "    z_max.append(metadata[i][\"z_max\"])\n",
    "    nz.append(sacc_data.data[i].value)"
   ]
  },
  {
   "cell_type": "code",
   "execution_count": 54,
   "id": "09c81556",
   "metadata": {},
   "outputs": [
    {
     "name": "stdout",
     "output_type": "stream",
     "text": [
      "[]\n"
     ]
    },
    {
     "name": "stderr",
     "output_type": "stream",
     "text": [
      "/usr/local/lib/python3.8/dist-packages/sacc/sacc.py:370: UserWarning: Empty index selected - maybe you should check the tracer order?\n",
      "  warnings.warn(\"Empty index selected - maybe you \"\n"
     ]
    }
   ],
   "source": [
    "print(sacc_data.indices(\"counts\", tuple(\"cluster_0_0\"))\n",
    ")"
   ]
  },
  {
   "cell_type": "code",
   "execution_count": null,
   "id": "031513b6",
   "metadata": {},
   "outputs": [],
   "source": []
  },
  {
   "cell_type": "code",
   "execution_count": null,
   "id": "b17c45f0",
   "metadata": {},
   "outputs": [],
   "source": []
  }
 ],
 "metadata": {
  "kernelspec": {
   "display_name": "Python 3 (ipykernel)",
   "language": "python",
   "name": "python3"
  },
  "language_info": {
   "codemirror_mode": {
    "name": "ipython",
    "version": 3
   },
   "file_extension": ".py",
   "mimetype": "text/x-python",
   "name": "python",
   "nbconvert_exporter": "python",
   "pygments_lexer": "ipython3",
   "version": "3.8.10"
  }
 },
 "nbformat": 4,
 "nbformat_minor": 5
}
