{
 "cells": [
  {
   "cell_type": "code",
   "execution_count": 1,
   "id": "61322cd3",
   "metadata": {},
   "outputs": [
    {
     "data": {
      "text/plain": [
       "'1.4.0'"
      ]
     },
     "execution_count": 1,
     "metadata": {},
     "output_type": "execute_result"
    }
   ],
   "source": [
    "%load_ext autoreload\n",
    "%autoreload 2\n",
    "\n",
    "import sys\n",
    "import os\n",
    "import numpy as np\n",
    "from astropy.table import Table\n",
    "from numpy import random\n",
    "import scipy\n",
    "import matplotlib.pyplot as plt\n",
    "import clmm\n",
    "from clmm import GalaxyCluster, ClusterEnsemble, GCData\n",
    "from clmm import Cosmology\n",
    "from clmm.support import mock_data as mock\n",
    "import pandas as pd\n",
    "import numpy as np\n",
    "import pyccl as ccl\n",
    "import sacc\n",
    "clmm.__version__"
   ]
  },
  {
   "cell_type": "markdown",
   "id": "c2427304",
   "metadata": {},
   "source": [
    "Generating Random Custers"
   ]
  },
  {
   "cell_type": "code",
   "execution_count": 2,
   "id": "0f935958",
   "metadata": {},
   "outputs": [],
   "source": [
    "np.random.seed(11)"
   ]
  },
  {
   "cell_type": "code",
   "execution_count": 3,
   "id": "ae7ec3bd",
   "metadata": {},
   "outputs": [],
   "source": [
    "cosmo = Cosmology(H0 = 71.0, Omega_dm0 = 0.265 - 0.0448, Omega_b0 = 0.0448, Omega_k0 = 0.0)"
   ]
  },
  {
   "cell_type": "code",
   "execution_count": 4,
   "id": "51b56782",
   "metadata": {},
   "outputs": [],
   "source": [
    "# redshift and mass range of the galaxy clusters\n",
    "z_bin = [0.1,0.6]\n",
    "logm_bin = np.array([13, 15.1]) #Solar Mass\n",
    "\n",
    "# number of clusters in the ensemble\n",
    "n_clusters = 30\n",
    "\n",
    "# random draw in the mass and redshift range (for simplicity, uniform instead of following an actual mass function)\n",
    "cluster_m = 10 **((logm_bin[1] - logm_bin[0])*np.random.random(n_clusters) + logm_bin[0]) #in M_sun\n",
    "cluster_z =  (z_bin[1] - z_bin[0])*np.random.random(n_clusters) + z_bin[0] \n",
    "\n",
    "# random normal draw of cluster concentration, around c_mean\n",
    "c_mean = 4.\n",
    "lnc = abs(np.log(c_mean) + 0.01*np.random.randn(n_clusters))\n",
    "concentration = np.exp(lnc)\n",
    "\n",
    "# randomly draw cluster positions on the sky\n",
    "ra = np.random.random(n_clusters) * 360 #from 0 to 360 deg\n",
    "sindec = np.random.random(n_clusters) * 2 - 1\n",
    "dec = np.arcsin(sindec) * 180 / np.pi #from -90 to 90 deg\n",
    "catalog = {\n",
    "    \"proxy_colname\":cluster_m,\n",
    "    \"redshift_colname\":cluster_z,\n",
    "    \"ra_colname\": ra,\n",
    "    \"dec_colname\":dec\n",
    "}"
   ]
  },
  {
   "cell_type": "code",
   "execution_count": 5,
   "id": "9a76cfbd",
   "metadata": {
    "scrolled": true
   },
   "outputs": [
    {
     "name": "stdout",
     "output_type": "stream",
     "text": [
      "[[3. 5. 5. 7.]\n",
      " [2. 1. 1. 0.]\n",
      " [0. 1. 1. 0.]\n",
      " [1. 1. 0. 1.]\n",
      " [1. 0. 0. 0.]]\n"
     ]
    },
    {
     "data": {
      "text/plain": [
       "<matplotlib.colorbar.Colorbar at 0x7f8a39081430>"
      ]
     },
     "execution_count": 5,
     "metadata": {},
     "output_type": "execute_result"
    },
    {
     "data": {
      "image/png": "[encoded data removed]",
      "text/plain": [
       "<Figure size 640x480 with 2 Axes>"
      ]
     },
     "metadata": {},
     "output_type": "display_data"
    }
   ],
   "source": [
    "\n",
    "N_m = 5 # number of mass bins\n",
    "N_z = 4 # number of redshift bins\n",
    "\n",
    "data_lz, m_edges, z_edges, im  = plt.hist2d(cluster_m, cluster_z,\n",
    "                                       bins=[N_m, N_z]);\n",
    "\n",
    "print(data_lz)\n",
    "plt.colorbar()"
   ]
  },
  {
   "cell_type": "code",
   "execution_count": 6,
   "id": "36300a40",
   "metadata": {},
   "outputs": [],
   "source": [
    "# Adapted from Constantin Payerne's code in the CLCOSMO_sim repo\n",
    "\n",
    "import healpy\n",
    "from itertools import combinations\n",
    "def compute_jackknife_covariance(catalog = None, \n",
    "                                proxy_colname = 'richness', redshift_colname = 'redshift',\n",
    "                                ra_colname = 'ra', dec_colname = 'dec',\n",
    "                                proxy_edges = m_edges, z_edges = z_edges,        \n",
    "                                hp_power = 7, N_delete = 1):\n",
    "        r\"\"\"\n",
    "        Attributes:\n",
    "        -----------\n",
    "        proxy_colname: str\n",
    "            name of the proxy column\n",
    "        redshift_colname: str\n",
    "            name of the redshift column\n",
    "        ra_colname: str\n",
    "            name of the ra column\n",
    "        dec_colname: str\n",
    "            name of the dec column\n",
    "        proxy_edges: array\n",
    "            edges of the mass proxy bins\n",
    "        z_edges: array\n",
    "            edges of the redshift bins\n",
    "        hp_power: int\n",
    "            defines the number of healpix pixels. Healpix Nside = 2**hp_power\n",
    "        N_delete: int\n",
    "            number of jackknife region to delete each repetition\n",
    "        Returns:\n",
    "        --------\n",
    "        cov_N: array\n",
    "            Jackknife covariance matrix\n",
    "        \"\"\"\n",
    "        proxy, redshift = np.array(catalog[\"proxy_colname\"]), np.array(catalog[\"redshift_colname\"])\n",
    "        ra, dec =  np.array(catalog[\"ra_colname\"]), np.array(catalog[\"dec_colname\"])\n",
    "\n",
    "        index = np.arange(len(proxy))\n",
    "        healpix = healpy.ang2pix(2**hp_power, ra, dec, nest=True, lonlat=True)\n",
    "        healpix_list_unique = np.unique(healpix)\n",
    "        print(f'Number of JK regions: {len(healpix_list_unique)}')\n",
    "        healpix_combination_delete = list(combinations(healpix_list_unique, N_delete))\n",
    "        data_jack = []\n",
    "        \n",
    "        for i, hp_list_delete in enumerate(healpix_combination_delete):\n",
    "            if (i/2000.).is_integer():\n",
    "                print(i) # to track progress\n",
    "            mask_in_area = np.isin(healpix, hp_list_delete)\n",
    "            mask_out_area = np.invert(mask_in_area)\n",
    "            data,_,_ = np.histogram2d(redshift[mask_out_area],proxy[mask_out_area],\n",
    "                                            bins=[z_edges, proxy_edges])\n",
    "            data_jack.append(data.flatten())\n",
    "        \n",
    "        data_jack = np.array(data_jack)\n",
    "        N = np.stack((data_jack.astype(float)), axis = 1)\n",
    "        n_jack = len(healpix_combination_delete)\n",
    "        cov_N = (n_jack - 1) * np.cov(N, bias = False,ddof=0)\n",
    "        coeff = (n_jack - N_delete) / (N_delete * n_jack)\n",
    "        \n",
    "        return cov_N * coeff"
   ]
  },
  {
   "cell_type": "code",
   "execution_count": 9,
   "id": "9c1738c4",
   "metadata": {},
   "outputs": [
    {
     "name": "stdout",
     "output_type": "stream",
     "text": [
      "[[5. 1. 1. 1. 1. 1. 1. 1. 1. 1. 1. 1. 1. 1. 1. 1. 1. 1. 1. 1.]\n",
      " [1. 5. 1. 1. 1. 1. 1. 1. 1. 1. 1. 1. 1. 1. 1. 1. 1. 1. 1. 1.]\n",
      " [1. 1. 5. 1. 1. 1. 1. 1. 1. 1. 1. 1. 1. 1. 1. 1. 1. 1. 1. 1.]\n",
      " [1. 1. 1. 5. 1. 1. 1. 1. 1. 1. 1. 1. 1. 1. 1. 1. 1. 1. 1. 1.]\n",
      " [1. 1. 1. 1. 5. 1. 1. 1. 1. 1. 1. 1. 1. 1. 1. 1. 1. 1. 1. 1.]\n",
      " [1. 1. 1. 1. 1. 5. 1. 1. 1. 1. 1. 1. 1. 1. 1. 1. 1. 1. 1. 1.]\n",
      " [1. 1. 1. 1. 1. 1. 5. 1. 1. 1. 1. 1. 1. 1. 1. 1. 1. 1. 1. 1.]\n",
      " [1. 1. 1. 1. 1. 1. 1. 5. 1. 1. 1. 1. 1. 1. 1. 1. 1. 1. 1. 1.]\n",
      " [1. 1. 1. 1. 1. 1. 1. 1. 5. 1. 1. 1. 1. 1. 1. 1. 1. 1. 1. 1.]\n",
      " [1. 1. 1. 1. 1. 1. 1. 1. 1. 5. 1. 1. 1. 1. 1. 1. 1. 1. 1. 1.]\n",
      " [1. 1. 1. 1. 1. 1. 1. 1. 1. 1. 5. 1. 1. 1. 1. 1. 1. 1. 1. 1.]\n",
      " [1. 1. 1. 1. 1. 1. 1. 1. 1. 1. 1. 5. 1. 1. 1. 1. 1. 1. 1. 1.]\n",
      " [1. 1. 1. 1. 1. 1. 1. 1. 1. 1. 1. 1. 5. 1. 1. 1. 1. 1. 1. 1.]\n",
      " [1. 1. 1. 1. 1. 1. 1. 1. 1. 1. 1. 1. 1. 5. 1. 1. 1. 1. 1. 1.]\n",
      " [1. 1. 1. 1. 1. 1. 1. 1. 1. 1. 1. 1. 1. 1. 5. 1. 1. 1. 1. 1.]\n",
      " [1. 1. 1. 1. 1. 1. 1. 1. 1. 1. 1. 1. 1. 1. 1. 5. 1. 1. 1. 1.]\n",
      " [1. 1. 1. 1. 1. 1. 1. 1. 1. 1. 1. 1. 1. 1. 1. 1. 5. 1. 1. 1.]\n",
      " [1. 1. 1. 1. 1. 1. 1. 1. 1. 1. 1. 1. 1. 1. 1. 1. 1. 5. 1. 1.]\n",
      " [1. 1. 1. 1. 1. 1. 1. 1. 1. 1. 1. 1. 1. 1. 1. 1. 1. 1. 5. 1.]\n",
      " [1. 1. 1. 1. 1. 1. 1. 1. 1. 1. 1. 1. 1. 1. 1. 1. 1. 1. 1. 5.]]\n"
     ]
    }
   ],
   "source": [
    "covariance = []\n",
    "\n",
    "\n",
    "covariance =np.ndarray((20,20), float)\n",
    "covariance.fill(1)\n",
    "\n",
    "for i in range(0,20):\n",
    "    covariance.itemset((i,i), 5)\n",
    "print(covariance)"
   ]
  },
  {
   "cell_type": "markdown",
   "id": "ea824996",
   "metadata": {},
   "source": [
    "Storing In Sacc"
   ]
  },
  {
   "cell_type": "code",
   "execution_count": 10,
   "id": "208bd1bf",
   "metadata": {},
   "outputs": [],
   "source": [
    "s_count = sacc.Sacc()"
   ]
  },
  {
   "cell_type": "code",
   "execution_count": 11,
   "id": "b21937d1",
   "metadata": {},
   "outputs": [
    {
     "name": "stdout",
     "output_type": "stream",
     "text": [
      "[1.06375034e+13 1.98540789e+14 3.86444075e+14 5.74347361e+14\n",
      " 7.62250646e+14 9.50153932e+14]\n"
     ]
    }
   ],
   "source": [
    "# First we build the cluster count tracer\n",
    "# Here we will store the richness and redshift bin information in metadata,\n",
    "print(m_edges)\n",
    "for i in np.arange(N_z):\n",
    "    for j in np.arange(N_m):\n",
    "        name = f'clusters_{i}_{j}'\n",
    "        metadata = {'Mproxy_name': 'mass',\n",
    "                    'Mproxy_min': m_edges[j], 'Mproxy_max': m_edges[j+1],\n",
    "                    'z_name': 'redshift',\n",
    "                    'z_min': z_edges[i], 'z_max': z_edges[i+1],\n",
    "                    'sky_area': 439.78986\n",
    "                    \n",
    "        }\n",
    "        s_count.add_tracer('misc', name, metadata=metadata)\n",
    "        "
   ]
  },
  {
   "cell_type": "code",
   "execution_count": 12,
   "id": "a48c73b6",
   "metadata": {},
   "outputs": [],
   "source": [
    "# One of our identifiers is a standard type name that is predefined\n",
    "cluster_count = sacc.standard_types.cluster_mass_count_wl\n",
    "for i in range(N_z): \n",
    "    for j in range(N_m): \n",
    "        # Cluster number counts data\n",
    "        tracer = f'clusters_{i}_{j}'\n",
    "        value = data_lz[j][i]\n",
    "        s_count.add_data_point(cluster_count, (tracer,), int(value), err=1.)"
   ]
  },
  {
   "cell_type": "code",
   "execution_count": 13,
   "id": "342458fa",
   "metadata": {},
   "outputs": [],
   "source": [
    "\n",
    "s_count.add_covariance(covariance)\n",
    "s_count.to_canonical_order()\n",
    "s_count.save_fits(\"clusters.sacc\", overwrite=True)"
   ]
  },
  {
   "cell_type": "code",
   "execution_count": 14,
   "id": "d4888b64",
   "metadata": {},
   "outputs": [
    {
     "name": "stdout",
     "output_type": "stream",
     "text": [
      "{'data_type': 'cluster_mass_count_wl', 'tracers': ('clusters_0_0',), 'value': 3, 'tags': {'err': 1.0}}\n",
      "3\n"
     ]
    }
   ],
   "source": [
    "sacc_data = sacc.Sacc.load_fits(\"./clusters.sacc\")\n",
    "print(sacc_data.data[0].__dict__)\n",
    "print(sacc_data.data[0].value)"
   ]
  },
  {
   "cell_type": "code",
   "execution_count": 15,
   "id": "94a659bd",
   "metadata": {},
   "outputs": [
    {
     "name": "stdout",
     "output_type": "stream",
     "text": [
      "clusters_0_0\n",
      "clusters_0_1\n",
      "clusters_0_2\n",
      "clusters_0_3\n",
      "clusters_0_4\n",
      "clusters_1_0\n",
      "clusters_1_1\n",
      "clusters_1_2\n",
      "clusters_1_3\n",
      "clusters_1_4\n",
      "clusters_2_0\n",
      "clusters_2_1\n",
      "clusters_2_2\n",
      "clusters_2_3\n",
      "clusters_2_4\n",
      "clusters_3_0\n",
      "clusters_3_1\n",
      "clusters_3_2\n",
      "clusters_3_3\n",
      "clusters_3_4\n"
     ]
    }
   ],
   "source": [
    "tracer = []\n",
    "z_min = []\n",
    "z_max = []\n",
    "nz = []\n",
    "metadata = []\n",
    "for i in range (0, len(sacc_data.data)):\n",
    "    tracer.append(sacc_data.data[i].tracers[0])\n",
    "    print(tracer[i])\n",
    "    metadata.append(sacc_data.tracers[tracer[i]].metadata)\n",
    "    z_min.append(metadata[i][\"z_min\"])\n",
    "    z_max.append(metadata[i][\"z_max\"])\n",
    "    nz.append(sacc_data.data[i].value)"
   ]
  },
  {
   "cell_type": "code",
   "execution_count": 16,
   "id": "09c81556",
   "metadata": {},
   "outputs": [
    {
     "name": "stdout",
     "output_type": "stream",
     "text": [
      "[]\n"
     ]
    },
    {
     "name": "stderr",
     "output_type": "stream",
     "text": [
      "/usr/local/lib/python3.8/dist-packages/sacc/sacc.py:370: UserWarning: Empty index selected - maybe you should check the tracer order?\n",
      "  warnings.warn(\"Empty index selected - maybe you \"\n"
     ]
    }
   ],
   "source": [
    "print(sacc_data.indices(\"counts\", tuple(\"cluster_0_0\"))\n",
    ")"
   ]
  },
  {
   "cell_type": "code",
   "execution_count": 17,
   "id": "031513b6",
   "metadata": {},
   "outputs": [
    {
     "data": {
      "text/plain": [
       "array([ 4.,  4.,  4.,  4.,  4.,  4.,  4.,  4.,  4.,  4.,  4.,  4.,  4.,\n",
       "        4.,  4.,  4.,  4.,  4.,  4., 24.])"
      ]
     },
     "execution_count": 17,
     "metadata": {},
     "output_type": "execute_result"
    }
   ],
   "source": [
    "np.linalg.eigvalsh(covariance)"
   ]
  },
  {
   "cell_type": "code",
   "execution_count": null,
   "id": "b17c45f0",
   "metadata": {},
   "outputs": [],
   "source": []
  }
 ],
 "metadata": {
  "kernelspec": {
   "display_name": "Python 3 (ipykernel)",
   "language": "python",
   "name": "python3"
  },
  "language_info": {
   "codemirror_mode": {
    "name": "ipython",
    "version": 3
   },
   "file_extension": ".py",
   "mimetype": "text/x-python",
   "name": "python",
   "nbconvert_exporter": "python",
   "pygments_lexer": "ipython3",
   "version": "3.8.10"
  }
 },
 "nbformat": 4,
 "nbformat_minor": 5
}
