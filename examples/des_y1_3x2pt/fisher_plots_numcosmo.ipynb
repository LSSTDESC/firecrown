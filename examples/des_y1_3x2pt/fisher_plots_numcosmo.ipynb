{
 "cells": [
  {
   "cell_type": "code",
   "execution_count": null,
   "metadata": {},
   "outputs": [],
   "source": [
    "import numpy as np\n",
    "import pandas as pd\n",
    "from getdist import plots\n",
    "from getdist.gaussian_mixtures import GaussianND"
   ]
  },
  {
   "cell_type": "markdown",
   "metadata": {},
   "source": [
    "# 1. Data manipulation from cosmosis output and post-process to better visualization\n"
   ]
  },
  {
   "cell_type": "code",
   "execution_count": null,
   "metadata": {},
   "outputs": [],
   "source": [
    "txt_string = \"./numcosmo_fisher.txt\"\n",
    "f = open(txt_string, \"r\")\n",
    "\n",
    "for line in f:\n",
    "    temp = line.split()\n",
    "    # print(temp)\n",
    "\n",
    "# print(temp)\n",
    "\n",
    "\n",
    "fisher_lsst_3x2pt = np.loadtxt(txt_string, dtype=\"S0\")\n",
    "corr = []\n",
    "means = []\n",
    "stddevs = []\n",
    "names = []\n",
    "for line in fisher_lsst_3x2pt:\n",
    "    name = str(line[0]).split(\"[\")[0]\n",
    "    names.append(name[2:])\n",
    "    temp_arr = []\n",
    "    for elem in line[1:]:\n",
    "        try:\n",
    "            temp_arr.append(float(elem))\n",
    "        except:\n",
    "            pass\n",
    "        # print(elem)\n",
    "\n",
    "    mean = temp_arr[0]\n",
    "    stddev = temp_arr[1]\n",
    "    temp_arr = temp_arr[2:]\n",
    "    means.append(mean)\n",
    "    stddevs.append(stddev)\n",
    "    corr.append(temp_arr)\n",
    "    # print(name, temp_arr)\n",
    "# print(fisher_lsst_3x2pt[0])\n",
    "# print(corr)\n",
    "\n",
    "for i in range(len(corr)):\n",
    "    # corr[i][i]*=stddevs[i]*stddevs[i]\n",
    "    for j in range(len(corr[i])):\n",
    "        corr[i][j] *= (stddevs[i] * stddevs[j]) / 2\n",
    "\n",
    "cov = corr\n",
    "invcov = np.linalg.inv(cov)\n",
    "print(invcov)"
   ]
  },
  {
   "cell_type": "markdown",
   "metadata": {},
   "source": [
    "# 2. Ploting the fisher contours using getdist\n"
   ]
  },
  {
   "cell_type": "code",
   "execution_count": null,
   "metadata": {},
   "outputs": [],
   "source": [
    "# Constructing a GaussianND object using fiducial values and the inverse Fisher matrix\n",
    "lsst_3x2pt_fisher_contour = GaussianND(means, invcov, names=names)\n",
    "\n",
    "# Initialize a subplot plotter for generating the plot\n",
    "g = plots.get_subplot_plotter()\n",
    "\n",
    "# Customize the plot settings\n",
    "g.settings.figure_legend_frame = True\n",
    "g.settings.axes_labelsize = 15\n",
    "g.settings.legend_fontsize = 30\n",
    "\n",
    "# Generate the triangle plot\n",
    "g.triangle_plot(\n",
    "    [lsst_3x2pt_fisher_contour],\n",
    "    filled=True,\n",
    "    legend_labels=[\"LSSTY1 3x2pt\"],\n",
    "    contour_colors=[\"blue\"],\n",
    ")\n",
    "\n",
    "# Optional: Add parameter markers to the plot\n",
    "# g.add_param_markers(lsst_3x2pt_vary_param_fid_values, color='black', ls='--')"
   ]
  },
  {
   "cell_type": "code",
   "execution_count": null,
   "metadata": {
    "scrolled": true
   },
   "outputs": [],
   "source": [
    "print(lsst_3x2pt_fisher_df)\n",
    "print(lsst_3x2pt_fisher_df_inv)"
   ]
  },
  {
   "cell_type": "code",
   "execution_count": null,
   "metadata": {},
   "outputs": [],
   "source": [
    "# Defining input file paths\n",
    "txt_string = \"./forecast_3x2pt_PT_samples.txt\"\n",
    "means_string = \"../means.txt\"\n",
    "\n",
    "\n",
    "\"\"\"---- Data manipulation from cosmosis output to create more organized pandas DataFrames ----\"\"\"\n",
    "# Loading the Fisher matrix from the text file\n",
    "fisher_lsst_3x2pt = np.loadtxt(txt_string)\n",
    "\n",
    "# Reading the first line of the file to extract parameter names\n",
    "with open(txt_string, \"r\") as file:\n",
    "    first_line = file.readline().strip()\n",
    "\n",
    "# Extracting parameter names, assuming they are space-separated and may contain \"--\"\n",
    "param_names = first_line.split()\n",
    "param_names = [param.split(\"--\")[-1] for param in param_names]\n",
    "\n",
    "# Creating a DataFrame for the Fisher matrix with parameters as rows and columns\n",
    "lsst_3x2pt_fisher_df = pd.DataFrame(\n",
    "    fisher_lsst_3x2pt, columns=param_names, index=param_names\n",
    ")\n",
    "\n",
    "# Creating a DataFrame to store 'mean' and 'sigma' values\n",
    "lsst_3x2pt_means_df = pd.DataFrame(index=[\"mean\", \"sigma\"])\n",
    "\n",
    "# Reading the 'means' file and extracting mean and error data\n",
    "with open(means_string, \"r\") as file:\n",
    "    next(file)  # Skipping the first line, if necessary\n",
    "    for line in file:\n",
    "        lines = line.split()  # Assuming values are space-separated\n",
    "        param_line = [param.split(\"--\")[-1] for param in lines]  # Handling the \"--\"\n",
    "        key = param_line[0]  # Parameter name\n",
    "        mean = float(param_line[1])  # Mean value\n",
    "        sigma = float(param_line[2])  # Error\n",
    "        lsst_3x2pt_means_df[key] = [mean, sigma]  # Adding to DataFrame\n",
    "\"\"\"----------------------------------------------------------------------------------------------\"\"\"\n",
    "\n",
    "\n",
    "# Transposing the DataFrame for easier access to values by parameter\n",
    "lsst_3x2pt_means_df = lsst_3x2pt_means_df.T\n",
    "\n",
    "# ---- Converting pandas DataFrames to numpy arrays ---- #\n",
    "\n",
    "# List of varying parameters\n",
    "lsst_3x2pt_vary_param = lsst_3x2pt_means_df.index\n",
    "\n",
    "# Fiducial values (mean)\n",
    "lsst_3x2pt_vary_param_fid_values = lsst_3x2pt_means_df[\"mean\"]\n",
    "\n",
    "# Errors (sigma)\n",
    "lsst_3x2pt_vary_param_fid_errors = lsst_3x2pt_means_df[\"sigma\"]\n",
    "\n",
    "# Inverting the Fisher matrix\n",
    "lsst_3x2pt_fisher_df_inv = np.linalg.inv(lsst_3x2pt_fisher_df)"
   ]
  },
  {
   "cell_type": "code",
   "execution_count": null,
   "metadata": {},
   "outputs": [],
   "source": []
  },
  {
   "cell_type": "code",
   "execution_count": null,
   "metadata": {},
   "outputs": [],
   "source": []
  }
 ],
 "metadata": {
  "kernelspec": {
   "display_name": "Python 3 (ipykernel)",
   "language": "python",
   "name": "python3"
  },
  "language_info": {
   "codemirror_mode": {
    "name": "ipython",
    "version": 3
   },
   "file_extension": ".py",
   "mimetype": "text/x-python",
   "name": "python",
   "nbconvert_exporter": "python",
   "pygments_lexer": "ipython3",
   "version": "3.10.12"
  }
 },
 "nbformat": 4,
 "nbformat_minor": 2
}
