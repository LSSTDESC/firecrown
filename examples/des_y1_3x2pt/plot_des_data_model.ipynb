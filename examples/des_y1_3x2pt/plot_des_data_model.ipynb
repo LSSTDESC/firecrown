{
 "cells": [
  {
   "cell_type": "code",
   "execution_count": null,
   "metadata": {},
   "outputs": [],
   "source": [
    "import numpy as np\n",
    "import sacc\n",
    "import matplotlib.pyplot as plt\n",
    "\n",
    "%matplotlib notebook"
   ]
  },
  {
   "cell_type": "code",
   "execution_count": null,
   "metadata": {},
   "outputs": [],
   "source": [
    "# set this to your local analysis ID\n",
    "ANALYSIS_ID = \"4de89ea91f7d470e9978bba62b4e5459\""
   ]
  },
  {
   "cell_type": "markdown",
   "metadata": {},
   "source": [
    "The DES data vector is `[src-src, lens-src, lens-lens]` where\n",
    "all unique combinations are kept except that only the diagonal `lens-lens` combinations are kept."
   ]
  },
  {
   "cell_type": "code",
   "execution_count": null,
   "metadata": {},
   "outputs": [],
   "source": [
    "n_src = 4\n",
    "n_lens = 5"
   ]
  },
  {
   "cell_type": "markdown",
   "metadata": {},
   "source": [
    "Now lets read the data"
   ]
  },
  {
   "cell_type": "code",
   "execution_count": null,
   "metadata": {},
   "outputs": [],
   "source": [
    "des_data = sacc.Sacc.load_fits(\"des_y1_3x2pt_sacc_data.fits\")\n",
    "fc_meas_data = sacc.Sacc.load_fits(\n",
    "    \"output_%s/statistics/two_point/sacc_measured.fits\" % ANALYSIS_ID\n",
    ")\n",
    "fc_data = sacc.Sacc.load_fits(\n",
    "    \"output_%s/statistics/two_point/sacc_predicted.fits\" % ANALYSIS_ID\n",
    ")"
   ]
  },
  {
   "cell_type": "markdown",
   "metadata": {},
   "source": [
    "# Plot the Redshift Distributions"
   ]
  },
  {
   "cell_type": "code",
   "execution_count": null,
   "metadata": {},
   "outputs": [],
   "source": [
    "fig, axs = plt.subplots(nrows=1, ncols=2, figsize=(8, 5))\n",
    "\n",
    "ax = axs[0]\n",
    "for i in range(n_lens):\n",
    "    tr = fc_data.get_tracer(\"lens%d\" % i)\n",
    "    ax.plot(tr.z, tr.nz / np.sum(tr.nz), label=\"lens %d\" % i)\n",
    "\n",
    "ax.set_xlabel(\"z\")\n",
    "ax.set_ylabel(\"dn/dz\")\n",
    "ax.legend(loc=1, frameon=False)\n",
    "ax.set_xlim(0.0, 1.5)\n",
    "\n",
    "ax = axs[1]\n",
    "for i in range(n_src):\n",
    "    tr = fc_data.get_tracer(\"src%d\" % i)\n",
    "    ax.plot(tr.z, tr.nz / np.sum(tr.nz), label=\"src %d\" % i)\n",
    "\n",
    "ax.set_xlabel(\"z\")\n",
    "ax.set_ylabel(\"dn/dz\")\n",
    "ax.legend(loc=1, frameon=False)\n",
    "\n",
    "plt.tight_layout()"
   ]
  },
  {
   "cell_type": "markdown",
   "metadata": {},
   "source": [
    "# Plot the Covariance Matrices"
   ]
  },
  {
   "cell_type": "code",
   "execution_count": null,
   "metadata": {},
   "outputs": [],
   "source": [
    "fig, axs = plt.subplots(nrows=3, ncols=2, figsize=(6, 8))\n",
    "\n",
    "i = 0\n",
    "j = 0\n",
    "\n",
    "theta, xip, cov = des_data.get_theta_xi(\n",
    "    \"galaxy_shear_xi_plus\",\n",
    "    \"src%d\" % i,\n",
    "    \"src%d\" % j,\n",
    "    return_cov=True,\n",
    ")\n",
    "axs[0, 0].imshow(cov)\n",
    "axs[0, 0].grid(False)\n",
    "axs[0, 1].semilogx(theta, theta * xip * 1e4, \"o\")\n",
    "\n",
    "theta, xip, cov = fc_data.get_theta_xi(\n",
    "    \"galaxy_shear_xi_plus\",\n",
    "    \"src%d\" % i,\n",
    "    \"src%d\" % j,\n",
    "    return_cov=True,\n",
    ")\n",
    "axs[1, 0].imshow(cov)\n",
    "axs[1, 0].grid(False)\n",
    "axs[1, 1].semilogx(theta, theta * xip * 1e4, \"o\")\n",
    "\n",
    "theta, xip, cov = fc_meas_data.get_theta_xi(\n",
    "    \"galaxy_shear_xi_plus\",\n",
    "    \"src%d\" % i,\n",
    "    \"src%d\" % j,\n",
    "    return_cov=True,\n",
    ")\n",
    "axs[2, 0].imshow(cov)\n",
    "axs[2, 0].grid(False)\n",
    "axs[2, 1].semilogx(theta, theta * xip * 1e4, \"o\")\n",
    "\n",
    "plt.tight_layout()"
   ]
  },
  {
   "cell_type": "markdown",
   "metadata": {},
   "source": [
    "# Compare Firecrown to the DES Data for Cosmic Shear"
   ]
  },
  {
   "cell_type": "code",
   "execution_count": null,
   "metadata": {},
   "outputs": [],
   "source": [
    "fig, axs = plt.subplots(nrows=4, ncols=4, figsize=(10, 10))\n",
    "\n",
    "loc = 0\n",
    "for i in range(n_src):\n",
    "    for j in range(n_src):\n",
    "        # skip extra plots\n",
    "        if i > j:\n",
    "            axs[i, j].axis(\"off\")\n",
    "            continue\n",
    "\n",
    "        # read in the firecrown\n",
    "        theta, xip = fc_data.get_theta_xi(\n",
    "            \"galaxy_shear_xi_plus\", \"src%d\" % i, \"src%d\" % j\n",
    "        )\n",
    "        ax = axs[i, j]\n",
    "\n",
    "        # this is a factor of 10^4 x theta to take out the dynamic range\n",
    "        fac = 1e4 * theta\n",
    "\n",
    "        # firecrown\n",
    "        ax.semilogx(theta, fac * xip, label=\"firecrown\")\n",
    "\n",
    "        # des\n",
    "        theta, xip = des_data.get_theta_xi(\n",
    "            \"galaxy_shear_xi_plus\", \"src%d\" % i, \"src%d\" % j\n",
    "        )\n",
    "        ax.semilogx(theta, fac * xip, \"o\", label=\"DES Y1\")\n",
    "\n",
    "        if i == 0 and j == 0:\n",
    "            ax.legend(loc=2, frameon=False)\n",
    "\n",
    "        ax.text(\n",
    "            0.9,\n",
    "            0.1,\n",
    "            \"%d - %d\" % (i, j),\n",
    "            horizontalalignment=\"right\",\n",
    "            verticalalignment=\"center\",\n",
    "            transform=ax.transAxes,\n",
    "        )\n",
    "\n",
    "        ax.set_xlabel(r\"$\\theta$\")\n",
    "        ax.set_ylabel(r\"$10^{4}\\times\\theta\\xi_{+}$\")\n",
    "\n",
    "plt.tight_layout()"
   ]
  },
  {
   "cell_type": "code",
   "execution_count": null,
   "metadata": {},
   "outputs": [],
   "source": [
    "fig, axs = plt.subplots(nrows=4, ncols=4, figsize=(10, 10))\n",
    "\n",
    "loc = 0\n",
    "for i in range(n_src):\n",
    "    for j in range(n_src):\n",
    "        # skip extra plots\n",
    "        if i > j:\n",
    "            axs[i, j].axis(\"off\")\n",
    "            continue\n",
    "\n",
    "        # read in the firecrown\n",
    "        theta, xim = fc_data.get_theta_xi(\n",
    "            \"galaxy_shear_xi_minus\", \"src%d\" % i, \"src%d\" % j\n",
    "        )\n",
    "        ax = axs[i, j]\n",
    "\n",
    "        # this is a factor of 10^4 x theta to take out the dynamic range\n",
    "        fac = 1e4 * theta\n",
    "\n",
    "        # firecrown\n",
    "        ax.semilogx(theta, fac * xim, label=\"firecrown\")\n",
    "\n",
    "        # des\n",
    "        theta, xim = des_data.get_theta_xi(\n",
    "            \"galaxy_shear_xi_minus\", \"src%d\" % i, \"src%d\" % j\n",
    "        )\n",
    "        ax.semilogx(theta, fac * xim, \"o\", label=\"DES Y1\")\n",
    "\n",
    "        if i == 0 and j == 0:\n",
    "            ax.legend(loc=2, frameon=False)\n",
    "\n",
    "        ax.text(\n",
    "            0.9,\n",
    "            0.1,\n",
    "            \"%d - %d\" % (i, j),\n",
    "            horizontalalignment=\"right\",\n",
    "            verticalalignment=\"center\",\n",
    "            transform=ax.transAxes,\n",
    "        )\n",
    "\n",
    "        ax.set_xlabel(r\"$\\theta$\")\n",
    "        ax.set_ylabel(r\"$10^{4}\\times\\theta\\xi_{-}$\")\n",
    "\n",
    "plt.tight_layout()"
   ]
  },
  {
   "cell_type": "markdown",
   "metadata": {},
   "source": [
    "# Compare Firecrown to DES Data for GG Lensing"
   ]
  },
  {
   "cell_type": "code",
   "execution_count": null,
   "metadata": {},
   "outputs": [],
   "source": [
    "fig, axs = plt.subplots(nrows=5, ncols=4, figsize=(8, 10))\n",
    "\n",
    "for lensi in range(n_lens):\n",
    "    for srcj in range(n_src):\n",
    "        ax = axs[lensi, srcj]\n",
    "\n",
    "        # read in the firecrown\n",
    "        theta, xi = fc_data.get_theta_xi(\n",
    "            \"galaxy_shearDensity_xi_t\", \"lens%d\" % lensi, \"src%d\" % srcj\n",
    "        )\n",
    "\n",
    "        # this is a factor of 10^4 x theta to take out the dynamic range\n",
    "        fac = 1e4 * theta\n",
    "\n",
    "        # firecrown\n",
    "        ax.semilogx(theta, fac * xi, label=\"firecrown\")\n",
    "\n",
    "        theta, xi = des_data.get_theta_xi(\n",
    "            \"galaxy_shearDensity_xi_t\", \"lens%d\" % lensi, \"src%d\" % srcj\n",
    "        )\n",
    "\n",
    "        ax.semilogx(theta, fac * xi, \"o\", label=\"DES Y1\")\n",
    "\n",
    "        if lensi == 0 and srcj == 0:\n",
    "            ax.legend(loc=2, frameon=False)\n",
    "\n",
    "        ax.text(\n",
    "            0.9,\n",
    "            0.9,\n",
    "            \"%d - %d\" % (lensi, srcj),\n",
    "            horizontalalignment=\"right\",\n",
    "            verticalalignment=\"center\",\n",
    "            transform=ax.transAxes,\n",
    "        )\n",
    "\n",
    "    ax.set_xlabel(r\"$\\theta$\")\n",
    "    ax.set_ylabel(r\"$10^{4}\\times\\theta\\gamma_{t}$\")\n",
    "\n",
    "plt.tight_layout()"
   ]
  },
  {
   "cell_type": "markdown",
   "metadata": {},
   "source": [
    "# Compare Firecrown to DES Data for Clustering"
   ]
  },
  {
   "cell_type": "code",
   "execution_count": null,
   "metadata": {},
   "outputs": [],
   "source": [
    "# get loc excluding cosmic shear and gg lensing\n",
    "fig, axs = plt.subplots(nrows=2, ncols=3, figsize=(10, 8))\n",
    "\n",
    "axs = axs.ravel()\n",
    "axs[-1].axis(\"off\")\n",
    "for i in range(n_lens):\n",
    "    ax = axs[i]\n",
    "\n",
    "    # read in the firecrown values\n",
    "    theta, xi = fc_data.get_theta_xi(\"galaxy_density_xi\", \"lens%d\" % i, \"lens%d\" % i)\n",
    "\n",
    "    # this is a factor of 10^4 x theta to take out the dynamic range\n",
    "    fac = 1e4 * theta\n",
    "\n",
    "    # firecrown\n",
    "    ax.semilogx(theta, (fac * xi), label=\"firecrown\")\n",
    "\n",
    "    # des\n",
    "    theta, xi = des_data.get_theta_xi(\"galaxy_density_xi\", \"lens%d\" % i, \"lens%d\" % i)\n",
    "\n",
    "    ax.semilogx(theta, (fac * xi), \"o\", label=\"DES Y1\")\n",
    "\n",
    "    if i == 0:\n",
    "        ax.legend(loc=1, frameon=False)\n",
    "\n",
    "    ax.text(\n",
    "        0.1,\n",
    "        0.9,\n",
    "        \"%d - %d\" % (i, i),\n",
    "        horizontalalignment=\"left\",\n",
    "        verticalalignment=\"center\",\n",
    "        transform=ax.transAxes,\n",
    "    )\n",
    "\n",
    "    ax.set_xlabel(r\"$\\theta$\")\n",
    "    ax.set_ylabel(r\"$10^{4}\\times\\theta w(\\theta)$\")\n",
    "\n",
    "plt.tight_layout()"
   ]
  },
  {
   "cell_type": "code",
   "execution_count": null,
   "metadata": {},
   "outputs": [],
   "source": []
  }
 ],
 "metadata": {
  "kernelspec": {
   "display_name": "Python 3",
   "language": "python",
   "name": "python3"
  },
  "language_info": {
   "codemirror_mode": {
    "name": "ipython",
    "version": 3
   },
   "file_extension": ".py",
   "mimetype": "text/x-python",
   "name": "python",
   "nbconvert_exporter": "python",
   "pygments_lexer": "ipython3"
  }
 },
 "nbformat": 4,
 "nbformat_minor": 4
}
