{
 "cells": [
  {
   "cell_type": "markdown",
   "id": "32a6b30e-bbbc-4894-81a0-9a1bce72feca",
   "metadata": {},
   "source": [
    "# Improving Integral from ClusterAbundance prediction"
   ]
  },
  {
   "cell_type": "code",
   "execution_count": 1,
   "id": "cf1eab00-d1b8-4344-b290-0b0289d27786",
   "metadata": {},
   "outputs": [],
   "source": [
    "import os\n",
    "import pyccl as ccl\n",
    "from typing import Any, Dict\n",
    "import numpy as np\n",
    "\n",
    "from firecrown.models.cluster_abundance import ClusterAbundance\n",
    "from firecrown.models.cluster_mass_rich_proxy import ClusterMassRich, ClusterMassRichBinArgument, ClusterMassRichPointArgument\n",
    "from firecrown.models.cluster_redshift_spec import ClusterRedshiftSpec, ClusterRedshiftSpecArgument\n",
    "from firecrown.models.cluster_mass import ClusterMassArgument\n",
    "from firecrown.models.cluster_redshift import ClusterRedshiftArgument\n",
    "import matplotlib.pyplot as plt\n",
    "import scipy\n",
    "from scipy.interpolate import interp1d\n",
    "import time"
   ]
  },
  {
   "cell_type": "markdown",
   "id": "00bf8747-9cac-48a2-9e8c-b4989c18028f",
   "metadata": {},
   "source": [
    "## Preparation of Cluster Objects"
   ]
  },
  {
   "cell_type": "code",
   "execution_count": 2,
   "id": "33fdc2a1-a9d5-4217-afca-423d12d37c87",
   "metadata": {},
   "outputs": [],
   "source": [
    "Omega_c = 0.262\n",
    "Omega_b = 0.049\n",
    "Omega_k = 0.0\n",
    "H0 = 67.66\n",
    "h = H0 / 100.0\n",
    "Tcmb0 = 2.7255\n",
    "A_s = 2.1e-9\n",
    "sigma8 = 0.8277\n",
    "n_s = 0.96\n",
    "Neff = 3.046\n",
    "w0 = -1.0\n",
    "wa = 0.0\n"
   ]
  },
  {
   "cell_type": "code",
   "execution_count": 3,
   "id": "182e2073-d627-4490-99ac-67ca73123114",
   "metadata": {},
   "outputs": [],
   "source": [
    "cosmo_ccl = ccl.Cosmology(\n",
    "    Omega_c=Omega_c,\n",
    "    Omega_b=Omega_b,\n",
    "    Neff=Neff,\n",
    "    h=h,\n",
    "    sigma8=sigma8,\n",
    "    n_s=n_s,\n",
    "    Omega_k=Omega_k,\n",
    "    w0=w0,\n",
    "    wa=wa,\n",
    "    T_CMB=Tcmb0,\n",
    "    m_nu=[0.00, 0.0, 0.0]\n",
    ")\n",
    "pivot_mass = 14.625862906\n",
    "pivot_redshift = 0.6\n",
    "\n",
    "cluster_mass_r = ClusterMassRich(pivot_mass, pivot_redshift)\n",
    "\n",
    "cluster_mass_r.__setattr__(\"mu_p0\", 3.0)\n",
    "cluster_mass_r.__setattr__(\"mu_p1\", .86)\n",
    "cluster_mass_r.__setattr__(\"mu_p2\", .0)\n",
    "cluster_mass_r.__setattr__(\"sigma_p0\", 3.0)\n",
    "cluster_mass_r.__setattr__(\"sigma_p1\", .7)\n",
    "cluster_mass_r.__setattr__(\"sigma_p2\", 0.0)\n",
    "\n",
    "cluster_z = ClusterRedshiftSpec()\n",
    "# 3 - `ClusterAbundance`\n",
    "hmd_200 = ccl.halos.MassDef200m()\n",
    "hmf_args: Dict[str, Any] = {}\n",
    "hmf_name = \"Tinker08\"\n",
    "\n"
   ]
  },
  {
   "cell_type": "markdown",
   "id": "1ab7294f-dc80-46c9-a3bc-d84d6da74814",
   "metadata": {},
   "source": [
    "## Substituting the Redshift integral for an interpolation\n",
    "\n",
    "For the problem in hand, we have a 3-dimensional integral in richness, mass and redshift. The richness integral has an analytical solution givne by the error function. In this notebook, we want to replace one of the two remaining integrals by an 1-dimensional interpolation. We will first replace the redshift intergral and than the mass integral.\n",
    "\n",
    "Thus, in the first case, we will use the analytical function for the richness integral and integrate over mass for given points of redshift in the bin range. We will use these results to compute an interpolation that will later be integrated as well."
   ]
  },
  {
   "cell_type": "code",
   "execution_count": 4,
   "id": "08697cef-c43d-4877-be9e-325d0f32dca0",
   "metadata": {},
   "outputs": [],
   "source": [
    "class ClusterAbundanceTestZ(ClusterAbundance):\n",
    "\n",
    "    def __init__(\n",
    "        self,\n",
    "        halo_mass_definition: ccl.halos.MassDef,\n",
    "        halo_mass_function_name: str,\n",
    "        halo_mass_function_args: Dict[str, Any],\n",
    "        sky_area: float = 100.0,\n",
    "        use_completness: bool = False,\n",
    "        use_purity: bool = False,\n",
    "        interp_points = 10\n",
    "    ):\n",
    "        super().__init__(halo_mass_definition, halo_mass_function_name, halo_mass_function_args)\n",
    "        self.interp_points = interp_points\n",
    "\n",
    "    def _compute_any_from_args(\n",
    "        self,\n",
    "        integrand,\n",
    "        ccl_cosmo: ccl.Cosmology,\n",
    "        mass_arg: ClusterMassArgument,\n",
    "        redshift_arg: ClusterRedshiftArgument,\n",
    "    ) -> float:\n",
    "        last_index = 0\n",
    "        arg = np.zeros(2 + mass_arg.dim + redshift_arg.dim)\n",
    "        index_map: List[int] = []\n",
    "        bounds_list: List[Tuple[float, float]] = []\n",
    "\n",
    "        if mass_arg.is_dirac_delta():\n",
    "            arg[0] = mass_arg.get_logM()\n",
    "        else:\n",
    "            index_map.append(last_index)\n",
    "            bounds_list.append(mass_arg.get_logM_bounds())\n",
    "        last_index += 1\n",
    "\n",
    "        if True:#for z\n",
    "            last_index += 1\n",
    "\n",
    "        if mass_arg.dim > 0:\n",
    "            index_map += list(range(last_index, last_index + mass_arg.dim))\n",
    "            bounds_list += mass_arg.get_proxy_bounds()\n",
    "\n",
    "        last_index += mass_arg.dim\n",
    "\n",
    "        if len(index_map) == 0:\n",
    "            # No proxy bins\n",
    "            return (\n",
    "                self.mf_d2N_dz_dlnM(ccl_cosmo, arg[0], arg[1])\n",
    "                * mass_arg.p(arg[0], arg[1])\n",
    "                * redshift_arg.p(arg[0], arg[1])\n",
    "            )\n",
    "        z_bounds = redshift_arg.get_z_bounds()\n",
    "        z_list = np.linspace(z_bounds[0], z_bounds[1], self.interp_points)\n",
    "        final_list = []\n",
    "        for z_i in z_list:\n",
    "            arg[1] = z_i\n",
    "            counts_i =  scipy.integrate.nquad(\n",
    "                integrand,\n",
    "                args=(index_map, arg, ccl_cosmo, mass_arg, redshift_arg),\n",
    "                ranges=bounds_list,\n",
    "                opts={\"epsabs\": 0.0, \"epsrel\": 1.0e-4},\n",
    "            )[0]\n",
    "            final_list.append(counts_i)\n",
    "        f_interp = interp1d(z_list, final_list)\n",
    "        return np.trapz(f_interp(z_list), z_list, (z_bounds[1] - z_bounds[0]) / self.interp_points)"
   ]
  },
  {
   "cell_type": "markdown",
   "id": "430bf429-ca73-4b33-a292-29f7358305e2",
   "metadata": {},
   "source": [
    "## Substituting the Mass integral for an interpolation\n",
    "\n",
    "In this approach, we will follow the same path by using the analytical function for the richness integral and integrating over redshift for different values of masses. The results will be used to create an interpolation over mass, which will then be integrated as well."
   ]
  },
  {
   "cell_type": "code",
   "execution_count": 5,
   "id": "4c382622-ec18-4b97-97a5-9b253e515d01",
   "metadata": {},
   "outputs": [],
   "source": [
    "class ClusterAbundanceTestM(ClusterAbundance):\n",
    "\n",
    "    def __init__(\n",
    "        self,\n",
    "        halo_mass_definition: ccl.halos.MassDef,\n",
    "        halo_mass_function_name: str,\n",
    "        halo_mass_function_args: Dict[str, Any],\n",
    "        sky_area: float = 100.0,\n",
    "        use_completness: bool = False,\n",
    "        use_purity: bool = False,\n",
    "        interp_points = 10\n",
    "    ):\n",
    "        super().__init__(halo_mass_definition, halo_mass_function_name, halo_mass_function_args)\n",
    "        self.interp_points = interp_points\n",
    "    def _compute_any_from_args(\n",
    "        self,\n",
    "        integrand,\n",
    "        ccl_cosmo: ccl.Cosmology,\n",
    "        mass_arg: ClusterMassArgument,\n",
    "        redshift_arg: ClusterRedshiftArgument,\n",
    "    ) -> float:\n",
    "        last_index = 0\n",
    "        z_test = 1.0\n",
    "        arg = np.zeros(2 + mass_arg.dim + redshift_arg.dim)\n",
    "        index_map: List[int] = []\n",
    "        bounds_list: List[Tuple[float, float]] = []\n",
    "        if True:#for m\n",
    "            last_index += 1\n",
    "            \n",
    "        if redshift_arg.is_dirac_delta():\n",
    "            arg[1] = redshift_arg.get_z()\n",
    "        else:\n",
    "            index_map.append(last_index)\n",
    "            bounds_list.append(redshift_arg.get_z_bounds())\n",
    "        last_index += 1\n",
    "\n",
    "        if redshift_arg.dim > 0:\n",
    "            index_map += list(range(last_index, last_index + redshift_arg.dim))\n",
    "            bounds_list += redshift_arg.get_proxy_bounds()\n",
    "        last_index += redshift_arg.dim\n",
    "\n",
    "        if len(index_map) == 0:\n",
    "            # No proxy bins\n",
    "            return (\n",
    "                self.mf_d2N_dz_dlnM(ccl_cosmo, arg[0], arg[1])\n",
    "                * mass_arg.p(arg[0], arg[1])\n",
    "                * redshift_arg.p(arg[0], arg[1])\n",
    "            )\n",
    "        logM_bounds = mass_arg.get_logM_bounds()\n",
    "        logM_list = np.linspace(logM_bounds[0], logM_bounds[1], self.interp_points)\n",
    "        final_list = []\n",
    "        for logM_i in logM_list:\n",
    "            arg[0] = logM_i\n",
    "            counts_i =  scipy.integrate.nquad(\n",
    "                integrand,\n",
    "                args=(index_map, arg, ccl_cosmo, mass_arg, redshift_arg),\n",
    "                ranges=bounds_list,\n",
    "                opts={\"epsabs\": 0.0, \"epsrel\": 1.0e-4},\n",
    "            )[0]\n",
    "            final_list.append(counts_i)\n",
    "        f_interp = interp1d(logM_list, final_list)\n",
    "        return np.trapz(f_interp(logM_list), logM_list, (logM_bounds[1] - logM_bounds[0]) / self.interp_points)"
   ]
  },
  {
   "cell_type": "markdown",
   "id": "da0105d5-dbf7-4a27-95da-e2a6bd3b5db8",
   "metadata": {},
   "source": [
    "# Comparison between the methods\n",
    "\n",
    "We will compute the counts prediction using the integral method (called normal), the z- interpolation method and the mass interpolation method. We aim to compare the precision and computation time between the methods, assuming the first one to be the fiducial model, while varying the amount of points used to generate the interpolation.\n",
    "\n",
    "In the following cells, we do a first test for 10 points used in the interpolation."
   ]
  },
  {
   "cell_type": "markdown",
   "id": "096094fe-2808-492c-8895-4a0e780ad21f",
   "metadata": {},
   "source": [
    "## Computing normal prediction"
   ]
  },
  {
   "cell_type": "code",
   "execution_count": 6,
   "id": "c2e99df5-89a1-4966-ad39-1c1ca5ec14ab",
   "metadata": {},
   "outputs": [
    {
     "name": "stdout",
     "output_type": "stream",
     "text": [
      "The predictions of clusters in each bin is [239.08028083312462, 117.62461552740133, 58.673712759167984, 29.401592288829168, 924.1733162612882, 431.0462830172569, 203.56022290471452, 96.47939297212574, 1155.6220311710492, 502.3188869523067, 220.7193203429698, 97.20179341249663]\n",
      "2.6228926181793213\n"
     ]
    }
   ],
   "source": [
    "cluster_abundance_normal = ClusterAbundance(hmd_200, hmf_name, hmf_args)\n",
    "z_bins = np.linspace(0.0, 1.0, 4)\n",
    "r_bins = np.linspace(1.0, 2.5, 5)\n",
    "cluster_counts_list = []\n",
    "t1 = time.time()\n",
    "for i in range(0,3):\n",
    "    for j in range(0,4):\n",
    "        bin_ij = ((z_bins[i], z_bins[i+1]),(r_bins[j], r_bins[j+1]))\n",
    "        cluster_mass_bin = ClusterMassRichBinArgument(cluster_mass_r, 13,15, r_bins[j], r_bins[j+1])\n",
    "        cluster_z_bin = ClusterRedshiftSpecArgument(z_bins[i], z_bins[i+1])\n",
    "        cluster_counts =cluster_abundance_normal.compute(cosmo_ccl, cluster_mass_bin, cluster_z_bin)\n",
    "        cluster_counts_list.append(cluster_counts)\n",
    "t2 = time.time()\n",
    "print(f\"The predictions of clusters in each bin is {cluster_counts_list}\")\n",
    "print(t2 - t1)\n",
    "\n"
   ]
  },
  {
   "cell_type": "markdown",
   "id": "638c2d37-5698-479f-88ce-f2d1ac2149be",
   "metadata": {},
   "source": [
    "## Computing prediction with Z interpolation "
   ]
  },
  {
   "cell_type": "code",
   "execution_count": 7,
   "id": "180026af-12ca-4ae1-82e6-b4d19e860f03",
   "metadata": {},
   "outputs": [
    {
     "name": "stdout",
     "output_type": "stream",
     "text": [
      "The predictions of clusters in each bin is [239.89897464756137, 118.00173385726688, 58.84897437043607, 29.48301900488345, 923.5776155383348, 430.73018719330446, 203.39424346095183, 96.39352217440712, 1155.1283731211565, 502.1060462592266, 220.62940899937192, 97.16508343318917] \n",
      "\n",
      "The total time was 1.015202283859253\n"
     ]
    }
   ],
   "source": [
    "abundance_z_test = ClusterAbundanceTestZ(hmd_200, hmf_name, hmf_args)\n",
    "z_bins = np.linspace(0.0, 1.0, 4)\n",
    "r_bins = np.linspace(1.0, 2.5, 5)\n",
    "test_z_list = []\n",
    "t3 = time.time()\n",
    "for i in range(0,3):\n",
    "    for j in range(0,4):\n",
    "        bin_ij = ((z_bins[i], z_bins[i+1]),(r_bins[j], r_bins[j+1]))\n",
    "        cluster_mass_bin = ClusterMassRichBinArgument(cluster_mass_r, 13,15, r_bins[j], r_bins[j+1])\n",
    "        cluster_z_bin = ClusterRedshiftSpecArgument(z_bins[i], z_bins[i+1])\n",
    "        cluster_counts =abundance_z_test.compute(cosmo_ccl, cluster_mass_bin, cluster_z_bin)\n",
    "        test_z_list.append(cluster_counts)\n",
    "t4 = time.time()\n",
    "print(f\"The predictions of clusters in each bin is {test_z_list} \\n\")\n",
    "print(f\"The total time was {t4 - t3}\")\n",
    "\n",
    "\n"
   ]
  },
  {
   "cell_type": "markdown",
   "id": "789f9a7b-39ea-462f-919a-d0f4047d3efb",
   "metadata": {},
   "source": [
    "## Computing prediction with M interpolation "
   ]
  },
  {
   "cell_type": "code",
   "execution_count": 8,
   "id": "01853a81-7446-44fd-8bc3-cc0c4dd0c5f5",
   "metadata": {},
   "outputs": [
    {
     "name": "stdout",
     "output_type": "stream",
     "text": [
      "The predictions of clusters in each bin is [238.7705518368292, 117.63293275308988, 58.61745982953258, 29.365597384668202, 922.8278847864132, 431.2150693338295, 203.42221605542608, 96.42083324435836, 1153.5082334052836, 502.6912202139817, 220.59822529972976, 97.19280519600741] \n",
      "\n",
      "The total time was 0.3553473949432373\n",
      "\n",
      "\n",
      "The time for the normal prediction is 2.6228926181793213 \n",
      "The time for the z-interpolation is1.015202283859253 \n",
      "The time for the m-interpolation is 0.3553473949432373\n"
     ]
    }
   ],
   "source": [
    "abundance_test = ClusterAbundanceTestM(hmd_200, hmf_name, hmf_args)\n",
    "test_m_list = []\n",
    "t5 = time.time()\n",
    "for i in range(0,3):\n",
    "    for j in range(0,4):\n",
    "        bin_ij = ((z_bins[i], z_bins[i+1]),(r_bins[j], r_bins[j+1]))\n",
    "        cluster_mass_bin = ClusterMassRichBinArgument(cluster_mass_r, 13,15, r_bins[j], r_bins[j+1])\n",
    "        cluster_z_bin = ClusterRedshiftSpecArgument(z_bins[i], z_bins[i+1])\n",
    "        cluster_counts =abundance_test.compute(cosmo_ccl, cluster_mass_bin, cluster_z_bin)\n",
    "        test_m_list.append(cluster_counts)\n",
    "t6 = time.time()\n",
    "print(f\"The predictions of clusters in each bin is {test_m_list} \\n\")\n",
    "print(f\"The total time was {t6 - t5}\\n\\n\")\n",
    "\n",
    "print(f\"The time for the normal prediction is {t2-t1} \\nThe time for the z-interpolation is{t4-t3} \\nThe time for the m-interpolation is {t6-t5}\")"
   ]
  },
  {
   "cell_type": "markdown",
   "id": "79d9061a-1982-498e-8834-b68a49713e2f",
   "metadata": {},
   "source": [
    "## Plots of errors and number of points for interpolation"
   ]
  },
  {
   "cell_type": "code",
   "execution_count": 9,
   "id": "f16a5929-b38b-452f-88ed-c795ab3eba74",
   "metadata": {},
   "outputs": [],
   "source": [
    "points_list = [5*i for i in range (1,20)]\n",
    "test_z_final = []\n",
    "test_m_final = []\n",
    "for k in points_list:\n",
    "    abundance_test_z = ClusterAbundanceTestZ(hmd_200, hmf_name, hmf_args, interp_points=k)\n",
    "    abundance_test_m = ClusterAbundanceTestM(hmd_200, hmf_name, hmf_args, interp_points=k)\n",
    "    test_m_list = []\n",
    "    test_z_list = []\n",
    "    t5 = time.time()\n",
    "    for i in range(0,3):\n",
    "        for j in range(0,4):\n",
    "            bin_ij = ((z_bins[i], z_bins[i+1]),(r_bins[j], r_bins[j+1]))\n",
    "            cluster_mass_bin = ClusterMassRichBinArgument(cluster_mass_r, 13,15, r_bins[j], r_bins[j+1])\n",
    "            cluster_z_bin = ClusterRedshiftSpecArgument(z_bins[i], z_bins[i+1])\n",
    "            cluster_counts =abundance_test_z.compute(cosmo_ccl, cluster_mass_bin, cluster_z_bin)\n",
    "            test_z_list.append(cluster_counts)\n",
    "    t6 = time.time()\n",
    "    test_z_final.append((t6-t5,test_z_list))\n",
    "    t7 = time.time()\n",
    "    for i in range(0,3):\n",
    "        for j in range(0,4):\n",
    "            bin_ij = ((z_bins[i], z_bins[i+1]),(r_bins[j], r_bins[j+1]))\n",
    "            cluster_mass_bin = ClusterMassRichBinArgument(cluster_mass_r, 13,15, r_bins[j], r_bins[j+1])\n",
    "            cluster_z_bin = ClusterRedshiftSpecArgument(z_bins[i], z_bins[i+1])\n",
    "            cluster_counts =abundance_test_m.compute(cosmo_ccl, cluster_mass_bin, cluster_z_bin)\n",
    "            test_m_list.append(cluster_counts)\n",
    "    t8 = time.time()\n",
    "    test_m_final.append((t8-t7, test_m_list))\n"
   ]
  },
  {
   "cell_type": "code",
   "execution_count": 10,
   "id": "ab38ef92-b9ba-411c-9ba6-d33f2d1c93da",
   "metadata": {},
   "outputs": [
    {
     "data": {
      "image/png": "[encoded data removed]",
      "text/plain": [
       "<Figure size 640x480 with 1 Axes>"
      ]
     },
     "metadata": {},
     "output_type": "display_data"
    },
    {
     "data": {
      "image/png": "[encoded data removed]",
      "text/plain": [
       "<Figure size 640x480 with 1 Axes>"
      ]
     },
     "metadata": {},
     "output_type": "display_data"
    }
   ],
   "source": [
    "time_z = []\n",
    "time_m = []\n",
    "error_z = []\n",
    "error_m = []\n",
    "t = [t2-t1 for a in range (0, len(points_list))] \n",
    "for time_i, list_i in test_z_final:    \n",
    "    time_z.append(time_i)\n",
    "    error_z.append( np.log(np.mean((np.array(list_i) - np.array(cluster_counts_list)) / np.array(cluster_counts_list))))\n",
    "for time_i, list_i in test_m_final:\n",
    "    time_m.append(time_i)\n",
    "    error_m.append(np.log(abs(np.mean((np.array(list_i) - np.array(cluster_counts_list)) / np.array(cluster_counts_list)))))\n",
    "plt.plot(points_list, error_z, '.', color='blue', label='z_interp')\n",
    "plt.plot(points_list, error_m, '.', color='red', label='m_interp')\n",
    "plt.xlabel('#_points_for_interp')\n",
    "plt.ylabel('rel_error')\n",
    "plt.legend()\n",
    "plt.show()\n",
    "plt.plot(points_list, time_z, '.', color='blue', label='z_interp')\n",
    "plt.plot(points_list, time_m, '.', color='red', label='m_interp')\n",
    "plt.plot(points_list, t, '.', color='purple', label='no_interp')\n",
    "plt.xlabel('#_points_for_interp')\n",
    "plt.ylabel('running_time')\n",
    "plt.legend()\n",
    "plt.show()\n"
   ]
  },
  {
   "cell_type": "markdown",
   "id": "a864aa8a-80a4-4af6-9c74-2ed608983748",
   "metadata": {},
   "source": [
    "# Conclusion\n",
    "\n",
    "The m-interpolation shows to be the best approach, as it improves the computation time in ~8 times, while maintaining the precision even with 5 points for the interpolation. "
   ]
  },
  {
   "cell_type": "code",
   "execution_count": null,
   "id": "0da87dc9-02ac-4e97-885e-eb54b05c5066",
   "metadata": {},
   "outputs": [],
   "source": []
  }
 ],
 "metadata": {
  "kernelspec": {
   "display_name": "Python (firecrown2.0)",
   "language": "python",
   "name": "firecrown"
  },
  "language_info": {
   "codemirror_mode": {
    "name": "ipython",
    "version": 3
   },
   "file_extension": ".py",
   "mimetype": "text/x-python",
   "name": "python",
   "nbconvert_exporter": "python",
   "pygments_lexer": "ipython3",
   "version": "3.11.0"
  }
 },
 "nbformat": 4,
 "nbformat_minor": 5
}
