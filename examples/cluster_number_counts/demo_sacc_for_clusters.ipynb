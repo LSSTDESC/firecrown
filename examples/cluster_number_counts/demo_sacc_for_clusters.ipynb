{
 "cells": [
  {
   "cell_type": "markdown",
   "id": "7f562b0e-7fe0-41ca-8760-5ed56753742c",
   "metadata": {},
   "source": [
    "# SACC file creation for binned cluster analysis"
   ]
  },
  {
   "cell_type": "markdown",
   "id": "53ee68af-3079-4711-9056-36f63630e1c6",
   "metadata": {},
   "source": [
    "This demo notebook examplifies storing information for a binned cluster analysis into a sacc format. Steps are the following:\n",
    "- generate a mock cluster catalog in richness-redshift bins. This is done using NumCosmo functionalities and requires Numcosmo v>=0.17\n",
    "- in each bin, generate a mock radial shear profile using CLMM. This is meant to correspond to the stacked shear profile in that bin.\n",
    "- store all this information using the SACC framework.\n",
    "- show how to recover the information from the SACC file."
   ]
  },
  {
   "cell_type": "code",
   "execution_count": 1,
   "id": "7f10789d-5ee5-4ee4-ba3c-b4605909b22b",
   "metadata": {},
   "outputs": [],
   "source": [
    "import math\n",
    "import itertools\n",
    "import numpy as np\n",
    "from astropy.table import Table\n",
    "from astropy.io import fits\n",
    "from scipy import stats\n",
    "import matplotlib.pyplot as plt\n",
    "\n",
    "# This require Numcosmo v>=0.17\n",
    "from numcosmo_py import Nc\n",
    "from numcosmo_py import Ncm\n",
    "\n",
    "from firecrown.sacc_support import sacc\n",
    "\n",
    "# import clmm\n",
    "# from clmm import Cosmology\n",
    "# os.environ['CLMM_MODELING_BACKEND'] = 'nc'"
   ]
  },
  {
   "cell_type": "markdown",
   "id": "6f59eaa4-e6f9-40f9-9497-966f81dee10b",
   "metadata": {},
   "source": [
    "## Prepare NumCosmo cosmology"
   ]
  },
  {
   "cell_type": "code",
   "execution_count": null,
   "id": "8fad6f65-7a43-4965-8e27-01fbc4f7afe5",
   "metadata": {},
   "outputs": [],
   "source": [
    "H0 = 71.0\n",
    "Ob0 = 0.0448\n",
    "Odm0 = 0.22\n",
    "n_s = 0.963\n",
    "sigma8 = 0.8\n",
    "\n",
    "cosmo = Nc.HICosmoDEXcdm()\n",
    "reion = Nc.HIReionCamb.new()\n",
    "prim = Nc.HIPrimPowerLaw.new()\n",
    "\n",
    "cosmo.add_submodel(reion)\n",
    "cosmo.add_submodel(prim)\n",
    "\n",
    "dist = Nc.Distance.new(2.0)\n",
    "\n",
    "tf = Nc.TransferFunc.new_from_name(\"NcTransferFuncEH\")\n",
    "\n",
    "psml = Nc.PowspecMLTransfer.new(tf)\n",
    "\n",
    "# psml = Nc.PowspecMLCBE.new ()\n",
    "psml.require_kmin(1.0e-6)\n",
    "psml.require_kmax(1.0e3)\n",
    "\n",
    "psf = Ncm.PowspecFilter.new(psml, Ncm.PowspecFilterType.TOPHAT)\n",
    "psf.set_best_lnr0()\n",
    "\n",
    "cosmo.props.H0 = H0\n",
    "cosmo.props.Omegab = Ob0\n",
    "cosmo.props.Omegac = Odm0\n",
    "\n",
    "cosmo.omega_x2omega_k()\n",
    "cosmo.param_set_by_name(\"Omegak\", 0.0)\n",
    "\n",
    "prim.props.n_SA = n_s\n",
    "\n",
    "old_amplitude = math.exp(prim.props.ln10e10ASA)\n",
    "prim.props.ln10e10ASA = math.log((sigma8 / cosmo.sigma8(psf)) ** 2 * old_amplitude)"
   ]
  },
  {
   "cell_type": "markdown",
   "id": "a7177d4b-7e34-46f6-9bdf-f11d9d0034b9",
   "metadata": {},
   "source": [
    "## Generate a mock cluster catalog using NumCosmo\n",
    "\n",
    "NumCosmo has a built-in functionality to generate mock cluster catalogs, from a given halo mass function (HMF) and with a log-normal richness-mass relation. \n",
    "- For the HMF, the code below uses the Tinker (2008) definition. \n",
    "- For the richness-mass relation, six parameters can be specified as the NumCosmo functionality allows for the mean relation and scatter of the log-normal distribution to have a linear dependences with both log(mass) and log(1+z) (that's 2 parameters and a normalisation, for both the mean relation and the scatter). \n",
    "\n",
    "Below we neglect the redshift dependence and use the Murata et al. (2018) parameters (from their Table 2)."
   ]
  },
  {
   "cell_type": "code",
   "execution_count": null,
   "id": "472f1c1a-2aa4-4f01-8988-45f958f5aed4",
   "metadata": {},
   "outputs": [],
   "source": [
    "# CosmoSim_proxy model\n",
    "# M_0, z_0\n",
    "\n",
    "# Define the sky area and the richness and redshift ranges\n",
    "area = 439.78986\n",
    "lnRl = 0.0\n",
    "lnRu = 5.0\n",
    "zl = 0.2\n",
    "zu = 0.65\n",
    "\n",
    "cluster_z = Nc.ClusterRedshift.new_from_name(\n",
    "    f\"NcClusterRedshiftNodist{{'z-min': <{zl:22.15e}>, 'z-max':<{zu:22.15e}>}}\"\n",
    ")\n",
    "\n",
    "cluster_m = Nc.ClusterMass.new_from_name(\n",
    "    f\"NcClusterMassAscaso{{'M0':<{3.0e14 / 0.71:22.15e}>,'z0':<0.6>, \"\n",
    "    f\"'lnRichness-min':<{lnRl:22.15e}>, 'lnRichness-max':<{lnRu:22.15e}>}}\"\n",
    ")\n",
    "# mean richness-mass relation parameters\n",
    "cluster_m.param_set_by_name(\"mup0\", 3.207) # normalisation\n",
    "cluster_m.param_set_by_name(\"mup1\", 0.993 / np.log(10)) # mass dependence, adapted to match the log10 definition used in NumCosmo\n",
    "#cluster_m.param_set_by_name(\"mup2\", 0. / np.log(10)) # redshift dependence, adapted to match the log10 definition used in NumCosmo\n",
    "\n",
    "# richness-mass scatter parameter\n",
    "cluster_m.param_set_by_name(\"sigmap0\", 0.456) # normalisation\n",
    "cluster_m.param_set_by_name(\"sigmap1\", -0.169 / np.log(10)) # mass dependence, adapted to match the log10 definition used in NumCosmo\n",
    "#cluster_m.param_set_by_name(\"sigmap2\", 0. / np.log(10)) # redshift dependence, adapted to match the log10 definition used in NumCosmo\n",
    " \n",
    "# Numcosmo Mass Function\n",
    "# First, define the multiplicity function. \n",
    "mulf = Nc.MultiplicityFuncTinker.new() # Tinker (2008)\n",
    "mulf.set_linear_interp(True)  # This reproduces the linear interpolation done in CCL\n",
    "mulf.set_mdef(Nc.MultiplicityFuncMassDef.MEAN)\n",
    "mulf.set_Delta(200)\n",
    "\n",
    "# Second, construct a filtered power spectrum\n",
    "hmf = Nc.HaloMassFunction.new(dist, psf, mulf)\n",
    "hmf.set_area_sd(area)\n",
    "\n",
    "# Cluster Abundance Obj\n",
    "ca = Nc.ClusterAbundance.new(hmf, None)\n",
    "\n",
    "# Number Counts object\n",
    "ncount = Nc.DataClusterNCount.new(\n",
    "    ca, \"NcClusterRedshiftNodist\", \"NcClusterMassAscaso\"\n",
    ")\n",
    "ca.prepare(cosmo, cluster_z, cluster_m)\n",
    "mset = Ncm.MSet.new_array([cosmo, cluster_z, cluster_m])\n",
    "\n",
    "rng = Ncm.RNG.seeded_new(None, 32)\n",
    "ncount.init_from_sampling(mset, area * ((np.pi / 180) ** 2), rng)\n",
    "\n",
    "ncount.catalog_save(\"ncount_rich.fits\", True)\n",
    "ncdata_fits = fits.open(\"ncount_rich.fits\")\n",
    "ncdata_data = ncdata_fits[1].data \n",
    "ncdata_Table = Table(ncdata_data)"
   ]
  },
  {
   "cell_type": "markdown",
   "id": "3c919b49-ee2a-4500-948a-d852169aa1c3",
   "metadata": {},
   "source": [
    "## Next, in the $N_{\\rm richness} \\times N_z$ richness-redshift plane:\n",
    "- count halos and compute mean mass in each bin, directly from the data generated at the previous step\n",
    "- associate a \"mock\" shear profile, generated using CLMM from the mean mass in the bin, mock diagonal inter-radial bin covariance. Very rouch/quick solution to get some \"shear profile data\".\n"
   ]
  },
  {
   "cell_type": "markdown",
   "id": "2179c307-8f4f-4194-9d2f-26b9258dad54",
   "metadata": {},
   "source": [
    "### Counts and mean mass"
   ]
  },
  {
   "cell_type": "code",
   "execution_count": null,
   "id": "b0db89c8-f549-497f-bce8-f33b79166701",
   "metadata": {},
   "outputs": [],
   "source": [
    "data_table = ncdata_Table[ncdata_Table[\"LNM_OBS\"] > 2]\n",
    "cluster_z = data_table[\"Z_OBS\"]\n",
    "cluster_lnm = data_table[\"LNM_OBS\"]\n",
    "cluster_richness = cluster_lnm / np.log(10.0)\n",
    "cluster_logM = data_table[\"LNM_TRUE\"] / np.log(10.0)\n",
    "\n",
    "\n",
    "N_richness = 5  # number of richness bins\n",
    "N_z = 4  # number of redshift bins\n",
    "\n",
    "cluster_counts, z_edges, richness_edges, _ = stats.binned_statistic_2d(\n",
    "    cluster_z, cluster_richness, cluster_logM, \"count\", bins=[N_z, N_richness]\n",
    ")\n",
    "\n",
    "mean_logM = stats.binned_statistic_2d(\n",
    "    cluster_z,\n",
    "    cluster_richness,\n",
    "    cluster_logM,\n",
    "    \"mean\",\n",
    "    bins=[z_edges, richness_edges],\n",
    ").statistic\n",
    "\n",
    "std_logM = stats.binned_statistic_2d(\n",
    "    cluster_z, cluster_richness, cluster_logM, \"std\", bins=[z_edges, richness_edges]\n",
    ").statistic\n",
    "\n",
    "var_mean_logM = std_logM**2 / cluster_counts \n",
    "\n",
    "print(cluster_counts)\n",
    "print(mean_logM)\n",
    "print(std_logM)\n",
    "\n",
    "\n",
    "# ** Correlation matrix - the \"large blocks\" correspond to the $N_z$ redshift bins.\n",
    "# In each redshift bin are the $N_{\\rm richness}$ richness bins.**\n",
    "\n",
    "covariance = np.diag(\n",
    "    np.concatenate((cluster_counts.flatten(), var_mean_logM.flatten()))\n",
    ")"
   ]
  },
  {
   "cell_type": "markdown",
   "id": "a4c9c3df-74c3-49cd-8eaa-8e694dc9676c",
   "metadata": {},
   "source": [
    "### Radial shear profile"
   ]
  },
  {
   "cell_type": "code",
   "execution_count": null,
   "id": "ae085d07-3625-4092-9d02-64223f9eea3c",
   "metadata": {},
   "outputs": [],
   "source": [
    "# import clmm\n",
    "# from clmm import Cosmology\n",
    "# os.environ['CLMM_MODELING_BACKEND'] = 'nc'\n",
    "\n",
    "# cosmo_clmm = Cosmology()\n",
    "# cosmo_clmm._init_from_cosmo(cosmo)"
   ]
  },
  {
   "cell_type": "code",
   "execution_count": null,
   "id": "010e62aa-07e9-4449-8038-8f90b70b6271",
   "metadata": {},
   "outputs": [],
   "source": []
  },
  {
   "cell_type": "markdown",
   "id": "950a2ae9-e433-4fcf-a125-503c17f212c4",
   "metadata": {},
   "source": [
    "## Saving to SACC"
   ]
  },
  {
   "cell_type": "code",
   "execution_count": 35,
   "id": "b3144e1f-5b5c-420c-83d5-2e7f34d447c6",
   "metadata": {},
   "outputs": [],
   "source": [
    "s_count = sacc.Sacc()\n",
    "bin_z_labels = []\n",
    "bin_richness_labels = []\n",
    "\n",
    "survey_name = \"numcosmo_simulated_redshift_richness\"\n",
    "s_count.add_tracer(\"cluster_survey\", survey_name, area)\n",
    "\n",
    "for i, z_bin in enumerate(zip(z_edges[:-1], z_edges[1:])):\n",
    "    z_lower, z_upper = z_bin\n",
    "    bin_z_label = f\"bin_z_{i}\"\n",
    "    s_count.add_tracer(\"bin_z\", bin_z_label, z_lower, z_upper)\n",
    "    bin_z_labels.append(bin_z_label)\n",
    "\n",
    "for i, richness_bin in enumerate(zip(richness_edges[:-1], richness_edges[1:])):\n",
    "    richness_lower, richness_upper = richness_bin\n",
    "    bin_richness_label = f\"rich_{i}\"\n",
    "    s_count.add_tracer(\n",
    "        \"bin_richness\", bin_richness_label, richness_lower, richness_upper\n",
    "    )\n",
    "    bin_richness_labels.append(bin_richness_label)\n",
    "\n",
    "cluster_count = sacc.standard_types.cluster_counts\n",
    "cluster_mean_mass = sacc.standard_types.cluster_mean_mass\n",
    "\n",
    "counts_and_edges = zip(\n",
    "    cluster_counts.flatten(), itertools.product(bin_z_labels, bin_richness_labels)\n",
    ")\n",
    "\n",
    "mean_logM_and_edges = zip(\n",
    "    mean_logM.flatten(), itertools.product(bin_z_labels, bin_richness_labels)\n",
    ")\n",
    "\n",
    "for counts, (bin_z_label, bin_richness_label) in counts_and_edges:\n",
    "    s_count.add_data_point(\n",
    "        cluster_count, (survey_name, bin_z_label, bin_richness_label), int(counts)\n",
    "    )\n",
    "\n",
    "for bin_mean_logM, (bin_z_label, bin_richness_label) in mean_logM_and_edges:\n",
    "    s_count.add_data_point(\n",
    "        cluster_mean_mass,\n",
    "        (survey_name, bin_z_label, bin_richness_label),\n",
    "        bin_mean_logM,\n",
    "    )\n",
    "\n",
    "# ### Then the add the covariance and save the file\n",
    "\n",
    "s_count.add_covariance(covariance)\n",
    "s_count.to_canonical_order()\n",
    "s_count.save_fits(\"cluster_redshift_richness_sacc_data.fits\", overwrite=True)"
   ]
  },
  {
   "cell_type": "code",
   "execution_count": 36,
   "id": "49dfb4d9-ab69-48f0-9005-f0363263d2d7",
   "metadata": {},
   "outputs": [],
   "source": [
    "s2 = sacc.Sacc.load_fits(\"./cluster_redshift_richness_sacc_data.fits\")"
   ]
  },
  {
   "cell_type": "code",
   "execution_count": 43,
   "id": "34090216-8645-4b69-b85d-4a5498497a9e",
   "metadata": {},
   "outputs": [
    {
     "data": {
      "text/plain": [
       "[DataPoint(data_type='cluster_counts', tracers=('numcosmo_simulated_redshift_richness', 'bin_z_0', 'rich_0'), value=3192, ),\n",
       " DataPoint(data_type='cluster_counts', tracers=('numcosmo_simulated_redshift_richness', 'bin_z_0', 'rich_1'), value=1638, ),\n",
       " DataPoint(data_type='cluster_counts', tracers=('numcosmo_simulated_redshift_richness', 'bin_z_0', 'rich_2'), value=476, ),\n",
       " DataPoint(data_type='cluster_counts', tracers=('numcosmo_simulated_redshift_richness', 'bin_z_0', 'rich_3'), value=81, ),\n",
       " DataPoint(data_type='cluster_counts', tracers=('numcosmo_simulated_redshift_richness', 'bin_z_0', 'rich_4'), value=9, ),\n",
       " DataPoint(data_type='cluster_counts', tracers=('numcosmo_simulated_redshift_richness', 'bin_z_1', 'rich_0'), value=5287, ),\n",
       " DataPoint(data_type='cluster_counts', tracers=('numcosmo_simulated_redshift_richness', 'bin_z_1', 'rich_1'), value=2661, ),\n",
       " DataPoint(data_type='cluster_counts', tracers=('numcosmo_simulated_redshift_richness', 'bin_z_1', 'rich_2'), value=744, ),\n",
       " DataPoint(data_type='cluster_counts', tracers=('numcosmo_simulated_redshift_richness', 'bin_z_1', 'rich_3'), value=128, ),\n",
       " DataPoint(data_type='cluster_counts', tracers=('numcosmo_simulated_redshift_richness', 'bin_z_1', 'rich_4'), value=12, ),\n",
       " DataPoint(data_type='cluster_counts', tracers=('numcosmo_simulated_redshift_richness', 'bin_z_2', 'rich_0'), value=7782, ),\n",
       " DataPoint(data_type='cluster_counts', tracers=('numcosmo_simulated_redshift_richness', 'bin_z_2', 'rich_1'), value=3643, ),\n",
       " DataPoint(data_type='cluster_counts', tracers=('numcosmo_simulated_redshift_richness', 'bin_z_2', 'rich_2'), value=1030, ),\n",
       " DataPoint(data_type='cluster_counts', tracers=('numcosmo_simulated_redshift_richness', 'bin_z_2', 'rich_3'), value=161, ),\n",
       " DataPoint(data_type='cluster_counts', tracers=('numcosmo_simulated_redshift_richness', 'bin_z_2', 'rich_4'), value=15, ),\n",
       " DataPoint(data_type='cluster_counts', tracers=('numcosmo_simulated_redshift_richness', 'bin_z_3', 'rich_0'), value=9440, ),\n",
       " DataPoint(data_type='cluster_counts', tracers=('numcosmo_simulated_redshift_richness', 'bin_z_3', 'rich_1'), value=4580, ),\n",
       " DataPoint(data_type='cluster_counts', tracers=('numcosmo_simulated_redshift_richness', 'bin_z_3', 'rich_2'), value=1183, ),\n",
       " DataPoint(data_type='cluster_counts', tracers=('numcosmo_simulated_redshift_richness', 'bin_z_3', 'rich_3'), value=189, ),\n",
       " DataPoint(data_type='cluster_counts', tracers=('numcosmo_simulated_redshift_richness', 'bin_z_3', 'rich_4'), value=10, ),\n",
       " DataPoint(data_type='cluster_mean_mass', tracers=('numcosmo_simulated_redshift_richness', 'bin_z_0', 'rich_0'), value=13.37631161743326, ),\n",
       " DataPoint(data_type='cluster_mean_mass', tracers=('numcosmo_simulated_redshift_richness', 'bin_z_0', 'rich_1'), value=13.560324833117502, ),\n",
       " DataPoint(data_type='cluster_mean_mass', tracers=('numcosmo_simulated_redshift_richness', 'bin_z_0', 'rich_2'), value=13.875145460703163, ),\n",
       " DataPoint(data_type='cluster_mean_mass', tracers=('numcosmo_simulated_redshift_richness', 'bin_z_0', 'rich_3'), value=14.159062649699498, ),\n",
       " DataPoint(data_type='cluster_mean_mass', tracers=('numcosmo_simulated_redshift_richness', 'bin_z_0', 'rich_4'), value=14.25331848123603, ),\n",
       " DataPoint(data_type='cluster_mean_mass', tracers=('numcosmo_simulated_redshift_richness', 'bin_z_1', 'rich_0'), value=13.369084597226188, ),\n",
       " DataPoint(data_type='cluster_mean_mass', tracers=('numcosmo_simulated_redshift_richness', 'bin_z_1', 'rich_1'), value=13.555038353424735, ),\n",
       " DataPoint(data_type='cluster_mean_mass', tracers=('numcosmo_simulated_redshift_richness', 'bin_z_1', 'rich_2'), value=13.813717760823069, ),\n",
       " DataPoint(data_type='cluster_mean_mass', tracers=('numcosmo_simulated_redshift_richness', 'bin_z_1', 'rich_3'), value=14.137689682613477, ),\n",
       " DataPoint(data_type='cluster_mean_mass', tracers=('numcosmo_simulated_redshift_richness', 'bin_z_1', 'rich_4'), value=14.356859740432258, ),\n",
       " DataPoint(data_type='cluster_mean_mass', tracers=('numcosmo_simulated_redshift_richness', 'bin_z_2', 'rich_0'), value=13.360280049735517, ),\n",
       " DataPoint(data_type='cluster_mean_mass', tracers=('numcosmo_simulated_redshift_richness', 'bin_z_2', 'rich_1'), value=13.548032819175356, ),\n",
       " DataPoint(data_type='cluster_mean_mass', tracers=('numcosmo_simulated_redshift_richness', 'bin_z_2', 'rich_2'), value=13.783706184510573, ),\n",
       " DataPoint(data_type='cluster_mean_mass', tracers=('numcosmo_simulated_redshift_richness', 'bin_z_2', 'rich_3'), value=14.058905483555435, ),\n",
       " DataPoint(data_type='cluster_mean_mass', tracers=('numcosmo_simulated_redshift_richness', 'bin_z_2', 'rich_4'), value=14.381349191993879, ),\n",
       " DataPoint(data_type='cluster_mean_mass', tracers=('numcosmo_simulated_redshift_richness', 'bin_z_3', 'rich_0'), value=13.354615390418866, ),\n",
       " DataPoint(data_type='cluster_mean_mass', tracers=('numcosmo_simulated_redshift_richness', 'bin_z_3', 'rich_1'), value=13.525620442348897, ),\n",
       " DataPoint(data_type='cluster_mean_mass', tracers=('numcosmo_simulated_redshift_richness', 'bin_z_3', 'rich_2'), value=13.74911493689763, ),\n",
       " DataPoint(data_type='cluster_mean_mass', tracers=('numcosmo_simulated_redshift_richness', 'bin_z_3', 'rich_3'), value=14.083451796728912, ),\n",
       " DataPoint(data_type='cluster_mean_mass', tracers=('numcosmo_simulated_redshift_richness', 'bin_z_3', 'rich_4'), value=14.48049014459724, )]"
      ]
     },
     "execution_count": 43,
     "metadata": {},
     "output_type": "execute_result"
    }
   ],
   "source": [
    "s2.data."
   ]
  },
  {
   "cell_type": "code",
   "execution_count": 23,
   "id": "14b1d729-d470-42b0-a679-98180c60708c",
   "metadata": {},
   "outputs": [
    {
     "data": {
      "text/plain": [
       "<matplotlib.image.AxesImage at 0x7fd0871e1630>"
      ]
     },
     "execution_count": 23,
     "metadata": {},
     "output_type": "execute_result"
    },
    {
     "data": {
      "image/png": "[encoded data removed]",
      "text/plain": [
       "<Figure size 640x480 with 1 Axes>"
      ]
     },
     "metadata": {},
     "output_type": "display_data"
    }
   ],
   "source": [
    "plt.imshow(np.corrcoef(s2.covariance.covmat))"
   ]
  }
 ],
 "metadata": {
  "kernelspec": {
   "display_name": "wrk",
   "language": "python",
   "name": "wrk"
  },
  "language_info": {
   "codemirror_mode": {
    "name": "ipython",
    "version": 3
   },
   "file_extension": ".py",
   "mimetype": "text/x-python",
   "name": "python",
   "nbconvert_exporter": "python",
   "pygments_lexer": "ipython3",
   "version": "3.10.9"
  }
 },
 "nbformat": 4,
 "nbformat_minor": 5
}
