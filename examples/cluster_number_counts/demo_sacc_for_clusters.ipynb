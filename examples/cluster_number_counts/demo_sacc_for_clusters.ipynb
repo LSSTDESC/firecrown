{
 "cells": [
  {
   "cell_type": "markdown",
   "id": "7f562b0e-7fe0-41ca-8760-5ed56753742c",
   "metadata": {},
   "source": [
    "# SACC file creation for binned cluster analysis"
   ]
  },
  {
   "cell_type": "markdown",
   "id": "53ee68af-3079-4711-9056-36f63630e1c6",
   "metadata": {},
   "source": [
    "This demo notebook examplifies storing information for a binned cluster analysis into a sacc format. Steps are the following:\n",
    "- generate a mock cluster catalog in richness-redshift bins. This is done using NumCosmo functionalities and requires Numcosmo v>=0.17\n",
    "- in each bin, generate a mock radial shear profile using CLMM. This is meant to correspond to the stacked shear profile in that bin.\n",
    "- store all this information using the SACC framework.\n",
    "- show how to recover the information from the SACC file."
   ]
  },
  {
   "cell_type": "code",
   "execution_count": 1,
   "id": "7f10789d-5ee5-4ee4-ba3c-b4605909b22b",
   "metadata": {},
   "outputs": [
    {
     "name": "stderr",
     "output_type": "stream",
     "text": [
      "\n",
      "WARNING: version mismatch between CFITSIO header (v40100) and linked library (v40200).\n",
      "\n",
      "\n",
      "WARNING: version mismatch between CFITSIO header (v40100) and linked library (v40200).\n",
      "\n",
      "\n",
      "WARNING: version mismatch between CFITSIO header (v40100) and linked library (v40200).\n",
      "\n"
     ]
    }
   ],
   "source": [
    "import os\n",
    "import math\n",
    "import itertools\n",
    "import numpy as np\n",
    "from astropy.table import Table\n",
    "from astropy.io import fits\n",
    "from scipy import stats\n",
    "import matplotlib.pyplot as plt\n",
    "\n",
    "# This require Numcosmo v>=0.17\n",
    "from numcosmo_py import Nc\n",
    "from numcosmo_py import Ncm\n",
    "\n",
    "from firecrown.sacc_support import sacc\n",
    "\n",
    "os.environ['CLMM_MODELING_BACKEND'] = 'nc' # Need to use NumCosmo as CLMM's backend as well.\n",
    "import clmm\n",
    "from clmm import Cosmology"
   ]
  },
  {
   "cell_type": "markdown",
   "id": "6f59eaa4-e6f9-40f9-9497-966f81dee10b",
   "metadata": {},
   "source": [
    "## Prepare NumCosmo cosmology"
   ]
  },
  {
   "cell_type": "code",
   "execution_count": 2,
   "id": "8fad6f65-7a43-4965-8e27-01fbc4f7afe5",
   "metadata": {},
   "outputs": [],
   "source": [
    "H0 = 71.0\n",
    "Ob0 = 0.0448\n",
    "Odm0 = 0.22\n",
    "n_s = 0.963\n",
    "sigma8 = 0.8\n",
    "\n",
    "Ncm.cfg_init()\n",
    "#cosmo = Nc.HICosmoDEXcdm() # not (yet) supported by CLMM --> using Nc.HICosmoDECpl() instead\n",
    "cosmo = Nc.HICosmoDECpl()\n",
    "reion = Nc.HIReionCamb.new()\n",
    "prim = Nc.HIPrimPowerLaw.new()\n",
    "\n",
    "cosmo.add_submodel(reion)\n",
    "cosmo.add_submodel(prim)\n",
    "\n",
    "dist = Nc.Distance.new(2.0)\n",
    "\n",
    "tf = Nc.TransferFunc.new_from_name(\"NcTransferFuncEH\")\n",
    "\n",
    "psml = Nc.PowspecMLTransfer.new(tf)\n",
    "\n",
    "# psml = Nc.PowspecMLCBE.new ()\n",
    "psml.require_kmin(1.0e-6)\n",
    "psml.require_kmax(1.0e3)\n",
    "\n",
    "psf = Ncm.PowspecFilter.new(psml, Ncm.PowspecFilterType.TOPHAT)\n",
    "psf.set_best_lnr0()\n",
    "\n",
    "cosmo.props.H0 = H0\n",
    "cosmo.props.Omegab = Ob0\n",
    "cosmo.props.Omegac = Odm0\n",
    "\n",
    "cosmo.omega_x2omega_k()\n",
    "cosmo.param_set_by_name(\"Omegak\", 0.0)\n",
    "\n",
    "prim.props.n_SA = n_s\n",
    "\n",
    "old_amplitude = math.exp(prim.props.ln10e10ASA)\n",
    "prim.props.ln10e10ASA = math.log((sigma8 / cosmo.sigma8(psf)) ** 2 * old_amplitude)"
   ]
  },
  {
   "cell_type": "markdown",
   "id": "a7177d4b-7e34-46f6-9bdf-f11d9d0034b9",
   "metadata": {},
   "source": [
    "## Generate a mock cluster catalog using NumCosmo\n",
    "\n",
    "NumCosmo has a built-in functionality to generate mock cluster catalogs, from a given halo mass function (HMF) and with a log-normal richness-mass relation. \n",
    "- For the HMF, the code below uses the Tinker (2008) definition. \n",
    "- For the richness-mass relation, six parameters can be specified as the NumCosmo functionality allows for the mean relation and scatter of the log-normal distribution to have a linear dependences with both log(mass) and log(1+z) (that's 2 parameters and a normalisation, for both the mean relation and the scatter). \n",
    "\n",
    "Below we use the Murata et al. (2019) parameters (from their Table 1), but neglecting the quadratic dependence in redshift they use (this is inconsistent, but sufficient to generate this mock dataset)"
   ]
  },
  {
   "cell_type": "code",
   "execution_count": 3,
   "id": "472f1c1a-2aa4-4f01-8988-45f958f5aed4",
   "metadata": {},
   "outputs": [],
   "source": [
    "# Define the sky area and the richness and redshift ranges\n",
    "area = 5000. # deg2\n",
    "lnRl = 0.0\n",
    "lnRu = 6.0\n",
    "zl = 0.2\n",
    "zu = 0.65\n",
    "\n",
    "cluster_z = Nc.ClusterRedshift.new_from_name(\n",
    "    f\"NcClusterRedshiftNodist{{'z-min': <{zl:22.15e}>, 'z-max':<{zu:22.15e}>}}\"\n",
    ")\n",
    "\n",
    "cluster_m = Nc.ClusterMass.new_from_name(\n",
    "    f\"NcClusterMassAscaso{{'M0':<{3.0e14 / 0.71:22.15e}>,'z0':<0.6>, \"\n",
    "    f\"'lnRichness-min':<{lnRl:22.15e}>, 'lnRichness-max':<{lnRu:22.15e}>}}\"\n",
    ")\n",
    "\n",
    "# mean richness-mass relation parameters\n",
    "cluster_m.param_set_by_name(\"mup0\", 3.15) # normalisation\n",
    "cluster_m.param_set_by_name(\"mup1\", 0.86 / np.log(10)) # mass dependence, adapted to match the log10 definition used in NumCosmo\n",
    "cluster_m.param_set_by_name(\"mup2\", -0.21 / np.log(10)) # redshift dependence, adapted to match the log10 definition used in NumCosmo\n",
    "# richness-mass scatter parameter\n",
    "cluster_m.param_set_by_name(\"sigmap0\", 0.33) # normalisation\n",
    "cluster_m.param_set_by_name(\"sigmap1\", -0.08 / np.log(10)) # mass dependence, adapted to match the log10 definition used in NumCosmo\n",
    "cluster_m.param_set_by_name(\"sigmap2\", 0.03 / np.log(10)) # redshift dependence, adapted to match the log10 definition used in NumCosmo\n",
    "\n",
    " \n",
    "# Numcosmo Mass Function\n",
    "# First, define the multiplicity function. \n",
    "mulf = Nc.MultiplicityFuncTinker.new() # Tinker (2008)\n",
    "mulf.set_linear_interp(True)  # This reproduces the linear interpolation done in CCL\n",
    "mulf.set_mdef(Nc.MultiplicityFuncMassDef.MEAN)\n",
    "mulf.set_Delta(200)\n",
    "\n",
    "# Second, construct a filtered power spectrum\n",
    "hmf = Nc.HaloMassFunction.new(dist, psf, mulf)\n",
    "hmf.set_area_sd(area)\n",
    "\n",
    "# Cluster Abundance Obj\n",
    "ca = Nc.ClusterAbundance.new(hmf, None)\n",
    "\n",
    "# Number Counts object\n",
    "ncount = Nc.DataClusterNCount.new(\n",
    "    ca, \"NcClusterRedshiftNodist\", \"NcClusterMassAscaso\"\n",
    ")\n",
    "ca.prepare(cosmo, cluster_z, cluster_m)\n",
    "mset = Ncm.MSet.new_array([cosmo, cluster_z, cluster_m])\n",
    "\n",
    "rng = Ncm.RNG.seeded_new(None, 32)\n",
    "ncount.init_from_sampling(mset, area * ((np.pi / 180) ** 2), rng)\n",
    "\n",
    "ncount.catalog_save(\"ncount_rich.fits\", True)\n",
    "ncdata_fits = fits.open(\"ncount_rich.fits\")\n",
    "ncdata_data = ncdata_fits[1].data \n",
    "ncdata_Table = Table(ncdata_data)"
   ]
  },
  {
   "cell_type": "markdown",
   "id": "3c919b49-ee2a-4500-948a-d852169aa1c3",
   "metadata": {},
   "source": [
    "## Next, in the $N_{\\rm richness} \\times N_z$ richness-redshift plane:\n",
    "- count halos and compute mean mass in each bin, directly from the data generated at the previous step\n",
    "- associate a \"mock\" shear profile, generated using CLMM from the mean mass in the bin, mock diagonal inter-radial bin covariance. Very rough/quick solution to get some \"shear profile data\".\n"
   ]
  },
  {
   "cell_type": "markdown",
   "id": "2179c307-8f4f-4194-9d2f-26b9258dad54",
   "metadata": {},
   "source": [
    "### Counts and mean mass\n"
   ]
  },
  {
   "cell_type": "code",
   "execution_count": 4,
   "id": "b0db89c8-f549-497f-bce8-f33b79166701",
   "metadata": {},
   "outputs": [],
   "source": [
    "data_table = ncdata_Table[ncdata_Table[\"LNM_OBS\"] > 2]\n",
    "cluster_z = data_table[\"Z_OBS\"]\n",
    "cluster_lnm = data_table[\"LNM_OBS\"]\n",
    "cluster_richness = cluster_lnm / np.log(10.0)\n",
    "cluster_logM = np.log10(np.exp(data_table[\"LNM_TRUE\"]))\n",
    "\n",
    "N_richness = 4  # number of richness bins\n",
    "N_z = 3  # number of redshift bins\n",
    "\n",
    "cluster_counts, z_edges, richness_edges, _ = stats.binned_statistic_2d(\n",
    "    cluster_z, cluster_richness, cluster_logM, \"count\", bins=[N_z, N_richness]\n",
    ")\n",
    "\n",
    "mean_logM = stats.binned_statistic_2d(\n",
    "    cluster_z,\n",
    "    cluster_richness,\n",
    "    cluster_logM,\n",
    "    \"mean\",\n",
    "    bins=[z_edges, richness_edges],\n",
    ").statistic\n",
    "\n",
    "std_logM = stats.binned_statistic_2d(\n",
    "    cluster_z, cluster_richness, cluster_logM, \"std\", bins=[z_edges, richness_edges]\n",
    ").statistic\n",
    "\n",
    "var_mean_logM = std_logM**2 / cluster_counts \n",
    "\n",
    "covariance = np.diag(\n",
    "    np.concatenate((cluster_counts.flatten(), var_mean_logM.flatten()))\n",
    ")"
   ]
  },
  {
   "cell_type": "markdown",
   "id": "950a2ae9-e433-4fcf-a125-503c17f212c4",
   "metadata": {},
   "source": [
    "### Saving to SACC"
   ]
  },
  {
   "cell_type": "code",
   "execution_count": 5,
   "id": "b3144e1f-5b5c-420c-83d5-2e7f34d447c6",
   "metadata": {},
   "outputs": [],
   "source": [
    "s_count = sacc.Sacc()\n",
    "bin_z_labels = []\n",
    "bin_richness_labels = []\n",
    "\n",
    "survey_name = \"NC_mock_redshift_richness\"\n",
    "s_count.add_tracer(\"cluster_survey\", survey_name, area)\n",
    "\n",
    "for i, z_bin in enumerate(zip(z_edges[:-1], z_edges[1:])):\n",
    "    z_lower, z_upper = z_bin\n",
    "    bin_z_label = f\"bin_z_{i}\"\n",
    "    s_count.add_tracer(\"bin_z\", bin_z_label, z_lower, z_upper)\n",
    "    bin_z_labels.append(bin_z_label)\n",
    "\n",
    "for i, richness_bin in enumerate(zip(richness_edges[:-1], richness_edges[1:])):\n",
    "    richness_lower, richness_upper = richness_bin\n",
    "    bin_richness_label = f\"bin_rich_{i}\"\n",
    "    s_count.add_tracer(\n",
    "        \"bin_richness\", bin_richness_label, richness_lower, richness_upper\n",
    "    )\n",
    "    bin_richness_labels.append(bin_richness_label)\n",
    "\n",
    "cluster_count = sacc.standard_types.cluster_counts\n",
    "cluster_mass = sacc.standard_types.cluster_mean_log_mass\n",
    "\n",
    "counts_and_edges = zip(\n",
    "    cluster_counts.flatten(), itertools.product(bin_z_labels, bin_richness_labels)\n",
    ")\n",
    "\n",
    "# mean_logM_and_edges = zip(\n",
    "#     mean_logM.flatten(), itertools.product(bin_z_labels, bin_richness_labels)\n",
    "# )\n",
    "\n",
    "mean_logM_and_edges = zip(\n",
    "    mean_logM.flatten(), itertools.product(bin_z_labels, bin_richness_labels)\n",
    ")\n",
    "\n",
    "\n",
    "for counts, (bin_z_label, bin_richness_label) in counts_and_edges:\n",
    "    s_count.add_data_point(\n",
    "        cluster_count, (survey_name, bin_z_label, bin_richness_label), int(counts)\n",
    "    )\n",
    "    \n",
    "for bin_mean_logM, (bin_z_label, bin_richness_label) in mean_logM_and_edges:\n",
    "    s_count.add_data_point(\n",
    "        cluster_mass,\n",
    "        (survey_name, bin_z_label, bin_richness_label),\n",
    "        bin_mean_logM,\n",
    "    )\n",
    "\n",
    "# Then the add the covariance and save the file\n",
    "s_count.add_covariance(covariance)\n",
    "s_count.to_canonical_order()\n",
    "s_count.save_fits(\"cluster_redshift_richness_sacc_data.fits\", overwrite=True)"
   ]
  },
  {
   "cell_type": "markdown",
   "id": "36896c28-cc63-49bf-87d1-e9c7431ea4d9",
   "metadata": {},
   "source": [
    "### Loading SACC file and check contents"
   ]
  },
  {
   "cell_type": "code",
   "execution_count": 6,
   "id": "49dfb4d9-ab69-48f0-9005-f0363263d2d7",
   "metadata": {},
   "outputs": [],
   "source": [
    "s2 = sacc.Sacc.load_fits(\"./cluster_redshift_richness_sacc_data.fits\")"
   ]
  },
  {
   "cell_type": "code",
   "execution_count": 7,
   "id": "34090216-8645-4b69-b85d-4a5498497a9e",
   "metadata": {},
   "outputs": [
    {
     "data": {
      "text/plain": [
       "['cluster_mean_log_mass', 'cluster_counts']"
      ]
     },
     "execution_count": 7,
     "metadata": {},
     "output_type": "execute_result"
    }
   ],
   "source": [
    "s2.get_data_types()"
   ]
  },
  {
   "cell_type": "code",
   "execution_count": 8,
   "id": "0aa582db-74f9-4b85-bc25-711644109c3c",
   "metadata": {},
   "outputs": [
    {
     "data": {
      "text/plain": [
       "[DataPoint(data_type='cluster_mean_log_mass', tracers=('NC_mock_redshift_richness', 'bin_z_0', 'bin_rich_0'), value=13.377663350048898, ),\n",
       " DataPoint(data_type='cluster_mean_log_mass', tracers=('NC_mock_redshift_richness', 'bin_z_0', 'bin_rich_1'), value=13.639310773443086, ),\n",
       " DataPoint(data_type='cluster_mean_log_mass', tracers=('NC_mock_redshift_richness', 'bin_z_0', 'bin_rich_2'), value=14.017977463671437, ),\n",
       " DataPoint(data_type='cluster_mean_log_mass', tracers=('NC_mock_redshift_richness', 'bin_z_0', 'bin_rich_3'), value=14.426967540211328, ),\n",
       " DataPoint(data_type='cluster_mean_log_mass', tracers=('NC_mock_redshift_richness', 'bin_z_1', 'bin_rich_0'), value=13.369226957014318, ),\n",
       " DataPoint(data_type='cluster_mean_log_mass', tracers=('NC_mock_redshift_richness', 'bin_z_1', 'bin_rich_1'), value=13.610514626748067, ),\n",
       " DataPoint(data_type='cluster_mean_log_mass', tracers=('NC_mock_redshift_richness', 'bin_z_1', 'bin_rich_2'), value=13.983144611997812, ),\n",
       " DataPoint(data_type='cluster_mean_log_mass', tracers=('NC_mock_redshift_richness', 'bin_z_1', 'bin_rich_3'), value=14.332596440985377, ),\n",
       " DataPoint(data_type='cluster_mean_log_mass', tracers=('NC_mock_redshift_richness', 'bin_z_2', 'bin_rich_0'), value=13.3593666918896, ),\n",
       " DataPoint(data_type='cluster_mean_log_mass', tracers=('NC_mock_redshift_richness', 'bin_z_2', 'bin_rich_1'), value=13.58621026077549, ),\n",
       " DataPoint(data_type='cluster_mean_log_mass', tracers=('NC_mock_redshift_richness', 'bin_z_2', 'bin_rich_2'), value=13.91311887488317, ),\n",
       " DataPoint(data_type='cluster_mean_log_mass', tracers=('NC_mock_redshift_richness', 'bin_z_2', 'bin_rich_3'), value=14.20431547791989, ),\n",
       " DataPoint(data_type='cluster_counts', tracers=('NC_mock_redshift_richness', 'bin_z_0', 'bin_rich_0'), value=74639, ),\n",
       " DataPoint(data_type='cluster_counts', tracers=('NC_mock_redshift_richness', 'bin_z_0', 'bin_rich_1'), value=26398, ),\n",
       " DataPoint(data_type='cluster_counts', tracers=('NC_mock_redshift_richness', 'bin_z_0', 'bin_rich_2'), value=3158, ),\n",
       " DataPoint(data_type='cluster_counts', tracers=('NC_mock_redshift_richness', 'bin_z_0', 'bin_rich_3'), value=105, ),\n",
       " DataPoint(data_type='cluster_counts', tracers=('NC_mock_redshift_richness', 'bin_z_1', 'bin_rich_0'), value=135594, ),\n",
       " DataPoint(data_type='cluster_counts', tracers=('NC_mock_redshift_richness', 'bin_z_1', 'bin_rich_1'), value=45119, ),\n",
       " DataPoint(data_type='cluster_counts', tracers=('NC_mock_redshift_richness', 'bin_z_1', 'bin_rich_2'), value=4894, ),\n",
       " DataPoint(data_type='cluster_counts', tracers=('NC_mock_redshift_richness', 'bin_z_1', 'bin_rich_3'), value=162, ),\n",
       " DataPoint(data_type='cluster_counts', tracers=('NC_mock_redshift_richness', 'bin_z_2', 'bin_rich_0'), value=185542, ),\n",
       " DataPoint(data_type='cluster_counts', tracers=('NC_mock_redshift_richness', 'bin_z_2', 'bin_rich_1'), value=58654, ),\n",
       " DataPoint(data_type='cluster_counts', tracers=('NC_mock_redshift_richness', 'bin_z_2', 'bin_rich_2'), value=5866, ),\n",
       " DataPoint(data_type='cluster_counts', tracers=('NC_mock_redshift_richness', 'bin_z_2', 'bin_rich_3'), value=113, )]"
      ]
     },
     "execution_count": 8,
     "metadata": {},
     "output_type": "execute_result"
    }
   ],
   "source": [
    "s2.data"
   ]
  },
  {
   "cell_type": "markdown",
   "id": "193116ae-001f-4cb0-9df7-0a0694febed5",
   "metadata": {},
   "source": [
    "#### Look at covariance. \n",
    "Plotting log10 of the covariance for display purposes. The first upper left block correspond to the count covariance. \n",
    "The lower right block to the mean mass covariance. No off-diagonal terms were considered in this simple example. This is just a place holder to show how the SACC file is filled in."
   ]
  },
  {
   "cell_type": "code",
   "execution_count": 9,
   "id": "14b1d729-d470-42b0-a679-98180c60708c",
   "metadata": {},
   "outputs": [
    {
     "name": "stderr",
     "output_type": "stream",
     "text": [
      "/tmp/ipykernel_22584/1676763377.py:1: RuntimeWarning: divide by zero encountered in log10\n",
      "  plt.imshow(np.log10(s2.covariance.covmat))\n"
     ]
    },
    {
     "data": {
      "text/plain": [
       "<matplotlib.colorbar.Colorbar at 0x7f5a466a4cd0>"
      ]
     },
     "execution_count": 9,
     "metadata": {},
     "output_type": "execute_result"
    },
    {
     "data": {
      "image/png": "[encoded data removed]",
      "text/plain": [
       "<Figure size 640x480 with 2 Axes>"
      ]
     },
     "metadata": {},
     "output_type": "display_data"
    }
   ],
   "source": [
    "plt.imshow(np.log10(s2.covariance.covmat))\n",
    "plt.colorbar()"
   ]
  },
  {
   "cell_type": "markdown",
   "id": "961fdda8-0431-4c32-b8e5-a054a6a3e7fc",
   "metadata": {
    "tags": []
   },
   "source": [
    "## Saving a shear profile instead of the mean mass\n",
    "\n",
    "Rather than saving the mean mass into SACC, one may want to save the 'stacked' shear profile in a richness-redshift bin. This possible as exemplified below. "
   ]
  },
  {
   "cell_type": "markdown",
   "id": "e57ead74-2612-459b-9b4b-4e07a8392614",
   "metadata": {},
   "source": [
    "### Prepare new sacc, filling it with counts (same as above)"
   ]
  },
  {
   "cell_type": "code",
   "execution_count": 10,
   "id": "6226ebf5-5ced-4886-bbed-c04284043f75",
   "metadata": {},
   "outputs": [],
   "source": [
    "s_count2 = sacc.Sacc()\n",
    "bin_z_labels = []\n",
    "bin_richness_labels = []\n",
    "\n",
    "survey_name = \"NC_mock_redshift_richness\"\n",
    "s_count2.add_tracer(\"cluster_survey\", survey_name, area)\n",
    "\n",
    "for i, z_bin in enumerate(zip(z_edges[:-1], z_edges[1:])):\n",
    "    z_lower, z_upper = z_bin\n",
    "    bin_z_label = f\"bin_z_{i}\"\n",
    "    s_count2.add_tracer(\"bin_z\", bin_z_label, z_lower, z_upper)\n",
    "    bin_z_labels.append(bin_z_label)\n",
    "\n",
    "for i, richness_bin in enumerate(zip(richness_edges[:-1], richness_edges[1:])):\n",
    "    richness_lower, richness_upper = richness_bin\n",
    "    bin_richness_label = f\"bin_rich_{i}\"\n",
    "    s_count2.add_tracer(\n",
    "        \"bin_richness\", bin_richness_label, richness_lower, richness_upper\n",
    "    )\n",
    "    bin_richness_labels.append(bin_richness_label)\n",
    "\n",
    "cluster_count = sacc.standard_types.cluster_counts\n",
    "counts_and_edges = zip(\n",
    "    cluster_counts.flatten(), itertools.product(bin_z_labels, bin_richness_labels)\n",
    ")\n",
    "for counts, (bin_z_label, bin_richness_label) in counts_and_edges:\n",
    "    s_count2.add_data_point(\n",
    "        cluster_count, (survey_name, bin_z_label, bin_richness_label), int(counts)\n",
    "    )\n"
   ]
  },
  {
   "cell_type": "markdown",
   "id": "3decd4bb-2560-40bf-b461-b84cd7f87cd4",
   "metadata": {},
   "source": [
    "#### Use CLMM to generate a mock shear profile"
   ]
  },
  {
   "cell_type": "code",
   "execution_count": 11,
   "id": "cd235d47-bbc4-4b74-9276-56aa5fac14b0",
   "metadata": {},
   "outputs": [],
   "source": [
    "# Setting things up for CLMM\n",
    "cosmo_clmm = Cosmology()\n",
    "cosmo_clmm._init_from_cosmo(cosmo)\n",
    "moo = clmm.Modeling(massdef=\"mean\", delta_mdef=200, halo_profile_model=\"nfw\")\n",
    "moo.set_cosmo(cosmo_clmm)\n",
    "# assuming the same concentration for all masses. Not realistic, but avoid having to call a mass-concentration relation.\n",
    "moo.set_concentration(4)\n",
    "\n",
    "# we'll need the mean redshift of the clusters in the redshift bin\n",
    "mean_z = stats.binned_statistic_2d(\n",
    "    cluster_z,\n",
    "    cluster_richness,\n",
    "    cluster_z,\n",
    "    \"mean\",\n",
    "    bins=[z_edges, richness_edges],\n",
    ").statistic\n",
    "\n",
    "radius_edges = clmm.make_bins(0.3, 6., nbins=6, method=\"evenlog10width\") # 6 radial bins log-spaced between 0.3 and 6 Mpc"
   ]
  },
  {
   "cell_type": "code",
   "execution_count": 12,
   "id": "c912d717-eb26-4072-b9ba-281befa7ff9b",
   "metadata": {},
   "outputs": [],
   "source": [
    "bin_radius_labels = []\n",
    "radius_centers = []\n",
    "for i, radius_bin in enumerate(zip(radius_edges[:-1], radius_edges[1:])):\n",
    "    radius_lower, radius_upper = radius_bin\n",
    "    radius_center = np.mean(radius_edges[i:i+1])\n",
    "    radius_centers.append(radius_center)\n",
    "    bin_radius_label = f\"bin_radius_{i}\"\n",
    "    s_count2.add_tracer(\n",
    "        \"bin_radius\", bin_radius_label, radius_lower, radius_upper, radius_center\n",
    "    )\n",
    "    bin_radius_labels.append(bin_radius_label)\n",
    "    \n",
    "cluster_shear = sacc.standard_types.cluster_shear"
   ]
  },
  {
   "cell_type": "code",
   "execution_count": 13,
   "id": "433d8c0e-4c4c-4214-a72d-0b011f2541fc",
   "metadata": {},
   "outputs": [],
   "source": [
    "redshifts_masses_and_edges = zip(\n",
    "    mean_z.flatten(), mean_logM.flatten(),itertools.product(bin_z_labels, bin_richness_labels)\n",
    ")\n",
    "for redshift, log_mass, (bin_z_label, bin_richness_label) in redshifts_masses_and_edges:\n",
    "    mass = 10**log_mass\n",
    "    moo.set_mass(mass)\n",
    "    profile = moo.eval_excess_surface_density(radius_centers, redshift)\n",
    "    for i,bin_radius_label in enumerate(bin_radius_labels):\n",
    "        s_count2.add_data_point(\n",
    "            cluster_shear, (survey_name, bin_z_label, bin_richness_label, bin_radius_label), profile[i]\n",
    "    )\n",
    "        "
   ]
  },
  {
   "cell_type": "code",
   "execution_count": 14,
   "id": "04db6a66-6b33-45d7-8a7f-5ab00890523c",
   "metadata": {},
   "outputs": [
    {
     "data": {
      "text/plain": [
       "[DataPoint(data_type='cluster_counts', tracers=('NC_mock_redshift_richness', 'bin_z_0', 'bin_rich_0'), value=74639, ),\n",
       " DataPoint(data_type='cluster_counts', tracers=('NC_mock_redshift_richness', 'bin_z_0', 'bin_rich_1'), value=26398, ),\n",
       " DataPoint(data_type='cluster_counts', tracers=('NC_mock_redshift_richness', 'bin_z_0', 'bin_rich_2'), value=3158, ),\n",
       " DataPoint(data_type='cluster_counts', tracers=('NC_mock_redshift_richness', 'bin_z_0', 'bin_rich_3'), value=105, ),\n",
       " DataPoint(data_type='cluster_counts', tracers=('NC_mock_redshift_richness', 'bin_z_1', 'bin_rich_0'), value=135594, ),\n",
       " DataPoint(data_type='cluster_counts', tracers=('NC_mock_redshift_richness', 'bin_z_1', 'bin_rich_1'), value=45119, ),\n",
       " DataPoint(data_type='cluster_counts', tracers=('NC_mock_redshift_richness', 'bin_z_1', 'bin_rich_2'), value=4894, ),\n",
       " DataPoint(data_type='cluster_counts', tracers=('NC_mock_redshift_richness', 'bin_z_1', 'bin_rich_3'), value=162, ),\n",
       " DataPoint(data_type='cluster_counts', tracers=('NC_mock_redshift_richness', 'bin_z_2', 'bin_rich_0'), value=185542, ),\n",
       " DataPoint(data_type='cluster_counts', tracers=('NC_mock_redshift_richness', 'bin_z_2', 'bin_rich_1'), value=58654, ),\n",
       " DataPoint(data_type='cluster_counts', tracers=('NC_mock_redshift_richness', 'bin_z_2', 'bin_rich_2'), value=5866, ),\n",
       " DataPoint(data_type='cluster_counts', tracers=('NC_mock_redshift_richness', 'bin_z_2', 'bin_rich_3'), value=113, ),\n",
       " DataPoint(data_type='cluster_shear', tracers=('NC_mock_redshift_richness', 'bin_z_0', 'bin_rich_0', 'bin_radius_0'), value=29050865783928.04, ),\n",
       " DataPoint(data_type='cluster_shear', tracers=('NC_mock_redshift_richness', 'bin_z_0', 'bin_rich_0', 'bin_radius_1'), value=18588353432315.316, ),\n",
       " DataPoint(data_type='cluster_shear', tracers=('NC_mock_redshift_richness', 'bin_z_0', 'bin_rich_0', 'bin_radius_2'), value=10796854943136.836, ),\n",
       " DataPoint(data_type='cluster_shear', tracers=('NC_mock_redshift_richness', 'bin_z_0', 'bin_rich_0', 'bin_radius_3'), value=5772635608161.963, ),\n",
       " DataPoint(data_type='cluster_shear', tracers=('NC_mock_redshift_richness', 'bin_z_0', 'bin_rich_0', 'bin_radius_4'), value=2886119336410.7812, ),\n",
       " DataPoint(data_type='cluster_shear', tracers=('NC_mock_redshift_richness', 'bin_z_0', 'bin_rich_0', 'bin_radius_5'), value=1368962867902.2896, ),\n",
       " DataPoint(data_type='cluster_shear', tracers=('NC_mock_redshift_richness', 'bin_z_0', 'bin_rich_1', 'bin_radius_0'), value=41233092797501.35, ),\n",
       " DataPoint(data_type='cluster_shear', tracers=('NC_mock_redshift_richness', 'bin_z_0', 'bin_rich_1', 'bin_radius_1'), value=27505847912995.594, ),\n",
       " DataPoint(data_type='cluster_shear', tracers=('NC_mock_redshift_richness', 'bin_z_0', 'bin_rich_1', 'bin_radius_2'), value=16589396009096.475, ),\n",
       " DataPoint(data_type='cluster_shear', tracers=('NC_mock_redshift_richness', 'bin_z_0', 'bin_rich_1', 'bin_radius_3'), value=9154038784865.234, ),\n",
       " DataPoint(data_type='cluster_shear', tracers=('NC_mock_redshift_richness', 'bin_z_0', 'bin_rich_1', 'bin_radius_4'), value=4693620704875.801, ),\n",
       " DataPoint(data_type='cluster_shear', tracers=('NC_mock_redshift_richness', 'bin_z_0', 'bin_rich_1', 'bin_radius_5'), value=2270526335611.1626, ),\n",
       " DataPoint(data_type='cluster_shear', tracers=('NC_mock_redshift_richness', 'bin_z_0', 'bin_rich_2', 'bin_radius_0'), value=66416557623262.84, ),\n",
       " DataPoint(data_type='cluster_shear', tracers=('NC_mock_redshift_richness', 'bin_z_0', 'bin_rich_2', 'bin_radius_1'), value=47096483269272.99, ),\n",
       " DataPoint(data_type='cluster_shear', tracers=('NC_mock_redshift_richness', 'bin_z_0', 'bin_rich_2', 'bin_radius_2'), value=30097538584130.117, ),\n",
       " DataPoint(data_type='cluster_shear', tracers=('NC_mock_redshift_richness', 'bin_z_0', 'bin_rich_2', 'bin_radius_3'), value=17462598870595.379, ),\n",
       " DataPoint(data_type='cluster_shear', tracers=('NC_mock_redshift_richness', 'bin_z_0', 'bin_rich_2', 'bin_radius_4'), value=9328022913002.64, ),\n",
       " DataPoint(data_type='cluster_shear', tracers=('NC_mock_redshift_richness', 'bin_z_0', 'bin_rich_2', 'bin_radius_5'), value=4660315570393.767, ),\n",
       " DataPoint(data_type='cluster_shear', tracers=('NC_mock_redshift_richness', 'bin_z_0', 'bin_rich_3', 'bin_radius_0'), value=106986213336961.44, ),\n",
       " DataPoint(data_type='cluster_shear', tracers=('NC_mock_redshift_richness', 'bin_z_0', 'bin_rich_3', 'bin_radius_1'), value=80919708596524.6, ),\n",
       " DataPoint(data_type='cluster_shear', tracers=('NC_mock_redshift_richness', 'bin_z_0', 'bin_rich_3', 'bin_radius_2'), value=55202529359562.24, ),\n",
       " DataPoint(data_type='cluster_shear', tracers=('NC_mock_redshift_richness', 'bin_z_0', 'bin_rich_3', 'bin_radius_3'), value=33994259233853.395, ),\n",
       " DataPoint(data_type='cluster_shear', tracers=('NC_mock_redshift_richness', 'bin_z_0', 'bin_rich_3', 'bin_radius_4'), value=19094956517764.887, ),\n",
       " DataPoint(data_type='cluster_shear', tracers=('NC_mock_redshift_richness', 'bin_z_0', 'bin_rich_3', 'bin_radius_5'), value=9932690237460.797, ),\n",
       " DataPoint(data_type='cluster_shear', tracers=('NC_mock_redshift_richness', 'bin_z_1', 'bin_rich_0', 'bin_radius_0'), value=32587950929004.402, ),\n",
       " DataPoint(data_type='cluster_shear', tracers=('NC_mock_redshift_richness', 'bin_z_1', 'bin_rich_0', 'bin_radius_1'), value=20379038976195.96, ),\n",
       " DataPoint(data_type='cluster_shear', tracers=('NC_mock_redshift_richness', 'bin_z_1', 'bin_rich_0', 'bin_radius_2'), value=11600721702710.543, ),\n",
       " DataPoint(data_type='cluster_shear', tracers=('NC_mock_redshift_richness', 'bin_z_1', 'bin_rich_0', 'bin_radius_3'), value=6100334051830.09, ),\n",
       " DataPoint(data_type='cluster_shear', tracers=('NC_mock_redshift_richness', 'bin_z_1', 'bin_rich_0', 'bin_radius_4'), value=3010165023263.598, ),\n",
       " DataPoint(data_type='cluster_shear', tracers=('NC_mock_redshift_richness', 'bin_z_1', 'bin_rich_0', 'bin_radius_5'), value=1413317712470.851, ),\n",
       " DataPoint(data_type='cluster_shear', tracers=('NC_mock_redshift_richness', 'bin_z_1', 'bin_rich_1', 'bin_radius_0'), value=45458814464653.766, ),\n",
       " DataPoint(data_type='cluster_shear', tracers=('NC_mock_redshift_richness', 'bin_z_1', 'bin_rich_1', 'bin_radius_1'), value=29521288295874.504, ),\n",
       " DataPoint(data_type='cluster_shear', tracers=('NC_mock_redshift_richness', 'bin_z_1', 'bin_rich_1', 'bin_radius_2'), value=17375548318585.742, ),\n",
       " DataPoint(data_type='cluster_shear', tracers=('NC_mock_redshift_richness', 'bin_z_1', 'bin_rich_1', 'bin_radius_3'), value=9392796640629.523, ),\n",
       " DataPoint(data_type='cluster_shear', tracers=('NC_mock_redshift_richness', 'bin_z_1', 'bin_rich_1', 'bin_radius_4'), value=4737377269274.516, ),\n",
       " DataPoint(data_type='cluster_shear', tracers=('NC_mock_redshift_richness', 'bin_z_1', 'bin_rich_1', 'bin_radius_5'), value=2262425615342.015, ),\n",
       " DataPoint(data_type='cluster_shear', tracers=('NC_mock_redshift_richness', 'bin_z_1', 'bin_rich_2', 'bin_radius_0'), value=73842163412916.97, ),\n",
       " DataPoint(data_type='cluster_shear', tracers=('NC_mock_redshift_richness', 'bin_z_1', 'bin_rich_2', 'bin_radius_1'), value=50910928102285.02, ),\n",
       " DataPoint(data_type='cluster_shear', tracers=('NC_mock_redshift_richness', 'bin_z_1', 'bin_rich_2', 'bin_radius_2'), value=31666725548153.99, ),\n",
       " DataPoint(data_type='cluster_shear', tracers=('NC_mock_redshift_richness', 'bin_z_1', 'bin_rich_2', 'bin_radius_3'), value=17942129951523.86, ),\n",
       " DataPoint(data_type='cluster_shear', tracers=('NC_mock_redshift_richness', 'bin_z_1', 'bin_rich_2', 'bin_radius_4'), value=9399024516480.053, ),\n",
       " DataPoint(data_type='cluster_shear', tracers=('NC_mock_redshift_richness', 'bin_z_1', 'bin_rich_2', 'bin_radius_5'), value=4623929348358.216, ),\n",
       " DataPoint(data_type='cluster_shear', tracers=('NC_mock_redshift_richness', 'bin_z_1', 'bin_rich_3', 'bin_radius_0'), value=112247981630110.69, ),\n",
       " DataPoint(data_type='cluster_shear', tracers=('NC_mock_redshift_richness', 'bin_z_1', 'bin_rich_3', 'bin_radius_1'), value=81914840579753.36, ),\n",
       " DataPoint(data_type='cluster_shear', tracers=('NC_mock_redshift_richness', 'bin_z_1', 'bin_rich_3', 'bin_radius_2'), value=53861228335415.875, ),\n",
       " DataPoint(data_type='cluster_shear', tracers=('NC_mock_redshift_richness', 'bin_z_1', 'bin_rich_3', 'bin_radius_3'), value=32059337825837.156, ),\n",
       " DataPoint(data_type='cluster_shear', tracers=('NC_mock_redshift_richness', 'bin_z_1', 'bin_rich_3', 'bin_radius_4'), value=17494323338243.818, ),\n",
       " DataPoint(data_type='cluster_shear', tracers=('NC_mock_redshift_richness', 'bin_z_1', 'bin_rich_3', 'bin_radius_5'), value=8890086692100.375, ),\n",
       " DataPoint(data_type='cluster_shear', tracers=('NC_mock_redshift_richness', 'bin_z_2', 'bin_rich_0', 'bin_radius_0'), value=35936619495185.35, ),\n",
       " DataPoint(data_type='cluster_shear', tracers=('NC_mock_redshift_richness', 'bin_z_2', 'bin_rich_0', 'bin_radius_1'), value=22007299985793.242, ),\n",
       " DataPoint(data_type='cluster_shear', tracers=('NC_mock_redshift_richness', 'bin_z_2', 'bin_rich_0', 'bin_radius_2'), value=12302736751883.547, ),\n",
       " DataPoint(data_type='cluster_shear', tracers=('NC_mock_redshift_richness', 'bin_z_2', 'bin_rich_0', 'bin_radius_3'), value=6374754560855.072, ),\n",
       " DataPoint(data_type='cluster_shear', tracers=('NC_mock_redshift_richness', 'bin_z_2', 'bin_rich_0', 'bin_radius_4'), value=3109279660830.9004, ),\n",
       " DataPoint(data_type='cluster_shear', tracers=('NC_mock_redshift_richness', 'bin_z_2', 'bin_rich_0', 'bin_radius_5'), value=1446785207664.5056, ),\n",
       " DataPoint(data_type='cluster_shear', tracers=('NC_mock_redshift_richness', 'bin_z_2', 'bin_rich_1', 'bin_radius_0'), value=49526225007023.31, ),\n",
       " DataPoint(data_type='cluster_shear', tracers=('NC_mock_redshift_richness', 'bin_z_2', 'bin_rich_1', 'bin_radius_1'), value=31404690109291.137, ),\n",
       " DataPoint(data_type='cluster_shear', tracers=('NC_mock_redshift_richness', 'bin_z_2', 'bin_rich_1', 'bin_radius_2'), value=18095981017894.332, ),\n",
       " DataPoint(data_type='cluster_shear', tracers=('NC_mock_redshift_richness', 'bin_z_2', 'bin_rich_1', 'bin_radius_3'), value=9611537780061.848, ),\n",
       " DataPoint(data_type='cluster_shear', tracers=('NC_mock_redshift_richness', 'bin_z_2', 'bin_rich_1', 'bin_radius_4'), value=4780362356677.559, ),\n",
       " DataPoint(data_type='cluster_shear', tracers=('NC_mock_redshift_richness', 'bin_z_2', 'bin_rich_1', 'bin_radius_5'), value=2258254452608.515, ),\n",
       " DataPoint(data_type='cluster_shear', tracers=('NC_mock_redshift_richness', 'bin_z_2', 'bin_rich_2', 'bin_radius_0'), value=76891264521839.1, ),\n",
       " DataPoint(data_type='cluster_shear', tracers=('NC_mock_redshift_richness', 'bin_z_2', 'bin_rich_2', 'bin_radius_1'), value=51353282953345.56, ),\n",
       " DataPoint(data_type='cluster_shear', tracers=('NC_mock_redshift_richness', 'bin_z_2', 'bin_rich_2', 'bin_radius_2'), value=31005956516005.594, ),\n",
       " DataPoint(data_type='cluster_shear', tracers=('NC_mock_redshift_richness', 'bin_z_2', 'bin_rich_2', 'bin_radius_3'), value=17124881536535.23, ),\n",
       " DataPoint(data_type='cluster_shear', tracers=('NC_mock_redshift_richness', 'bin_z_2', 'bin_rich_2', 'bin_radius_4'), value=8787092289238.023, ),\n",
       " DataPoint(data_type='cluster_shear', tracers=('NC_mock_redshift_richness', 'bin_z_2', 'bin_rich_2', 'bin_radius_5'), value=4253201308524.7363, ),\n",
       " DataPoint(data_type='cluster_shear', tracers=('NC_mock_redshift_richness', 'bin_z_2', 'bin_rich_3', 'bin_radius_0'), value=111603221923179.58, ),\n",
       " DataPoint(data_type='cluster_shear', tracers=('NC_mock_redshift_richness', 'bin_z_2', 'bin_rich_3', 'bin_radius_1'), value=78083691672788.4, ),\n",
       " DataPoint(data_type='cluster_shear', tracers=('NC_mock_redshift_richness', 'bin_z_2', 'bin_rich_3', 'bin_radius_2'), value=49254937057942.56, ),\n",
       " DataPoint(data_type='cluster_shear', tracers=('NC_mock_redshift_richness', 'bin_z_2', 'bin_rich_3', 'bin_radius_3'), value=28251504646723.96, ),\n",
       " DataPoint(data_type='cluster_shear', tracers=('NC_mock_redshift_richness', 'bin_z_2', 'bin_rich_3', 'bin_radius_4'), value=14948905345885.953, ),\n",
       " DataPoint(data_type='cluster_shear', tracers=('NC_mock_redshift_richness', 'bin_z_2', 'bin_rich_3', 'bin_radius_5'), value=7412718656162.487, )]"
      ]
     },
     "execution_count": 14,
     "metadata": {},
     "output_type": "execute_result"
    }
   ],
   "source": [
    "s_count2.data"
   ]
  },
  {
   "cell_type": "markdown",
   "id": "b641b9c2-b261-4b80-a9ad-a4b22f5255ac",
   "metadata": {},
   "source": [
    "### Santity check - plotting the shear profile for two richness bins, to see that the high richness bin as higher shear"
   ]
  },
  {
   "cell_type": "code",
   "execution_count": 15,
   "id": "ff31f15c-6808-4870-bc92-665d6f1299a2",
   "metadata": {},
   "outputs": [],
   "source": [
    "DS0 = [s_count2.get_data_points(data_type='cluster_shear', tracers=('NC_mock_redshift_richness', 'bin_z_1', 'bin_rich_0', f'bin_radius_{i}'))[0].value for i in np.arange(len(radius_edges)-1)]\n",
    "DS2 = [s_count2.get_data_points(data_type='cluster_shear', tracers=('NC_mock_redshift_richness', 'bin_z_1', 'bin_rich_2', f'bin_radius_{i}'))[0].value for i in np.arange(len(radius_edges)-1)]\n",
    "r_arr = [s_count2.get_tracer(f'bin_radius_{i}').r_center for i in np.arange(len(radius_edges)-1)]"
   ]
  },
  {
   "cell_type": "code",
   "execution_count": 16,
   "id": "209ca0b4-a743-40da-a956-1688291682cc",
   "metadata": {},
   "outputs": [
    {
     "data": {
      "text/plain": [
       "<matplotlib.legend.Legend at 0x7f5a599b44d0>"
      ]
     },
     "execution_count": 16,
     "metadata": {},
     "output_type": "execute_result"
    },
    {
     "data": {
      "image/png": "[encoded data removed]",
      "text/plain": [
       "<Figure size 640x480 with 1 Axes>"
      ]
     },
     "metadata": {},
     "output_type": "display_data"
    }
   ],
   "source": [
    "plt.loglog(r_arr, DS0, label='bin_rich_0', marker='x')\n",
    "plt.loglog(r_arr, DS2, label='bin_rich_2', marker='x')\n",
    "plt.xlabel('R [Mpc]')\n",
    "plt.ylabel('(DeltaSigma) [Msun/Mpc2]')\n",
    "plt.legend()"
   ]
  },
  {
   "cell_type": "code",
   "execution_count": null,
   "id": "b0a97b2d-418e-475c-8f0f-4e099f04184f",
   "metadata": {},
   "outputs": [],
   "source": []
  },
  {
   "cell_type": "code",
   "execution_count": null,
   "id": "52b6e2ed-ff77-4159-aa62-55f5f7499449",
   "metadata": {},
   "outputs": [],
   "source": []
  },
  {
   "cell_type": "code",
   "execution_count": null,
   "id": "15beb322-75b0-46b0-9f3b-9a01ac402679",
   "metadata": {},
   "outputs": [],
   "source": []
  }
 ],
 "metadata": {
  "kernelspec": {
   "display_name": "firecrown",
   "language": "python",
   "name": "firecrown3"
  },
  "language_info": {
   "codemirror_mode": {
    "name": "ipython",
    "version": 3
   },
   "file_extension": ".py",
   "mimetype": "text/x-python",
   "name": "python",
   "nbconvert_exporter": "python",
   "pygments_lexer": "ipython3",
   "version": "3.11.0"
  }
 },
 "nbformat": 4,
 "nbformat_minor": 5
}
