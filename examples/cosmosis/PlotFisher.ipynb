{
 "cells": [
  {
   "cell_type": "markdown",
   "metadata": {},
   "source": [
    "## Plot Fisher constraints\n",
    "\n",
    "This notebook plots the output from the Fisher example \"cosmodc2_firecrown_real_fisher.yaml\""
   ]
  },
  {
   "cell_type": "code",
   "execution_count": 4,
   "metadata": {},
   "outputs": [
    {
     "name": "stdout",
     "output_type": "stream",
     "text": [
      "Populating the interactive namespace from numpy and matplotlib\n"
     ]
    }
   ],
   "source": [
    "import numpy as np\n",
    "import pylab as mplot\n",
    "from numpy.linalg import inv\n",
    "%pylab inline\n",
    "import matplotlib\n",
    "from matplotlib.patches import Ellipse\n",
    "mplot.rc('font', family='serif')\n",
    "import os\n",
    "\n",
    "def eigsorted(cov):\n",
    "    vals, vecs = np.linalg.eigh(cov)\n",
    "    order = vals.argsort()[::-1]\n",
    "    return vals[order], vecs[:,order]\n",
    "\n",
    "def get_ellipse(fisher):\n",
    "    \n",
    "    inv_fisher = np.zeros((2,2))\n",
    "    inv_fisher[0,0] = inv(fisher)[0,0]\n",
    "    inv_fisher[0,1] = inv(fisher)[0,1]\n",
    "    inv_fisher[1,0] = inv(fisher)[1,0]\n",
    "    inv_fisher[1,1] = inv(fisher)[1,1]\n",
    "    print(inv_fisher)\n",
    "    fisher_red = inv(inv_fisher)\n",
    "    smallC = inv(fisher_red)\n",
    "\n",
    "    vals, vecs = eigsorted(smallC)\n",
    "    theta = np.degrees(np.arctan2(*vecs[:,0][::-1]))\n",
    "    print(vals, theta)\n",
    "    \n",
    "    return vals, theta\n",
    "\n",
    "def plot_ellipse(vals, theta, color, label, nsigma, lw, ls):\n",
    "    \n",
    "    for i in range(nsigma):\n",
    "        width, height = 2 * (i+1) * np.sqrt(vals)\n",
    "        if i==(nsigma-1):\n",
    "            ellip = Ellipse(xy=[0.22,0.8], width=width, height=height, angle=theta, facecolor='none', label=label, edgecolor=color, lw=lw, ls=ls)\n",
    "        else:\n",
    "            ellip = Ellipse(xy=[0.22,0.8], width=width, height=height, angle=theta, facecolor='none', edgecolor=color, lw=lw, ls=ls)\n",
    "            \n",
    "        mplot.gca().add_patch(ellip)\n",
    "    \n",
    "    return"
   ]
  },
  {
   "cell_type": "code",
   "execution_count": 5,
   "metadata": {},
   "outputs": [],
   "source": [
    "cosmodc2_fisher_firecrown = np.loadtxt('fisher.txt')"
   ]
  },
  {
   "cell_type": "code",
   "execution_count": 6,
   "metadata": {},
   "outputs": [
    {
     "name": "stdout",
     "output_type": "stream",
     "text": [
      "[[ 0.00105488 -0.00164151]\n",
      " [-0.00164151  0.00260881]]\n",
      "[3.64795288e-03 1.57405015e-05] 122.33537566561438\n"
     ]
    },
    {
     "data": {
      "text/plain": [
       "Text(0, 0.5, 'sigma8')"
      ]
     },
     "execution_count": 6,
     "metadata": {},
     "output_type": "execute_result"
    },
    {
     "data": {
      "image/png": "[encoded data removed]",
      "text/plain": [
       "<Figure size 432x288 with 1 Axes>"
      ]
     },
     "metadata": {
      "needs_background": "light"
     },
     "output_type": "display_data"
    }
   ],
   "source": [
    "vals, theta = get_ellipse(cosmodc2_fisher_firecrown)\n",
    "plot_ellipse(vals, theta, 'k', 'Firecrown+Cosmosis-standalone', 1, 1, '-')\n",
    "\n",
    "mplot.legend()\n",
    "mplot.xlim(0.15,0.3)\n",
    "mplot.ylim(0.7,0.9)\n",
    "mplot.xlabel('Omega_c')\n",
    "mplot.ylabel('sigma8')"
   ]
  },
  {
   "cell_type": "code",
   "execution_count": null,
   "metadata": {},
   "outputs": [],
   "source": []
  }
 ],
 "metadata": {
  "kernelspec": {
   "display_name": "desc-python",
   "language": "python",
   "name": "desc-python"
  },
  "language_info": {
   "codemirror_mode": {
    "name": "ipython",
    "version": 3
   },
   "file_extension": ".py",
   "mimetype": "text/x-python",
   "name": "python",
   "nbconvert_exporter": "python",
   "pygments_lexer": "ipython3",
   "version": "3.7.6"
  }
 },
 "nbformat": 4,
 "nbformat_minor": 4
}
