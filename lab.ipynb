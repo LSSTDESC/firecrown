{
 "cells": [
  {
   "cell_type": "code",
   "execution_count": null,
   "metadata": {},
   "outputs": [],
   "source": [
    "import sys\n",
    "import numpy as np\n",
    "import sacc\n",
    "import yaml\n",
    "import pandas as pd\n",
    "import firecrown\n",
    "\n",
    "import firecrown.likelihood.weak_lensing as wl\n",
    "import firecrown.likelihood.number_counts as nc\n",
    "from firecrown.likelihood.two_point import TwoPoint\n",
    "from firecrown.likelihood.gaussian import ConstGaussian"
   ]
  },
  {
   "cell_type": "code",
   "execution_count": null,
   "metadata": {},
   "outputs": [],
   "source": [
    "from firecrown.metadata.two_point import extract_all_data_types_xi_thetas\n",
    "from firecrown.metadata.two_point import extract_all_data_xi_thetas\n",
    "\n",
    "s = sacc.Sacc.load_fits(\"examples/des_y1_3x2pt/des_y1_3x2pt_sacc_data.fits\")\n",
    "two_point_xi_thetas = extract_all_data_xi_thetas(s)"
   ]
  },
  {
   "cell_type": "code",
   "execution_count": null,
   "metadata": {},
   "outputs": [],
   "source": [
    "import pacc\n",
    "cle = pacc.ClsEnsemble(s, label=\"DES Y1 real space\")\n",
    "pacc.plot_cls([cle], cle.pairs)"
   ]
  },
  {
   "cell_type": "code",
   "execution_count": null,
   "metadata": {},
   "outputs": [],
   "source": [
    "from firecrown.likelihood.two_point import TwoPoint\n",
    "from firecrown.likelihood.weak_lensing import WeakLensingFactory\n",
    "from firecrown.likelihood.number_counts import NumberCountsFactory\n",
    "from firecrown.utils import base_model_from_yaml\n",
    "\n",
    "# WeakLensing systematics -- global\n",
    "ia_systematic = wl.LinearAlignmentSystematicFactory()\n",
    "# WeakLensing systematics -- per-bin\n",
    "wl_photoz = wl.PhotoZShiftFactory()\n",
    "wl_mult_bias = wl.MultiplicativeShearBiasFactory()\n",
    "\n",
    "# NumberCounts systematics -- global\n",
    "# As for Firecrown 1.8.0a0, we do not have any global systematics for number counts\n",
    "# NumberCounts systematics -- per-bin\n",
    "nc_photoz = nc.PhotoZShiftFactory()\n",
    "\n",
    "wlf = wl.WeakLensingFactory(\n",
    "    per_bin_systematics=[wl_mult_bias, wl_photoz],\n",
    "    global_systematics=[ia_systematic],\n",
    ")\n",
    "ncf = nc.NumberCountsFactory(\n",
    "    per_bin_systematics=[nc_photoz],\n",
    "    global_systematics=[],\n",
    ")"
   ]
  },
  {
   "cell_type": "code",
   "execution_count": null,
   "metadata": {},
   "outputs": [],
   "source": [
    "two_point_list = TwoPoint.from_metadata_real(\n",
    "    two_point_xi_thetas,\n",
    "    wl_factory=wlf, \n",
    "    nc_factory=ncf,\n",
    "    check_consistence=True)"
   ]
  },
  {
   "cell_type": "code",
   "execution_count": null,
   "metadata": {},
   "outputs": [],
   "source": [
    "import pyccl\n",
    "from firecrown.modeling_tools import ModelingTools\n",
    "from firecrown.parameters import ParamsMap\n",
    "\n",
    "req_params = two_point_list.required_parameters()\n",
    "default_values = req_params.get_default_values()\n",
    "params = ParamsMap(default_values)\n",
    "\n",
    "ccl_cosmo = pyccl.CosmologyVanillaLCDM()\n",
    "ccl_cosmo.compute_nonlin_power()\n",
    "tools = ModelingTools()\n",
    "tools.update(params)\n",
    "tools.prepare(ccl_cosmo)\n",
    "\n",
    "two_point_list.update(params)\n",
    "\n",
    "theory= []\n",
    "for tp in two_point_list:\n",
    "    t = tp.compute_theory_vector(tools)\n",
    "    theory.append(np.array(t))\n",
    "theory = np.concatenate(theory)"
   ]
  },
  {
   "cell_type": "code",
   "execution_count": null,
   "metadata": {},
   "outputs": [],
   "source": [
    "t_cle = pacc.ClTheoryEnsemble(cle, theory, label=\"DES Y1 real space\")\n",
    "pacc.plot_cls([cle, t_cle], cle.pairs)"
   ]
  },
  {
   "cell_type": "code",
   "execution_count": null,
   "metadata": {},
   "outputs": [],
   "source": []
  }
 ],
 "metadata": {
  "kernelspec": {
   "display_name": "firecrown_developer",
   "language": "python",
   "name": "python3"
  },
  "language_info": {
   "codemirror_mode": {
    "name": "ipython",
    "version": 3
   },
   "file_extension": ".py",
   "mimetype": "text/x-python",
   "name": "python",
   "nbconvert_exporter": "python",
   "pygments_lexer": "ipython3",
   "version": "3.12.4"
  }
 },
 "nbformat": 4,
 "nbformat_minor": 2
}
