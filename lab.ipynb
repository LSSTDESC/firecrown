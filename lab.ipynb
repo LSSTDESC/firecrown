{
 "cells": [
  {
   "cell_type": "code",
   "execution_count": 1,
   "metadata": {},
   "outputs": [
    {
     "ename": "NameError",
     "evalue": "name 'Galaxies' is not defined",
     "output_type": "error",
     "traceback": [
      "\u001b[0;31m---------------------------------------------------------------------------\u001b[0m",
      "\u001b[0;31mNameError\u001b[0m                                 Traceback (most recent call last)",
      "Cell \u001b[0;32mIn[1], line 9\u001b[0m\n\u001b[1;32m      6\u001b[0m \u001b[38;5;28;01mimport\u001b[39;00m \u001b[38;5;21;01mpandas\u001b[39;00m \u001b[38;5;28;01mas\u001b[39;00m \u001b[38;5;21;01mpd\u001b[39;00m\n\u001b[1;32m      7\u001b[0m \u001b[38;5;28;01mimport\u001b[39;00m \u001b[38;5;21;01mfirecrown\u001b[39;00m\n\u001b[0;32m----> 9\u001b[0m \u001b[38;5;28;01mimport\u001b[39;00m \u001b[38;5;21;01mfirecrown\u001b[39;00m\u001b[38;5;21;01m.\u001b[39;00m\u001b[38;5;21;01mlikelihood\u001b[39;00m\u001b[38;5;21;01m.\u001b[39;00m\u001b[38;5;21;01mweak_lensing\u001b[39;00m \u001b[38;5;28;01mas\u001b[39;00m \u001b[38;5;21;01mwl\u001b[39;00m\n\u001b[1;32m     10\u001b[0m \u001b[38;5;28;01mimport\u001b[39;00m \u001b[38;5;21;01mfirecrown\u001b[39;00m\u001b[38;5;21;01m.\u001b[39;00m\u001b[38;5;21;01mlikelihood\u001b[39;00m\u001b[38;5;21;01m.\u001b[39;00m\u001b[38;5;21;01mnumber_counts\u001b[39;00m \u001b[38;5;28;01mas\u001b[39;00m \u001b[38;5;21;01mnc\u001b[39;00m\n\u001b[1;32m     11\u001b[0m \u001b[38;5;28;01mfrom\u001b[39;00m \u001b[38;5;21;01mfirecrown\u001b[39;00m\u001b[38;5;21;01m.\u001b[39;00m\u001b[38;5;21;01mlikelihood\u001b[39;00m\u001b[38;5;21;01m.\u001b[39;00m\u001b[38;5;21;01mtwo_point\u001b[39;00m \u001b[38;5;28;01mimport\u001b[39;00m TwoPoint\n",
      "File \u001b[0;32m~/Documents/UCL/firecrown/firecrown/likelihood/weak_lensing.py:28\u001b[0m\n\u001b[1;32m     19\u001b[0m \u001b[38;5;28;01mfrom\u001b[39;00m \u001b[38;5;21;01mfirecrown\u001b[39;00m \u001b[38;5;28;01mimport\u001b[39;00m parameters\n\u001b[1;32m     20\u001b[0m \u001b[38;5;28;01mfrom\u001b[39;00m \u001b[38;5;21;01mfirecrown\u001b[39;00m\u001b[38;5;21;01m.\u001b[39;00m\u001b[38;5;21;01mlikelihood\u001b[39;00m\u001b[38;5;21;01m.\u001b[39;00m\u001b[38;5;21;01msource\u001b[39;00m \u001b[38;5;28;01mimport\u001b[39;00m (\n\u001b[1;32m     21\u001b[0m     SourceGalaxy,\n\u001b[1;32m     22\u001b[0m     SourceGalaxyArgs,\n\u001b[0;32m   (...)\u001b[0m\n\u001b[1;32m     26\u001b[0m     Tracer,\n\u001b[1;32m     27\u001b[0m )\n\u001b[0;32m---> 28\u001b[0m \u001b[38;5;28;01mfrom\u001b[39;00m \u001b[38;5;21;01mfirecrown\u001b[39;00m\u001b[38;5;21;01m.\u001b[39;00m\u001b[38;5;21;01mmetadata\u001b[39;00m\u001b[38;5;21;01m.\u001b[39;00m\u001b[38;5;21;01mtwo_point\u001b[39;00m \u001b[38;5;28;01mimport\u001b[39;00m InferredGalaxyZDist\n\u001b[1;32m     29\u001b[0m \u001b[38;5;28;01mfrom\u001b[39;00m \u001b[38;5;21;01mfirecrown\u001b[39;00m\u001b[38;5;21;01m.\u001b[39;00m\u001b[38;5;21;01mmodeling_tools\u001b[39;00m \u001b[38;5;28;01mimport\u001b[39;00m ModelingTools\n\u001b[1;32m     30\u001b[0m \u001b[38;5;28;01mfrom\u001b[39;00m \u001b[38;5;21;01mfirecrown\u001b[39;00m\u001b[38;5;21;01m.\u001b[39;00m\u001b[38;5;21;01mparameters\u001b[39;00m \u001b[38;5;28;01mimport\u001b[39;00m ParamsMap\n",
      "File \u001b[0;32m~/Documents/UCL/firecrown/firecrown/metadata/two_point.py:59\u001b[0m\n\u001b[1;32m     47\u001b[0m \u001b[38;5;66;03m# TwoPointCellsIndex is a type used to create intermediate objects when reading\u001b[39;00m\n\u001b[1;32m     48\u001b[0m \u001b[38;5;66;03m# SACC objects. They should not be seen directly by users of Firecrown.\u001b[39;00m\n\u001b[1;32m     49\u001b[0m TwoPointCellsIndex \u001b[38;5;241m=\u001b[39m TypedDict(\n\u001b[1;32m     50\u001b[0m     \u001b[38;5;124m\"\u001b[39m\u001b[38;5;124mTwoPointCellsIndex\u001b[39m\u001b[38;5;124m\"\u001b[39m,\n\u001b[1;32m     51\u001b[0m     {\n\u001b[0;32m   (...)\u001b[0m\n\u001b[1;32m     55\u001b[0m     },\n\u001b[1;32m     56\u001b[0m )\n\u001b[1;32m     58\u001b[0m GALAXY_SOURCE_TYPES \u001b[38;5;241m=\u001b[39m (\n\u001b[0;32m---> 59\u001b[0m     \u001b[43mGalaxies\u001b[49m\u001b[38;5;241m.\u001b[39mSHEAR_E,\n\u001b[1;32m     60\u001b[0m     Galaxies\u001b[38;5;241m.\u001b[39mSHEAR_T,\n\u001b[1;32m     61\u001b[0m     Galaxies\u001b[38;5;241m.\u001b[39mSHEAR_MINUS,\n\u001b[1;32m     62\u001b[0m     Galaxies\u001b[38;5;241m.\u001b[39mSHEAR_PLUS,\n\u001b[1;32m     63\u001b[0m )\n\u001b[1;32m     64\u001b[0m GALAXY_LENS_TYPES \u001b[38;5;241m=\u001b[39m (Galaxies\u001b[38;5;241m.\u001b[39mCOUNTS,)\n\u001b[1;32m     66\u001b[0m \u001b[38;5;28;01mdef\u001b[39;00m \u001b[38;5;21m_extract_all_candidate_data_types\u001b[39m(\n\u001b[1;32m     67\u001b[0m     data_points: \u001b[38;5;28mlist\u001b[39m[sacc\u001b[38;5;241m.\u001b[39mDataPoint],\n\u001b[1;32m     68\u001b[0m     include_maybe_types: \u001b[38;5;28mbool\u001b[39m \u001b[38;5;241m=\u001b[39m \u001b[38;5;28;01mFalse\u001b[39;00m,\n\u001b[1;32m     69\u001b[0m ) \u001b[38;5;241m-\u001b[39m\u001b[38;5;241m>\u001b[39m \u001b[38;5;28mdict\u001b[39m[\u001b[38;5;28mstr\u001b[39m, \u001b[38;5;28mset\u001b[39m[Measurement]]:\n",
      "\u001b[0;31mNameError\u001b[0m: name 'Galaxies' is not defined"
     ]
    }
   ],
   "source": [
    "import sys\n",
    "import numpy as np\n",
    "import sacc\n",
    "import yaml\n",
    "import pacc\n",
    "import pandas as pd\n",
    "import firecrown\n",
    "\n",
    "import firecrown.likelihood.weak_lensing as wl\n",
    "import firecrown.likelihood.number_counts as nc\n",
    "from firecrown.likelihood.two_point import TwoPoint\n",
    "from firecrown.likelihood.gaussian import ConstGaussian"
   ]
  },
  {
   "cell_type": "code",
   "execution_count": 2,
   "metadata": {},
   "outputs": [
    {
     "ename": "NameError",
     "evalue": "name 'Galaxies' is not defined",
     "output_type": "error",
     "traceback": [
      "\u001b[0;31m---------------------------------------------------------------------------\u001b[0m",
      "\u001b[0;31mNameError\u001b[0m                                 Traceback (most recent call last)",
      "Cell \u001b[0;32mIn[2], line 1\u001b[0m\n\u001b[0;32m----> 1\u001b[0m \u001b[38;5;28;01mfrom\u001b[39;00m \u001b[38;5;21;01mfirecrown\u001b[39;00m\u001b[38;5;21;01m.\u001b[39;00m\u001b[38;5;21;01mmetadata\u001b[39;00m\u001b[38;5;21;01m.\u001b[39;00m\u001b[38;5;21;01mtwo_point\u001b[39;00m \u001b[38;5;28;01mimport\u001b[39;00m extract_all_data_types_xi_thetas\n\u001b[1;32m      2\u001b[0m s \u001b[38;5;241m=\u001b[39m sacc\u001b[38;5;241m.\u001b[39mSacc\u001b[38;5;241m.\u001b[39mload_fits(\u001b[38;5;124m\"\u001b[39m\u001b[38;5;124mexamples/des_y1_3x2pt/des_y1_3x2pt_sacc_data.fits\u001b[39m\u001b[38;5;124m\"\u001b[39m)\n",
      "File \u001b[0;32m~/Documents/UCL/firecrown/firecrown/metadata/two_point.py:59\u001b[0m\n\u001b[1;32m     47\u001b[0m \u001b[38;5;66;03m# TwoPointCellsIndex is a type used to create intermediate objects when reading\u001b[39;00m\n\u001b[1;32m     48\u001b[0m \u001b[38;5;66;03m# SACC objects. They should not be seen directly by users of Firecrown.\u001b[39;00m\n\u001b[1;32m     49\u001b[0m TwoPointCellsIndex \u001b[38;5;241m=\u001b[39m TypedDict(\n\u001b[1;32m     50\u001b[0m     \u001b[38;5;124m\"\u001b[39m\u001b[38;5;124mTwoPointCellsIndex\u001b[39m\u001b[38;5;124m\"\u001b[39m,\n\u001b[1;32m     51\u001b[0m     {\n\u001b[0;32m   (...)\u001b[0m\n\u001b[1;32m     55\u001b[0m     },\n\u001b[1;32m     56\u001b[0m )\n\u001b[1;32m     58\u001b[0m GALAXY_SOURCE_TYPES \u001b[38;5;241m=\u001b[39m (\n\u001b[0;32m---> 59\u001b[0m     \u001b[43mGalaxies\u001b[49m\u001b[38;5;241m.\u001b[39mSHEAR_E,\n\u001b[1;32m     60\u001b[0m     Galaxies\u001b[38;5;241m.\u001b[39mSHEAR_T,\n\u001b[1;32m     61\u001b[0m     Galaxies\u001b[38;5;241m.\u001b[39mSHEAR_MINUS,\n\u001b[1;32m     62\u001b[0m     Galaxies\u001b[38;5;241m.\u001b[39mSHEAR_PLUS,\n\u001b[1;32m     63\u001b[0m )\n\u001b[1;32m     64\u001b[0m GALAXY_LENS_TYPES \u001b[38;5;241m=\u001b[39m (Galaxies\u001b[38;5;241m.\u001b[39mCOUNTS,)\n\u001b[1;32m     66\u001b[0m \u001b[38;5;28;01mdef\u001b[39;00m \u001b[38;5;21m_extract_all_candidate_data_types\u001b[39m(\n\u001b[1;32m     67\u001b[0m     data_points: \u001b[38;5;28mlist\u001b[39m[sacc\u001b[38;5;241m.\u001b[39mDataPoint],\n\u001b[1;32m     68\u001b[0m     include_maybe_types: \u001b[38;5;28mbool\u001b[39m \u001b[38;5;241m=\u001b[39m \u001b[38;5;28;01mFalse\u001b[39;00m,\n\u001b[1;32m     69\u001b[0m ) \u001b[38;5;241m-\u001b[39m\u001b[38;5;241m>\u001b[39m \u001b[38;5;28mdict\u001b[39m[\u001b[38;5;28mstr\u001b[39m, \u001b[38;5;28mset\u001b[39m[Measurement]]:\n",
      "\u001b[0;31mNameError\u001b[0m: name 'Galaxies' is not defined"
     ]
    }
   ],
   "source": [
    "from firecrown.metadata.two_point import extract_all_data_types_xi_thetas\n",
    "s = sacc.Sacc.load_fits(\"examples/des_y1_3x2pt/des_y1_3x2pt_sacc_data.fits\")\n"
   ]
  },
  {
   "cell_type": "code",
   "execution_count": 3,
   "metadata": {},
   "outputs": [
    {
     "ename": "NameError",
     "evalue": "name 's' is not defined",
     "output_type": "error",
     "traceback": [
      "\u001b[0;31m---------------------------------------------------------------------------\u001b[0m",
      "\u001b[0;31mNameError\u001b[0m                                 Traceback (most recent call last)",
      "Cell \u001b[0;32mIn[3], line 1\u001b[0m\n\u001b[0;32m----> 1\u001b[0m cle \u001b[38;5;241m=\u001b[39m pacc\u001b[38;5;241m.\u001b[39mClsEnsemble(\u001b[43ms\u001b[49m, label\u001b[38;5;241m=\u001b[39m\u001b[38;5;124m\"\u001b[39m\u001b[38;5;124mDES Y1 real space\u001b[39m\u001b[38;5;124m\"\u001b[39m)\n",
      "\u001b[0;31mNameError\u001b[0m: name 's' is not defined"
     ]
    }
   ],
   "source": [
    "cle = pacc.ClsEnsemble(s, label=\"DES Y1 real space\")"
   ]
  },
  {
   "cell_type": "code",
   "execution_count": 4,
   "metadata": {},
   "outputs": [
    {
     "ename": "NameError",
     "evalue": "name 'cle' is not defined",
     "output_type": "error",
     "traceback": [
      "\u001b[0;31m---------------------------------------------------------------------------\u001b[0m",
      "\u001b[0;31mNameError\u001b[0m                                 Traceback (most recent call last)",
      "Cell \u001b[0;32mIn[4], line 1\u001b[0m\n\u001b[0;32m----> 1\u001b[0m pacc\u001b[38;5;241m.\u001b[39mplot_cls([\u001b[43mcle\u001b[49m], cle\u001b[38;5;241m.\u001b[39mpairs)\n",
      "\u001b[0;31mNameError\u001b[0m: name 'cle' is not defined"
     ]
    }
   ],
   "source": [
    "pacc.plot_cls([cle], cle.pairs)"
   ]
  },
  {
   "cell_type": "code",
   "execution_count": 5,
   "metadata": {},
   "outputs": [
    {
     "ename": "NameError",
     "evalue": "name 'cle' is not defined",
     "output_type": "error",
     "traceback": [
      "\u001b[0;31m---------------------------------------------------------------------------\u001b[0m",
      "\u001b[0;31mNameError\u001b[0m                                 Traceback (most recent call last)",
      "Cell \u001b[0;32mIn[5], line 1\u001b[0m\n\u001b[0;32m----> 1\u001b[0m \u001b[43mcle\u001b[49m\u001b[38;5;241m.\u001b[39mdata\n",
      "\u001b[0;31mNameError\u001b[0m: name 'cle' is not defined"
     ]
    }
   ],
   "source": [
    "cle.data"
   ]
  },
  {
   "cell_type": "code",
   "execution_count": 6,
   "metadata": {},
   "outputs": [
    {
     "ename": "NameError",
     "evalue": "name 'extract_all_data_types_xi_thetas' is not defined",
     "output_type": "error",
     "traceback": [
      "\u001b[0;31m---------------------------------------------------------------------------\u001b[0m",
      "\u001b[0;31mNameError\u001b[0m                                 Traceback (most recent call last)",
      "Cell \u001b[0;32mIn[6], line 1\u001b[0m\n\u001b[0;32m----> 1\u001b[0m all_meta \u001b[38;5;241m=\u001b[39m \u001b[43mextract_all_data_types_xi_thetas\u001b[49m(s)\n",
      "\u001b[0;31mNameError\u001b[0m: name 'extract_all_data_types_xi_thetas' is not defined"
     ]
    }
   ],
   "source": [
    "all_meta = extract_all_data_types_xi_thetas(s)"
   ]
  },
  {
   "cell_type": "code",
   "execution_count": 7,
   "metadata": {},
   "outputs": [
    {
     "ename": "NameError",
     "evalue": "name 'Galaxies' is not defined",
     "output_type": "error",
     "traceback": [
      "\u001b[0;31m---------------------------------------------------------------------------\u001b[0m",
      "\u001b[0;31mNameError\u001b[0m                                 Traceback (most recent call last)",
      "Cell \u001b[0;32mIn[7], line 1\u001b[0m\n\u001b[0;32m----> 1\u001b[0m \u001b[38;5;28;01mfrom\u001b[39;00m \u001b[38;5;21;01mfirecrown\u001b[39;00m\u001b[38;5;21;01m.\u001b[39;00m\u001b[38;5;21;01mlikelihood\u001b[39;00m\u001b[38;5;21;01m.\u001b[39;00m\u001b[38;5;21;01mtwo_point\u001b[39;00m \u001b[38;5;28;01mimport\u001b[39;00m TwoPoint\n\u001b[1;32m      2\u001b[0m \u001b[38;5;28;01mfrom\u001b[39;00m \u001b[38;5;21;01mfirecrown\u001b[39;00m\u001b[38;5;21;01m.\u001b[39;00m\u001b[38;5;21;01mlikelihood\u001b[39;00m\u001b[38;5;21;01m.\u001b[39;00m\u001b[38;5;21;01mweak_lensing\u001b[39;00m \u001b[38;5;28;01mimport\u001b[39;00m WeakLensingFactory\n\u001b[1;32m      3\u001b[0m \u001b[38;5;28;01mfrom\u001b[39;00m \u001b[38;5;21;01mfirecrown\u001b[39;00m\u001b[38;5;21;01m.\u001b[39;00m\u001b[38;5;21;01mlikelihood\u001b[39;00m\u001b[38;5;21;01m.\u001b[39;00m\u001b[38;5;21;01mnumber_counts\u001b[39;00m \u001b[38;5;28;01mimport\u001b[39;00m NumberCountsFactory\n",
      "File \u001b[0;32m~/Documents/UCL/firecrown/firecrown/likelihood/two_point.py:21\u001b[0m\n\u001b[1;32m     19\u001b[0m \u001b[38;5;28;01mfrom\u001b[39;00m \u001b[38;5;21;01mfirecrown\u001b[39;00m\u001b[38;5;21;01m.\u001b[39;00m\u001b[38;5;21;01mgenerators\u001b[39;00m\u001b[38;5;21;01m.\u001b[39;00m\u001b[38;5;21;01mtwo_point\u001b[39;00m \u001b[38;5;28;01mimport\u001b[39;00m LogLinearElls\n\u001b[1;32m     20\u001b[0m \u001b[38;5;28;01mfrom\u001b[39;00m \u001b[38;5;21;01mfirecrown\u001b[39;00m\u001b[38;5;21;01m.\u001b[39;00m\u001b[38;5;21;01mlikelihood\u001b[39;00m\u001b[38;5;21;01m.\u001b[39;00m\u001b[38;5;21;01msource\u001b[39;00m \u001b[38;5;28;01mimport\u001b[39;00m Source, Tracer\n\u001b[0;32m---> 21\u001b[0m \u001b[38;5;28;01mfrom\u001b[39;00m \u001b[38;5;21;01mfirecrown\u001b[39;00m\u001b[38;5;21;01m.\u001b[39;00m\u001b[38;5;21;01mlikelihood\u001b[39;00m\u001b[38;5;21;01m.\u001b[39;00m\u001b[38;5;21;01mweak_lensing\u001b[39;00m \u001b[38;5;28;01mimport\u001b[39;00m (\n\u001b[1;32m     22\u001b[0m     WeakLensingFactory,\n\u001b[1;32m     23\u001b[0m     WeakLensing,\n\u001b[1;32m     24\u001b[0m )\n\u001b[1;32m     25\u001b[0m \u001b[38;5;28;01mfrom\u001b[39;00m \u001b[38;5;21;01mfirecrown\u001b[39;00m\u001b[38;5;21;01m.\u001b[39;00m\u001b[38;5;21;01mlikelihood\u001b[39;00m\u001b[38;5;21;01m.\u001b[39;00m\u001b[38;5;21;01mnumber_counts\u001b[39;00m \u001b[38;5;28;01mimport\u001b[39;00m (\n\u001b[1;32m     26\u001b[0m     NumberCountsFactory,\n\u001b[1;32m     27\u001b[0m     NumberCounts,\n\u001b[1;32m     28\u001b[0m )\n\u001b[1;32m     29\u001b[0m \u001b[38;5;28;01mfrom\u001b[39;00m \u001b[38;5;21;01mfirecrown\u001b[39;00m\u001b[38;5;21;01m.\u001b[39;00m\u001b[38;5;21;01mlikelihood\u001b[39;00m\u001b[38;5;21;01m.\u001b[39;00m\u001b[38;5;21;01mstatistic\u001b[39;00m \u001b[38;5;28;01mimport\u001b[39;00m (\n\u001b[1;32m     30\u001b[0m     DataVector,\n\u001b[1;32m     31\u001b[0m     Statistic,\n\u001b[1;32m     32\u001b[0m     TheoryVector,\n\u001b[1;32m     33\u001b[0m )\n",
      "File \u001b[0;32m~/Documents/UCL/firecrown/firecrown/likelihood/weak_lensing.py:28\u001b[0m\n\u001b[1;32m     19\u001b[0m \u001b[38;5;28;01mfrom\u001b[39;00m \u001b[38;5;21;01mfirecrown\u001b[39;00m \u001b[38;5;28;01mimport\u001b[39;00m parameters\n\u001b[1;32m     20\u001b[0m \u001b[38;5;28;01mfrom\u001b[39;00m \u001b[38;5;21;01mfirecrown\u001b[39;00m\u001b[38;5;21;01m.\u001b[39;00m\u001b[38;5;21;01mlikelihood\u001b[39;00m\u001b[38;5;21;01m.\u001b[39;00m\u001b[38;5;21;01msource\u001b[39;00m \u001b[38;5;28;01mimport\u001b[39;00m (\n\u001b[1;32m     21\u001b[0m     SourceGalaxy,\n\u001b[1;32m     22\u001b[0m     SourceGalaxyArgs,\n\u001b[0;32m   (...)\u001b[0m\n\u001b[1;32m     26\u001b[0m     Tracer,\n\u001b[1;32m     27\u001b[0m )\n\u001b[0;32m---> 28\u001b[0m \u001b[38;5;28;01mfrom\u001b[39;00m \u001b[38;5;21;01mfirecrown\u001b[39;00m\u001b[38;5;21;01m.\u001b[39;00m\u001b[38;5;21;01mmetadata\u001b[39;00m\u001b[38;5;21;01m.\u001b[39;00m\u001b[38;5;21;01mtwo_point\u001b[39;00m \u001b[38;5;28;01mimport\u001b[39;00m InferredGalaxyZDist\n\u001b[1;32m     29\u001b[0m \u001b[38;5;28;01mfrom\u001b[39;00m \u001b[38;5;21;01mfirecrown\u001b[39;00m\u001b[38;5;21;01m.\u001b[39;00m\u001b[38;5;21;01mmodeling_tools\u001b[39;00m \u001b[38;5;28;01mimport\u001b[39;00m ModelingTools\n\u001b[1;32m     30\u001b[0m \u001b[38;5;28;01mfrom\u001b[39;00m \u001b[38;5;21;01mfirecrown\u001b[39;00m\u001b[38;5;21;01m.\u001b[39;00m\u001b[38;5;21;01mparameters\u001b[39;00m \u001b[38;5;28;01mimport\u001b[39;00m ParamsMap\n",
      "File \u001b[0;32m~/Documents/UCL/firecrown/firecrown/metadata/two_point.py:59\u001b[0m\n\u001b[1;32m     47\u001b[0m \u001b[38;5;66;03m# TwoPointCellsIndex is a type used to create intermediate objects when reading\u001b[39;00m\n\u001b[1;32m     48\u001b[0m \u001b[38;5;66;03m# SACC objects. They should not be seen directly by users of Firecrown.\u001b[39;00m\n\u001b[1;32m     49\u001b[0m TwoPointCellsIndex \u001b[38;5;241m=\u001b[39m TypedDict(\n\u001b[1;32m     50\u001b[0m     \u001b[38;5;124m\"\u001b[39m\u001b[38;5;124mTwoPointCellsIndex\u001b[39m\u001b[38;5;124m\"\u001b[39m,\n\u001b[1;32m     51\u001b[0m     {\n\u001b[0;32m   (...)\u001b[0m\n\u001b[1;32m     55\u001b[0m     },\n\u001b[1;32m     56\u001b[0m )\n\u001b[1;32m     58\u001b[0m GALAXY_SOURCE_TYPES \u001b[38;5;241m=\u001b[39m (\n\u001b[0;32m---> 59\u001b[0m     \u001b[43mGalaxies\u001b[49m\u001b[38;5;241m.\u001b[39mSHEAR_E,\n\u001b[1;32m     60\u001b[0m     Galaxies\u001b[38;5;241m.\u001b[39mSHEAR_T,\n\u001b[1;32m     61\u001b[0m     Galaxies\u001b[38;5;241m.\u001b[39mSHEAR_MINUS,\n\u001b[1;32m     62\u001b[0m     Galaxies\u001b[38;5;241m.\u001b[39mSHEAR_PLUS,\n\u001b[1;32m     63\u001b[0m )\n\u001b[1;32m     64\u001b[0m GALAXY_LENS_TYPES \u001b[38;5;241m=\u001b[39m (Galaxies\u001b[38;5;241m.\u001b[39mCOUNTS,)\n\u001b[1;32m     66\u001b[0m \u001b[38;5;28;01mdef\u001b[39;00m \u001b[38;5;21m_extract_all_candidate_data_types\u001b[39m(\n\u001b[1;32m     67\u001b[0m     data_points: \u001b[38;5;28mlist\u001b[39m[sacc\u001b[38;5;241m.\u001b[39mDataPoint],\n\u001b[1;32m     68\u001b[0m     include_maybe_types: \u001b[38;5;28mbool\u001b[39m \u001b[38;5;241m=\u001b[39m \u001b[38;5;28;01mFalse\u001b[39;00m,\n\u001b[1;32m     69\u001b[0m ) \u001b[38;5;241m-\u001b[39m\u001b[38;5;241m>\u001b[39m \u001b[38;5;28mdict\u001b[39m[\u001b[38;5;28mstr\u001b[39m, \u001b[38;5;28mset\u001b[39m[Measurement]]:\n",
      "\u001b[0;31mNameError\u001b[0m: name 'Galaxies' is not defined"
     ]
    }
   ],
   "source": [
    "from firecrown.likelihood.two_point import TwoPoint\n",
    "from firecrown.likelihood.weak_lensing import WeakLensingFactory\n",
    "from firecrown.likelihood.number_counts import NumberCountsFactory\n",
    "from firecrown.utils import base_model_from_yaml\n",
    "\n",
    "weak_lensing_yaml = \"\"\"\n",
    "per_bin_systematics:\n",
    "- type: MultiplicativeShearBiasFactory\n",
    "- type: PhotoZShiftFactory\n",
    "global_systematics:\n",
    "- type: LinearAlignmentSystematicFactory\n",
    "  alphag: 1.0\n",
    "\"\"\"\n",
    "number_counts_yaml = \"\"\"\n",
    "per_bin_systematics:\n",
    "- type: PhotoZShiftFactory\n",
    "global_systematics: []\n",
    "\"\"\"\n",
    "\n",
    "weak_lensing_factory = base_model_from_yaml(WeakLensingFactory, weak_lensing_yaml)\n",
    "number_counts_factory = base_model_from_yaml(NumberCountsFactory, number_counts_yaml)\n",
    "\n",
    "two_point_list = TwoPoint.from_metadata_only_real(\n",
    "    metadata=all_meta, wl_factory=weak_lensing_factory, nc_factory=number_counts_factory\n",
    ")"
   ]
  },
  {
   "cell_type": "code",
   "execution_count": null,
   "metadata": {},
   "outputs": [],
   "source": [
    "theory= []\n",
    "for tp in two_point_list:\n",
    "    theory.append(np.array(tp.compute_theory_vector(tools)))"
   ]
  },
  {
   "cell_type": "code",
   "execution_count": 8,
   "metadata": {},
   "outputs": [
    {
     "ename": "NameError",
     "evalue": "name 'theory' is not defined",
     "output_type": "error",
     "traceback": [
      "\u001b[0;31m---------------------------------------------------------------------------\u001b[0m",
      "\u001b[0;31mNameError\u001b[0m                                 Traceback (most recent call last)",
      "Cell \u001b[0;32mIn[8], line 1\u001b[0m\n\u001b[0;32m----> 1\u001b[0m theory \u001b[38;5;241m=\u001b[39m np\u001b[38;5;241m.\u001b[39mconcatenate(\u001b[43mtheory\u001b[49m)\n",
      "\u001b[0;31mNameError\u001b[0m: name 'theory' is not defined"
     ]
    }
   ],
   "source": [
    "theory = np.concatenate(theory)"
   ]
  },
  {
   "cell_type": "code",
   "execution_count": 9,
   "metadata": {},
   "outputs": [
    {
     "ename": "NameError",
     "evalue": "name 'cle' is not defined",
     "output_type": "error",
     "traceback": [
      "\u001b[0;31m---------------------------------------------------------------------------\u001b[0m",
      "\u001b[0;31mNameError\u001b[0m                                 Traceback (most recent call last)",
      "Cell \u001b[0;32mIn[9], line 1\u001b[0m\n\u001b[0;32m----> 1\u001b[0m t_cle \u001b[38;5;241m=\u001b[39m pacc\u001b[38;5;241m.\u001b[39mClTheoryEnsemble(\u001b[43mcle\u001b[49m, theory, label\u001b[38;5;241m=\u001b[39m\u001b[38;5;124m\"\u001b[39m\u001b[38;5;124mDES Y1 real space\u001b[39m\u001b[38;5;124m\"\u001b[39m)\n",
      "\u001b[0;31mNameError\u001b[0m: name 'cle' is not defined"
     ]
    }
   ],
   "source": [
    "t_cle = pacc.ClTheoryEnsemble(cle, theory, label=\"DES Y1 real space\")"
   ]
  },
  {
   "cell_type": "code",
   "execution_count": 10,
   "metadata": {},
   "outputs": [
    {
     "ename": "NameError",
     "evalue": "name 'cle' is not defined",
     "output_type": "error",
     "traceback": [
      "\u001b[0;31m---------------------------------------------------------------------------\u001b[0m",
      "\u001b[0;31mNameError\u001b[0m                                 Traceback (most recent call last)",
      "Cell \u001b[0;32mIn[10], line 1\u001b[0m\n\u001b[0;32m----> 1\u001b[0m pacc\u001b[38;5;241m.\u001b[39mplot_cls([\u001b[43mcle\u001b[49m, t_cle], cle\u001b[38;5;241m.\u001b[39mpairs)\n",
      "\u001b[0;31mNameError\u001b[0m: name 'cle' is not defined"
     ]
    }
   ],
   "source": [
    "pacc.plot_cls([cle, t_cle], cle.pairs)"
   ]
  },
  {
   "cell_type": "code",
   "execution_count": null,
   "metadata": {},
   "outputs": [
    {
     "data": {
      "text/plain": [
       "TheoryVector([0.03717781, 0.0298698 , 0.02329628, 0.01756474, 0.0127223 ,\n",
       "              0.00878257, 0.00571851, 0.00346082, 0.00190634, 0.00093511])"
      ]
     },
     "execution_count": 15,
     "metadata": {},
     "output_type": "execute_result"
    }
   ],
   "source": [
    "two_point_list[1].sacc_tracers\n",
    "two_point_list[1].compute_theory_vector(tools)"
   ]
  },
  {
   "cell_type": "code",
   "execution_count": null,
   "metadata": {},
   "outputs": [],
   "source": [
    "from firecrown.likelihood.gaussian import ConstGaussian\n",
    "\n",
    "likelihood = ConstGaussian(two_point_list)\n",
    "\n",
    "likelihood.read(s)"
   ]
  },
  {
   "cell_type": "code",
   "execution_count": null,
   "metadata": {},
   "outputs": [],
   "source": [
    "from firecrown.parameters import ParamsMap\n",
    "\n",
    "req_params = likelihood.required_parameters()\n",
    "\n",
    "default_values = req_params.get_default_values()\n",
    "params = ParamsMap(default_values)"
   ]
  },
  {
   "cell_type": "code",
   "execution_count": null,
   "metadata": {},
   "outputs": [],
   "source": [
    "import pyccl\n",
    "\n",
    "from firecrown.modeling_tools import ModelingTools\n",
    "\n",
    "ccl_cosmo = pyccl.CosmologyVanillaLCDM()\n",
    "ccl_cosmo.compute_nonlin_power()\n",
    "\n",
    "tools = ModelingTools()\n",
    "tools.update(params)\n",
    "tools.prepare(ccl_cosmo)\n",
    "\n",
    "likelihood.update(params)"
   ]
  },
  {
   "cell_type": "code",
   "execution_count": null,
   "metadata": {},
   "outputs": [
    {
     "name": "stdout",
     "output_type": "stream",
     "text": [
      "Loglike from metadata only: -2742.7387822149185\n"
     ]
    }
   ],
   "source": [
    "print(f\"Loglike from metadata only: {likelihood.compute_loglike(tools)}\")"
   ]
  },
  {
   "cell_type": "code",
   "execution_count": null,
   "metadata": {},
   "outputs": [],
   "source": []
  }
 ],
 "metadata": {
  "kernelspec": {
   "display_name": "tutorials",
   "language": "python",
   "name": "python3"
  },
  "language_info": {
   "codemirror_mode": {
    "name": "ipython",
    "version": 3
   },
   "file_extension": ".py",
   "mimetype": "text/x-python",
   "name": "python",
   "nbconvert_exporter": "python",
   "pygments_lexer": "ipython3",
   "version": "3.12.4"
  }
 },
 "nbformat": 4,
 "nbformat_minor": 2
}
