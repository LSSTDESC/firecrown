{
 "cells": [
  {
   "cell_type": "markdown",
   "metadata": {},
   "source": [
    "core"
   ]
  },
  {
   "cell_type": "code",
   "execution_count": 1,
   "metadata": {
    "jupyter": {
     "source_hidden": true
    }
   },
   "outputs": [],
   "source": [
    "\"\"\"The classes in this file define the firecrown-CCL API.\n",
    "\n",
    "Some Notes:\n",
    "\n",
    " - Each subclass which inherits from a given class is expected to define any\n",
    "   methods defined in the parent with the same call signature. See the base\n",
    "   class docstrings for additional instructions.\n",
    " - If a base class includes a class-level doc string, then\n",
    "   the `__init__` function of the subclass should define at least those\n",
    "   arguments and/or keyword arguments in the class-level doc string.\n",
    " - Attributes ending with an underscore are set after the call to\n",
    "   `apply`/`compute`/`render`.\n",
    " - Attributes define in the `__init__` method should be considered constant\n",
    "   and not changed after instantiation.\n",
    " - Objects inheriting from `Systematic` should only adjust source/statistic\n",
    "   properties ending with an underscore.\n",
    " - The `read` methods are called after all objects are made and are used to\n",
    "   read any additional data.\n",
    "\"\"\"\n",
    "import numpy as np\n",
    "\n",
    "\n",
    "class Statistic(object):\n",
    "    \"\"\"A statistic (e.g., two-point function, mass function, etc.).\n",
    "\n",
    "    Parameters\n",
    "    ----------\n",
    "    sources : list of str\n",
    "        A list of the sources needed to compute this statistic.\n",
    "    systematics : list of str, optional\n",
    "        A list of the statistics-level systematics to apply to the statistic.\n",
    "        The default of `None` implies no systematics.\n",
    "    \"\"\"\n",
    "    def read(self, sacc_data, sources):\n",
    "        \"\"\"Read the data for this statistic from the SACC file.\n",
    "\n",
    "        Parameters\n",
    "        ----------\n",
    "        sacc_data : sacc.Sacc\n",
    "            The data in the sacc format.\n",
    "        sources : dict\n",
    "            A dictionary mapping sources to their objects. These sources do\n",
    "            not have to have been rendered.\n",
    "        \"\"\"\n",
    "        pass\n",
    "\n",
    "    def compute(self, cosmo, params, sources, systematics=None):\n",
    "        \"\"\"Compute a statistic from sources, applying any systematics.\n",
    "\n",
    "        Parameters\n",
    "        ----------\n",
    "        cosmo : pyccl.Cosmology\n",
    "            A pyccl.Cosmology object.\n",
    "        params : dict\n",
    "            A dictionary mapping parameter names to their current values.\n",
    "        sources : dict\n",
    "            A dictionary mapping sources to their objects. The sources must\n",
    "            already have been rendered by calling `render` on them.\n",
    "        systematics : dict\n",
    "            A dictionary mapping systematic names to their objects. The\n",
    "            default of `None` corresponds to no systematics.\n",
    "        \"\"\"\n",
    "        raise NotImplementedError(\n",
    "            \"Method `compute` is not implemented!\")\n",
    "\n",
    "\n",
    "class Systematic(object):\n",
    "    \"\"\"The systematic (e.g., shear biases, photo-z shifts, etc.).\"\"\"\n",
    "    def apply(self, cosmo, params, source_or_statistic):\n",
    "        \"\"\"Apply systematics to a source.\n",
    "\n",
    "        Parameters\n",
    "        ----------\n",
    "        cosmo : pyccl.Cosmology\n",
    "            A pyccl.Cosmology object.\n",
    "        params : dict\n",
    "            A dictionary mapping parameter names to their current values.\n",
    "        source_or_statistic : a source or statistic object\n",
    "            The source or statistic to which apply systematics.\n",
    "        \"\"\"\n",
    "        raise NotImplementedError(\n",
    "            \"Method `apply` is not implemented!\")\n",
    "\n",
    "\n",
    "class Source():\n",
    "    \"\"\"The source (e.g., a sample of lenses).\n",
    "\n",
    "    Parameters\n",
    "    ----------\n",
    "    scale : 1.0, optional\n",
    "        The default scale for this source.\n",
    "    systematics : list of str, optional\n",
    "        A list of the source-level systematics to apply to the source. The\n",
    "        default of `None` implies no systematics.\n",
    "    \"\"\"\n",
    "    def read(self, sacc_data):\n",
    "        \"\"\"Read the data for this source from the SACC file.\n",
    "\n",
    "        Parameters\n",
    "        ----------\n",
    "        sacc_data : sacc.Sacc\n",
    "            The data in the sacc format.\n",
    "        \"\"\"\n",
    "        pass\n",
    "\n",
    "    def render(self, cosmo, params, systematics=None):\n",
    "        \"\"\"Render a source by applying systematics.\n",
    "\n",
    "        This method should compute the final scale factor for the source\n",
    "        as `scale_` and then apply any systematics.\n",
    "\n",
    "        Parameters\n",
    "        ----------\n",
    "        cosmo : pyccl.Cosmology\n",
    "            A pyccl.Cosmology object.\n",
    "        params : dict\n",
    "            A dictionary mapping parameter names to their current values.\n",
    "        systematics : dict, optional\n",
    "            A dictionary mapping systematic names to their objects. The\n",
    "            default of `None` corresponds to no systematics.\n",
    "        \"\"\"\n",
    "        raise NotImplementedError(\n",
    "            \"Method `render` is not implemented!\")\n",
    "\n",
    "\n",
    "class LogLike(object):\n",
    "    \"\"\"The log-likelihood (e.g., a Gaussian, T-distribution, etc.).\n",
    "\n",
    "    Parameters\n",
    "    ----------\n",
    "    data_vector : list of str\n",
    "        A list of the statistics in the config file in the order you want them\n",
    "        to appear in the covariance matrix.\n",
    "\n",
    "    Attributes\n",
    "    ----------\n",
    "    cov : array-like, shape (n, n)\n",
    "        The covariance matrix for the data vector.\n",
    "    inv_cov : array-like, shape (n, n)\n",
    "        The inverse of the covariance matrix.\n",
    "    \"\"\"\n",
    "    def read(self, sacc_data, sources, statistics):\n",
    "        \"\"\"Read the covariance matrirx for this likelihood from the SACC file.\n",
    "\n",
    "        Parameters\n",
    "        ----------\n",
    "        sacc_data : sacc.Sacc\n",
    "            The data in the sacc format.\n",
    "        sources : dict\n",
    "            A dictionary mapping sources to their objects. These sources do\n",
    "            not have to have been rendered.\n",
    "        statistics : dict\n",
    "            A dictionary mapping statistics to their objects. These statistics do\n",
    "            not have to have been rendered.\n",
    "        \"\"\"\n",
    "        pass\n",
    "\n",
    "    def compute(self, data, theory, **kwargs):\n",
    "        \"\"\"Compute the log-likelihood.\n",
    "\n",
    "        Parameters\n",
    "        ----------\n",
    "        data : dict of arrays\n",
    "            A dictionary mapping the names of the statistics to their\n",
    "            values in the data.\n",
    "        theory : dict of arrays\n",
    "            A dictionary mapping the names of the statistics to their\n",
    "            predictions.\n",
    "        **kwargs : extra keyword arguments\n",
    "            Any extra keyword arguments can be used by subclasses.\n",
    "\n",
    "        Returns\n",
    "        -------\n",
    "        loglike : float\n",
    "            The log-likelihood.\n",
    "        \"\"\"\n",
    "        raise NotImplementedError(\n",
    "            \"Method `compute_loglike` is not implemented!\")\n",
    "\n",
    "    def assemble_data_vector(self, data):\n",
    "        \"\"\"Compute the log-likelihood.\n",
    "\n",
    "        Parameters\n",
    "        ----------\n",
    "        data : dict of arrays\n",
    "            A dictionary mapping the names of the statistics to their\n",
    "            values.\n",
    "\n",
    "        Returns\n",
    "        -------\n",
    "        data_vector : array-like\n",
    "            The data vector.\n",
    "        \"\"\"\n",
    "        dv = []\n",
    "        for stat in self.data_vector:\n",
    "            dv.append(np.atleast_1d(data[stat]))\n",
    "        return np.concatenate(dv, axis=0)"
   ]
  },
  {
   "cell_type": "code",
   "execution_count": 31,
   "metadata": {},
   "outputs": [],
   "source": [
    "import copy\n",
    "import functools\n",
    "import warnings\n",
    "import healpy as hp\n",
    "import numpy as np\n",
    "import pyccl as ccl"
   ]
  },
  {
   "cell_type": "markdown",
   "metadata": {},
   "source": [
    "source"
   ]
  },
  {
   "cell_type": "code",
   "execution_count": 59,
   "metadata": {
    "jupyter": {
     "source_hidden": true
    }
   },
   "outputs": [],
   "source": [
    "import numpy as np\n",
    "from scipy.interpolate import Akima1DInterpolator\n",
    "\n",
    "import pyccl as ccl\n",
    "\n",
    "\n",
    "\n",
    "\n",
    "__all__ = ['WLSource', 'NumberCountsSource', 'ClusterSource', 'CMBLsource']\n",
    "\n",
    "\n",
    "class WLSource(Source):\n",
    "\n",
    "    def __init__(\n",
    "            self, sacc_tracer, ia_bias=None, scale=1.0, systematics=None):\n",
    "        self.sacc_tracer = sacc_tracer\n",
    "        self.ia_bias = ia_bias\n",
    "        self.systematics = systematics or []\n",
    "        self.scale = scale\n",
    "\n",
    "    def read(self, sacc_data):\n",
    "\n",
    "        tracer = sacc_data.get_tracer(self.sacc_tracer)\n",
    "        z = getattr(tracer, 'z').copy().flatten()\n",
    "        nz = getattr(tracer, 'nz').copy().flatten()\n",
    "        inds = np.argsort(z)\n",
    "        z = z[inds]\n",
    "        nz = nz[inds]\n",
    "        self.z_orig = z\n",
    "        self.dndz_orig = nz\n",
    "        self.dndz_interp = Akima1DInterpolator(self.z_orig, self.dndz_orig)\n",
    "\n",
    "    def render(self, cosmo, params, systematics=None):\n",
    "\n",
    "        systematics = systematics or {}\n",
    "\n",
    "        self.z_ = self.z_orig.copy()\n",
    "        self.dndz_ = self.dndz_orig.copy()\n",
    "        self.scale_ = self.scale\n",
    "        if self.ia_bias is not None:\n",
    "            self.ia_bias_ = np.ones_like(self.z_) * params[self.ia_bias]\n",
    "\n",
    "        for systematic in self.systematics:\n",
    "            systematics[systematic].apply(cosmo, params, self)\n",
    "\n",
    "        if self.ia_bias is not None:\n",
    "            tracer = ccl.WeakLensingTracer(\n",
    "                cosmo,\n",
    "                dndz=(self.z_, self.dndz_),\n",
    "                ia_bias=(self.z_, self.ia_bias_))\n",
    "        else:\n",
    "            tracer = ccl.WeakLensingTracer(\n",
    "                cosmo,\n",
    "                dndz=(self.z_, self.dndz_))\n",
    "        self.tracer_ = tracer\n",
    "\n",
    "\n",
    "class NumberCountsSource(Source):\n",
    "\n",
    "    def __init__(\n",
    "            self, sacc_tracer, bias, has_rsd=False,\n",
    "            mag_bias=None, scale=1.0, systematics=None):\n",
    "        self.sacc_tracer = sacc_tracer\n",
    "        self.bias = bias\n",
    "        self.has_rsd = has_rsd\n",
    "        self.mag_bias = mag_bias\n",
    "        self.systematics = systematics or []\n",
    "        self.scale = scale\n",
    "\n",
    "    def read(self, sacc_data):\n",
    "        \n",
    "        tracer = sacc_data.get_tracer(self.sacc_tracer)\n",
    "        z = getattr(tracer, 'z').copy().flatten()\n",
    "        nz = getattr(tracer, 'nz').copy().flatten()\n",
    "        inds = np.argsort(z)\n",
    "        z = z[inds]\n",
    "        nz = nz[inds]\n",
    "        self.z_orig = z\n",
    "        self.dndz_orig = nz\n",
    "        self.dndz_interp = Akima1DInterpolator(self.z_orig, self.dndz_orig)\n",
    "\n",
    "    def render(self, cosmo, params, systematics=None):\n",
    "\n",
    "        systematics = systematics or {}\n",
    "\n",
    "        self.z_ = self.z_orig.copy()\n",
    "        self.dndz_ = self.dndz_orig.copy()\n",
    "        self.scale_ = self.scale\n",
    "        self.bias_ = np.ones_like(self.z_) * params[self.bias]\n",
    "\n",
    "        if self.mag_bias is not None:\n",
    "            self.mag_bias_ = np.ones_like(self.z_) * params[self.mag_bias]\n",
    "\n",
    "        for systematic in self.systematics:\n",
    "            systematics[systematic].apply(cosmo, params, self)\n",
    "\n",
    "        if self.mag_bias is not None:\n",
    "            tracer = ccl.NumberCountsTracer(\n",
    "                cosmo,\n",
    "                has_rsd=self.has_rsd,\n",
    "                dndz=(self.z_, self.dndz_),\n",
    "                bias=(self.z_, self.bias_),\n",
    "                mag_bias=(self.z_, self.mag_bias_))\n",
    "        else:\n",
    "            tracer = ccl.NumberCountsTracer(\n",
    "                cosmo,\n",
    "                has_rsd=self.has_rsd,\n",
    "                dndz=(self.z_, self.dndz_),\n",
    "                bias=(self.z_, self.bias_))\n",
    "        self.tracer_ = tracer\n",
    "\n",
    "\n",
    "class CMBLSource(Source):\n",
    "    def __init__(self, sacc_tracer, scale=1.0, systematics=None):\n",
    "        self.sacc_tracer = sacc_tracer\n",
    "        self.scale = scale\n",
    "        self.systematics = systematics or []\n",
    "        \n",
    "    def read(self, sacc_data):\n",
    "        tracer = sacc_data.get_tracer(self.sacc_tracer)\n",
    "        ell = getattr(tracer, 'ell').copy().flatten()\n",
    "        beam = getattr(tracer, 'beam').copy().flatten()\n",
    "        inds = np.argsort(ell)\n",
    "        ell = ell[inds]\n",
    "        beam = beam[inds]\n",
    "        self.ell_orig = ell\n",
    "        self.beam_orig = beam\n",
    "        \n",
    "    def render(self, cosmo, params, systematics=None):\n",
    "        systematics = systematics or {}\n",
    "        \n",
    "        for systematic in self.systematics:\n",
    "            systematics[systematic].apply(cosmo, params, self)\n",
    "\n",
    "        tracer = ccl.CMBLensingTracer(cosmo,1100.)\n",
    "        self.tracer_ = tracer\n",
    "        self.scale_ = self.scale\n",
    "        "
   ]
  },
  {
   "cell_type": "markdown",
   "metadata": {},
   "source": [
    "2 point"
   ]
  },
  {
   "cell_type": "code",
   "execution_count": 10,
   "metadata": {
    "jupyter": {
     "source_hidden": true
    }
   },
   "outputs": [],
   "source": [
    "import copy\n",
    "import functools\n",
    "import warnings\n",
    "\n",
    "import numpy as np\n",
    "import pyccl as ccl\n",
    "\n",
    "# only supported types are here, any thing else will throw\n",
    "# a value error\n",
    "SACC_DATA_TYPE_TO_CCL_KIND = {\n",
    "    \"galaxy_density_cl\": 'cl',\n",
    "    \"galaxy_density_xi\": 'gg',\n",
    "    \"galaxy_shearDensity_cl_e\": 'cl',\n",
    "    \"galaxy_shearDensity_xi_t\": 'gl',\n",
    "    \"galaxy_shear_cl_ee\": 'cl',\n",
    "    \"galaxy_shear_xi_minus\": 'l-',\n",
    "    \"galaxy_shear_xi_plus\": 'l+',\n",
    "    \"cmbGalaxy_convergenceDensity_xi\": 'gg',\n",
    "}\n",
    "\n",
    "\n",
    "ELL_FOR_XI_DEFAULTS = dict(min=2, mid=50, max=6e4, n_log=200)\n",
    "\n",
    "\n",
    "def _ell_for_xi(*, min, mid, max, n_log):\n",
    "    \"\"\"Build an array of ells to sample the power spectrum for real-space\n",
    "    predictions.\n",
    "    \"\"\"\n",
    "    return np.concatenate((\n",
    "        np.linspace(min, mid-1, mid-min),\n",
    "        np.logspace(np.log10(mid), np.log10(max), n_log)))\n",
    "\n",
    "\n",
    "def _generate_ell_or_theta(*, min, max, n, binning='log'):\n",
    "    if binning == 'log':\n",
    "        edges = np.logspace(np.log10(min), np.log10(max), n+1)\n",
    "        return np.sqrt(edges[1:] * edges[:-1])\n",
    "    else:\n",
    "        edges = np.linspace(min, max, n+1)\n",
    "        return (edges[1:] + edges[:-1]) / 2.0\n",
    "\n",
    "\n",
    "@functools.lru_cache(maxsize=128)\n",
    "def _cached_angular_cl(cosmo, tracers, ells):\n",
    "    return ccl.angular_cl(cosmo, *tracers, np.array(ells))\n",
    "\n",
    "\n",
    "class TwoPointStatistic(Statistic):\n",
    "\n",
    "    def __init__(self, sacc_data_type, sources, systematics=None,\n",
    "                 ell_for_xi=None, ell_or_theta=None, ell_or_theta_min=None,\n",
    "                 ell_or_theta_max=None):\n",
    "        self.sacc_data_type = sacc_data_type\n",
    "        self.sources = sources\n",
    "        self.systematics = systematics or []\n",
    "        self.ell_for_xi = copy.deepcopy(ELL_FOR_XI_DEFAULTS)\n",
    "        if ell_for_xi is not None:\n",
    "            self.ell_for_xi.update(ell_for_xi)\n",
    "        self.ell_or_theta = ell_or_theta\n",
    "        self.ell_or_theta_min = ell_or_theta_min\n",
    "        self.ell_or_theta_max = ell_or_theta_max\n",
    "\n",
    "        if self.sacc_data_type in SACC_DATA_TYPE_TO_CCL_KIND:\n",
    "            self.ccl_kind = SACC_DATA_TYPE_TO_CCL_KIND[self.sacc_data_type]\n",
    "        else:\n",
    "            raise ValueError(\n",
    "                \"The SACC data type '%s' is not supported!\" % sacc_data_type)\n",
    "\n",
    "        if len(sources) != 2:\n",
    "            raise ValueError(\n",
    "                \"A firecrown 2pt statistic should only have two \"\n",
    "                \"sources, you sent '%s'!\" % self.sources)\n",
    "\n",
    "    def read(self, sacc_data, sources):\n",
    "\n",
    "        tracers = [sources[src].sacc_tracer for src in self.sources]\n",
    "        if len(tracers) != 2:\n",
    "            raise RuntimeError(\n",
    "                \"A firecrown 2pt statistic should only have two \"\n",
    "                \"tracers, you sent '%s'!\" % self.sources)\n",
    "\n",
    "        # sacc is tracer order sensitive\n",
    "        # so we try again if we didn't find anything\n",
    "        for order in [1, -1]:\n",
    "            tracers = tracers[::order]\n",
    "\n",
    "            if self.ccl_kind == 'cl':\n",
    "                _ell_or_theta, _stat = sacc_data.get_ell_cl(\n",
    "                    self.sacc_data_type, *tracers, return_cov=False)\n",
    "            else:\n",
    "                _ell_or_theta, _stat = sacc_data.get_theta_xi(\n",
    "                    self.sacc_data_type, *tracers, return_cov=False)\n",
    "\n",
    "            if len(_ell_or_theta) > 0 and len(_stat) > 0:\n",
    "                break\n",
    "\n",
    "        if self.ell_or_theta is None and (len(_ell_or_theta) == 0 or len(_stat) == 0):\n",
    "            raise RuntimeError(\n",
    "                \"Tracers '%s' have no 2pt data in the SACC file \"\n",
    "                \"and no input ell or theta values were given!\" % tracers)\n",
    "        elif (\n",
    "            self.ell_or_theta is not None\n",
    "            and len(_ell_or_theta) > 0\n",
    "            and len(_stat) > 0\n",
    "        ):\n",
    "            warnings.warn(\n",
    "                \"Tracers '%s' have 2pt data and you have specified `ell_or_theta` \"\n",
    "                \"in the configuration. `ell_or_theta` is being ignored!\" % tracers,\n",
    "                warnings.UserWarning,\n",
    "                stacklevel=2,\n",
    "            )\n",
    "\n",
    "        self.sacc_tracers = tuple(tracers)\n",
    "\n",
    "        # at this point we default to the values in the sacc file\n",
    "        if len(_ell_or_theta) == 0 or len(_stat) == 0:\n",
    "            _ell_or_theta = _generate_ell_or_theta(**self.ell_or_theta)\n",
    "            _stat = np.zeros_like(_ell_or_theta)\n",
    "            self.sacc_inds = None\n",
    "        else:\n",
    "            self.sacc_inds = np.atleast_1d(sacc_data.indices(\n",
    "                self.sacc_data_type,\n",
    "                self.sacc_tracers))\n",
    "\n",
    "        if self.ell_or_theta_min is not None:\n",
    "            q = np.where(_ell_or_theta >= self.ell_or_theta_min)\n",
    "            _ell_or_theta = _ell_or_theta[q]\n",
    "            _stat = _stat[q]\n",
    "            if self.sacc_inds is not None:\n",
    "                self.sacc_inds = self.sacc_inds[q]\n",
    "\n",
    "        if self.ell_or_theta_max is not None:\n",
    "            q = np.where(_ell_or_theta <= self.ell_or_theta_max)\n",
    "            _ell_or_theta = _ell_or_theta[q]\n",
    "            _stat = _stat[q]\n",
    "            if self.sacc_inds is not None:\n",
    "                self.sacc_inds = self.sacc_inds[q]\n",
    "\n",
    "        # I don't think we need these copies, but being safe here.\n",
    "        self._ell_or_theta = _ell_or_theta.copy()\n",
    "        self._stat = _stat.copy()\n",
    "\n",
    "    def compute(self, cosmo, params, sources, systematics=None):\n",
    "\n",
    "        self.ell_or_theta_ = self._ell_or_theta.copy()\n",
    "\n",
    "        tracers = [sources[k].tracer_ for k in self.sources]\n",
    "        self.scale_ = np.prod([sources[k].scale_ for k in self.sources])\n",
    "\n",
    "        if self.ccl_kind == 'cl':\n",
    "            self.predicted_statistic_ = _cached_angular_cl(\n",
    "                cosmo, tuple(tracers), tuple(self.ell_or_theta_.tolist())\n",
    "            ) * self.scale_\n",
    "        else:\n",
    "            ells = _ell_for_xi(**self.ell_for_xi)\n",
    "            cells = _cached_angular_cl(\n",
    "                cosmo, tuple(tracers), tuple(ells.tolist()))\n",
    "            self.predicted_statistic_ = ccl.correlation(\n",
    "                cosmo, ells, cells, self.ell_or_theta_ / 60,\n",
    "                corr_type=self.ccl_kind) * self.scale_\n",
    "\n",
    "        systematics = systematics or {}\n",
    "        for systematic in self.systematics:\n",
    "            systematics[systematic].apply(cosmo, params, self)\n",
    "\n",
    "        if not hasattr(self, '_stat'):\n",
    "            self.measured_statistic_ = self.predicted_statistic_\n",
    "        else:\n",
    "            self.measured_statistic_ = self._stat.copy()"
   ]
  },
  {
   "cell_type": "code",
   "execution_count": 49,
   "metadata": {},
   "outputs": [],
   "source": [
    "fname = '/global/u1/z/zhzhuoqi/MCMC/sacc/NK20-40.fits'"
   ]
  },
  {
   "cell_type": "code",
   "execution_count": 50,
   "metadata": {},
   "outputs": [],
   "source": [
    "import sacc\n",
    "s = sacc.Sacc.load_fits(fname)"
   ]
  },
  {
   "cell_type": "code",
   "execution_count": 51,
   "metadata": {},
   "outputs": [],
   "source": [
    "cosmo=ccl.Cosmology(Omega_c=0.21, Omega_b=0.045, Omega_g=0, Omega_k=0,\n",
    "                              h=0.71, sigma8=0.80, n_s=0.964, Neff=0, m_nu=0.0,\n",
    "                              w0=-1, wa=0, T_CMB=2.7, transfer_function='bbks',\n",
    "                              mass_function='tinker')\n",
    "param = dict({'Omega_c':0.21, 'Omega_b':0.045, 'h':0.71, 'sigma8':0.80, 'n_s':0.964, 'bias':1})"
   ]
  },
  {
   "cell_type": "code",
   "execution_count": 60,
   "metadata": {},
   "outputs": [],
   "source": [
    "CMBsource = CMBLSource('ck')\n",
    "CMBsource.read(s)\n",
    "CMBsource.render(cosmo, param)"
   ]
  },
  {
   "cell_type": "code",
   "execution_count": 53,
   "metadata": {},
   "outputs": [],
   "source": [
    "NCsource = NumberCountsSource('gc', 'bias')\n",
    "NCsource.read(s)\n",
    "NCsource.render(cosmo, param)"
   ]
  },
  {
   "cell_type": "code",
   "execution_count": 54,
   "metadata": {},
   "outputs": [],
   "source": [
    "source_dict = dict({'cmb':CMBsource, 'nc':NCsource})\n",
    "sources = ['cmb','nc']"
   ]
  },
  {
   "cell_type": "code",
   "execution_count": 55,
   "metadata": {},
   "outputs": [],
   "source": [
    "NK = TwoPointStatistic('cmbGalaxy_convergenceDensity_xi', sources, ell_for_xi=ELL_FOR_XI_DEFAULTS )"
   ]
  },
  {
   "cell_type": "code",
   "execution_count": 56,
   "metadata": {},
   "outputs": [
    {
     "name": "stderr",
     "output_type": "stream",
     "text": [
      "/global/common/software/lsst/common/miniconda/py3.7-4.7.12.1-v2/envs/desc/lib/python3.7/site-packages/sacc/sacc.py:368: UserWarning: Empty index selected - maybe you should check the tracer order?\n",
      "  warnings.warn(\"Empty index selected - maybe you \"\n"
     ]
    }
   ],
   "source": [
    "NK.read(s, source_dict)"
   ]
  },
  {
   "cell_type": "code",
   "execution_count": 57,
   "metadata": {},
   "outputs": [
    {
     "name": "stderr",
     "output_type": "stream",
     "text": [
      "/global/common/software/lsst/common/miniconda/py3.7-4.7.12.1-v2/envs/desc/lib/python3.7/site-packages/pyccl/correlation.py:83: CCLWarning: corr_type is deprecated. Use type = NN\n",
      "  CCLWarning)\n"
     ]
    }
   ],
   "source": [
    "NK.compute(cosmo, param, source_dict, systematics=None)"
   ]
  },
  {
   "cell_type": "code",
   "execution_count": 58,
   "metadata": {},
   "outputs": [
    {
     "data": {
      "text/plain": [
       "[<matplotlib.lines.Line2D at 0x2aabeaf5cb10>]"
      ]
     },
     "execution_count": 58,
     "metadata": {},
     "output_type": "execute_result"
    },
    {
     "data": {
      "image/png": "[encoded data removed]",
      "text/plain": [
       "<Figure size 432x288 with 1 Axes>"
      ]
     },
     "metadata": {
      "needs_background": "light"
     },
     "output_type": "display_data"
    }
   ],
   "source": [
    "import matplotlib.pyplot as plt\n",
    "plt.plot(NK.predicted_statistic_)"
   ]
  },
  {
   "cell_type": "code",
   "execution_count": 35,
   "metadata": {
    "jupyter": {
     "source_hidden": true
    }
   },
   "outputs": [],
   "source": [
    "theta_deg = np.loadtxt('/global/homes/z/zhzhuoqi/MCMC/map1/all_bins/NK/data/theta_deg.txt')\n",
    "\n",
    "z = np.loadtxt('/global/homes/z/zhzhuoqi/MCMC/map1/all_bins/NK/data/z20-40.txt')\n",
    "z_h = np.loadtxt('/global/homes/z/zhzhuoqi/MCMC/map1/all_bins/NK/data/z_h20-40.txt')\n",
    "\n",
    "\n",
    "ells = np.linspace(2, 3000, 2999).astype(int)\n",
    "\n",
    "# Limber prefactors\n",
    "lf_dl = (ells+0.5)**2/np.sqrt((ells+2.)*(ells+1.)*ells*(ells-1.))\n",
    "lf_dc = (ells+0.5)**2/(ells*(ells+1.))\n",
    "lf_ll = ells*(ells+1.)/np.sqrt((ells+2.)*(ells+1.)*ells*(ells-1.))\n",
    "\n",
    "\n",
    "def correlation(theta_deg, z, z_h): \n",
    "    \n",
    "    #generate bias\n",
    "    bz=1*np.ones_like(z_h)\n",
    "\n",
    "    # Initialize tracers  \n",
    "    cosmo_cls=ccl.Cosmology(Omega_c=0.21, Omega_b=0.045, Omega_g=0, Omega_k=0,\n",
    "                              h=0.71, sigma8=0.80, n_s=0.964, Neff=0, m_nu=0.0,\n",
    "                              w0=-1, wa=0, T_CMB=2.7, transfer_function='bbks',\n",
    "                              mass_function='tinker')\n",
    "    cosmo_cls.cosmo.gsl_params.INTEGRATION_LIMBER_EPSREL = 1E-4\n",
    "    cosmo_cls.cosmo.gsl_params.INTEGRATION_EPSREL = 1E-4   \n",
    "\n",
    "    #generate tracers \n",
    "    trcrs={}\n",
    "    trcrs['nc']=ccl.NumberCountsTracer(cosmo_cls,has_rsd=False,dndz=(z,z_h),bias=(z,bz))\n",
    "    trcrs['cmbl']=ccl.CMBLensingTracer(cosmo_cls,1100.)\n",
    "\n",
    "    #CCL Power spectra\n",
    "    cl_ccl={}\n",
    "    cl_ccl['nc/cmbl']=ccl.angular_cl(cosmo_cls,trcrs['nc'],trcrs['cmbl'],ells)*lf_dc\n",
    "\n",
    "    win = hp.pixwin(4096)[:2999]\n",
    "    cl_ccl['nc/cmbl'] = cl_ccl['nc/cmbl']*win\n",
    "\n",
    "    #generate correlations from power spectrum \n",
    "    ell = ells\n",
    "    cell = cl_ccl['nc/cmbl']\n",
    "    corr = ccl.correlation(cosmo_cls, ell, cell, theta_deg, corr_type='GG', method='FFTLog')\n",
    " \n",
    "    return corr"
   ]
  },
  {
   "cell_type": "code",
   "execution_count": 36,
   "metadata": {},
   "outputs": [
    {
     "name": "stderr",
     "output_type": "stream",
     "text": [
      "/global/common/software/lsst/common/miniconda/py3.7-4.7.12.1-v2/envs/desc/lib/python3.7/site-packages/pyccl/correlation.py:83: CCLWarning: corr_type is deprecated. Use type = NN\n",
      "  CCLWarning)\n"
     ]
    }
   ],
   "source": [
    "corr_ccl = correlation(theta_deg, z, z_h)"
   ]
  },
  {
   "cell_type": "code",
   "execution_count": 37,
   "metadata": {},
   "outputs": [
    {
     "data": {
      "text/plain": [
       "[<matplotlib.lines.Line2D at 0x2aabeae76050>]"
      ]
     },
     "execution_count": 37,
     "metadata": {},
     "output_type": "execute_result"
    },
    {
     "data": {
      "image/png": "[encoded data removed]",
      "text/plain": [
       "<Figure size 432x288 with 1 Axes>"
      ]
     },
     "metadata": {
      "needs_background": "light"
     },
     "output_type": "display_data"
    }
   ],
   "source": [
    "plt.plot(corr_ccl)"
   ]
  },
  {
   "cell_type": "code",
   "execution_count": 61,
   "metadata": {},
   "outputs": [
    {
     "data": {
      "text/plain": [
       "[<matplotlib.lines.Line2D at 0x2aabeb001790>]"
      ]
     },
     "execution_count": 61,
     "metadata": {},
     "output_type": "execute_result"
    },
    {
     "data": {
      "image/png": "[encoded data removed]",
      "text/plain": [
       "<Figure size 432x288 with 1 Axes>"
      ]
     },
     "metadata": {
      "needs_background": "light"
     },
     "output_type": "display_data"
    }
   ],
   "source": [
    "plt.plot(NK.predicted_statistic_)\n",
    "plt.plot(corr_ccl)"
   ]
  },
  {
   "cell_type": "code",
   "execution_count": null,
   "metadata": {},
   "outputs": [],
   "source": []
  }
 ],
 "metadata": {
  "kernelspec": {
   "display_name": "desc-python",
   "language": "python",
   "name": "desc-python"
  },
  "language_info": {
   "codemirror_mode": {
    "name": "ipython",
    "version": 3
   },
   "file_extension": ".py",
   "mimetype": "text/x-python",
   "name": "python",
   "nbconvert_exporter": "python",
   "pygments_lexer": "ipython3",
   "version": "3.7.6"
  }
 },
 "nbformat": 4,
 "nbformat_minor": 4
}
